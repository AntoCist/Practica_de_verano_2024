{
 "cells": [
  {
   "cell_type": "markdown",
   "metadata": {},
   "source": [
    "### Distancia de luminosidad $D_L$"
   ]
  },
  {
   "cell_type": "code",
   "execution_count": 156,
   "metadata": {},
   "outputs": [],
   "source": [
    "import numpy as np\n",
    "from scipy.integrate import solve_ivp\n",
    "import matplotlib.pyplot as plt\n",
    "import math\n",
    "\n",
    "#Constantes\n",
    "H_0 = 70\n",
    "c= 3e5\n",
    "\n",
    "f = open(\"C:/Users/antoc/Downloads/PortableGit/practica2024/lcparam_full_long.txt\")\n",
    "#print(f.readlines())\n",
    "lineas = f.readlines()\n",
    "\n",
    "# Divide cada línea en columnas usando espacio como separador\n",
    "datos_separados = [linea.strip().split(' ') for linea in lineas]\n",
    "\n",
    "datos= []\n",
    "for fila in datos_separados:\n",
    "    datos.append(fila)\n",
    "    #print(fila)\n",
    "\n",
    "#print('datos:',datos)\n",
    "f.close()\n",
    "\n",
    "z_cmb_des = []\n",
    "for i in range(1,len(datos)):\n",
    "  a= float(datos[i][1])\n",
    "  z_cmb_des.append(a)\n",
    "\n",
    "#print('z_cmb:', z_cmb)\n",
    "z_cmb_des = np.array(z_cmb_des)\n",
    "\n",
    "m_b_des = []\n",
    "for i in range(1, len(datos)):\n",
    "  a= float(datos[i][4])\n",
    "  m_b_des.append(a)\n",
    "\n",
    "m_b_des = np.array(m_b_des)\n",
    "#print('m_b:', m_b)\n",
    "\n",
    "dm_b_des = []\n",
    "for i in range(1, len(datos)):\n",
    "    a= float(datos[i][5])\n",
    "    dm_b_des.append(a)\n",
    "\n",
    "dm_b_des = np.array(dm_b_des)\n",
    "#print('dm_b:', dm_b)\n"
   ]
  },
  {
   "cell_type": "code",
   "execution_count": 157,
   "metadata": {},
   "outputs": [
    {
     "name": "stdout",
     "output_type": "stream",
     "text": [
      "Array original: [0.50309 0.4948  0.67767 ... 1.014   1.315   1.092  ]\n",
      "Arrays ordenados: [0.01012 0.01038 0.01043 ... 1.8     1.914   2.26   ]\n",
      "Índices de los elementos ordenados: [ 583  585  677 ... 1027 1029 1028]\n",
      "Array original m_b: [22.93445 22.8802  24.0377  ... 24.85445 25.54235 24.63835]\n",
      "Array m_b ordenado según z_cmb_des: [13.90745 14.0496  13.9248  ... 26.2011  26.1609  26.877  ]\n"
     ]
    }
   ],
   "source": [
    "import numpy as np\n",
    "\n",
    "z_cmb = np.sort(z_cmb_des)\n",
    "\n",
    "# Obtener los índices de los elementos ordenados\n",
    "indices_ordenados = np.argsort(z_cmb_des)\n",
    "\n",
    "# Mostrar el resultado\n",
    "print(\"Array original:\", z_cmb_des)\n",
    "print(\"Arrays ordenados:\", z_cmb)\n",
    "print(\"Índices de los elementos ordenados:\", indices_ordenados)\n",
    "\n",
    "# Utilizar los índices para ordenar el array m_b_des\n",
    "indices_ordenados_enteros = indices_ordenados.astype(int)\n",
    "m_b = m_b_des[indices_ordenados_enteros]\n",
    "\n",
    "# Mostrar el resultado final\n",
    "print(\"Array original m_b:\", m_b_des)\n",
    "print(\"Array m_b ordenado según z_cmb_des:\", m_b)\n",
    "\n",
    "dm_b = dm_b_des[indices_ordenados_enteros]\n"
   ]
  },
  {
   "cell_type": "code",
   "execution_count": 158,
   "metadata": {},
   "outputs": [],
   "source": [
    "#Relación magnitud aparente y absoluta con distancia de luminosidad\n",
    "M = -19.3\n",
    "D_L = np.zeros(len(m_b))\n",
    "for i in range(len(m_b)):\n",
    "  D_L[i]= 10**((m_b[i]-M-25)/5)\n",
    "#print('D_L:', D_L)\n",
    "\n",
    "#utilizando propagación de errores\n",
    "dD = []\n",
    "for i in range(len(dm_b)):\n",
    "  a= (2**((m_b[i]-M-25)/5)) * (5**(((m_b[i]-M-25)/5)-1))* np.log10(10) * dm_b[i]\n",
    "  dD.append(a)"
   ]
  },
  {
   "cell_type": "markdown",
   "metadata": {},
   "source": [
    "Graficamos la función teórica de $D_L$ junto a los datos. Se tiene que $\\Omega_s = \\Omega_r + \\Omega_m + \\Omega_\\Lambda + \\Omega_k = 1$  a partir de lo que se fijan los parámetros. \n",
    "\n",
    "Esta función está dada por $$D_L(z) = \\dfrac{c}{H_0}(1+z) \\int_{0}^{z} \\dfrac{1}{\\sqrt{\\Omega_r (1+z)^4 + \\Omega_m(1+z)^3 + \\Omega_l + \\Omega_k(1+z)^2}} \\,dz$$\n",
    "\n",
    "Luego, tomando curvatura $\\Omega_k = 0$ se tiene:"
   ]
  },
  {
   "cell_type": "code",
   "execution_count": 159,
   "metadata": {},
   "outputs": [
    {
     "data": {
      "image/png": "[encoded data removed]",
      "text/plain": [
       "<Figure size 432x288 with 1 Axes>"
      ]
     },
     "metadata": {
      "needs_background": "light"
     },
     "output_type": "display_data"
    }
   ],
   "source": [
    "#Parámetros\n",
    "omega_r = 8.4e-5\n",
    "omega_m = 0.3\n",
    "omega_l = 0.7\n",
    "omega_k = 0\n",
    "\n",
    "z_cualquiera = np.linspace(0, 2.5,100)\n",
    "def regla_trapecio_numerica(x, y, j):\n",
    "    integral = 0\n",
    "    n = j\n",
    "    for i in range(1, n):\n",
    "        integral += (x[i] - x[i - 1]) * (y[i] + y[i - 1])/2\n",
    "    return integral\n",
    "\n",
    "#Función a integrar\n",
    "func1 = ((omega_r * (1+z_cualquiera)**4) + omega_m * (1+z_cualquiera)**3 + omega_l + omega_k* (1+z_cualquiera)**2)**(-1/2)\n",
    "\n",
    "# Calcular la aproximación de la integral utilizando la regla del trapecio\n",
    "resultado_integral = np.zeros_like(z_cualquiera)\n",
    "for j in range(len(z_cualquiera)):\n",
    "    resultado_integral[j] = regla_trapecio_numerica(z_cualquiera, func1, j)\n",
    "    #print(\"El resultado de la integral es:\", resultado_integral[j])\n",
    "\n",
    "#Ecuación\n",
    "DL_t = (c/H_0)* (1+z_cualquiera)* resultado_integral\n",
    "\n",
    "plt.plot(z_cmb, D_L, '.')\n",
    "plt.plot(z_cualquiera, DL_t, label= 'Función teórica para $D_L$')\n",
    "\n",
    "plt.xlabel('$ z_{cmb} $')\n",
    "plt.ylabel('$ D_L $')\n",
    "plt.errorbar(z_cmb, D_L, yerr=dD, fmt='.', color='purple', label = 'Incertidumbre asociada')\n",
    "\n",
    "plt.title('Distancia de luminosidad')\n",
    "plt.legend()\n",
    "plt.grid(True)\n",
    "plt.show()\n"
   ]
  },
  {
   "cell_type": "markdown",
   "metadata": {},
   "source": [
    "Se obtienen los datos del parámetro de Hubble a partir de los datos de magnitud aparente y por lo tanto de la distancia de luminosidad encontrada.\n",
    "Se utiliza la ecuación $$H(z) = c \\left[ \\dfrac{d}{dz} \\left( \\dfrac{D_L(z)}{1+z} \\right) \\right]^{-1}$$"
   ]
  },
  {
   "cell_type": "code",
   "execution_count": 160,
   "metadata": {},
   "outputs": [],
   "source": [
    "func = D_L / (1 + z_cmb)\n",
    "\n",
    "derivada = np.zeros_like(D_L)\n",
    "for i in range(len(D_L)-1):\n",
    "  if z_cmb[i+1]- z_cmb[i] ==0:\n",
    "    derivada[i] = 0\n",
    "  else:\n",
    "    derivada[i] = (func[i+1] - func[i]) / (2 * (z_cmb[i+1]- z_cmb[i]))\n",
    "\n",
    "\n",
    "H_DL = np.zeros_like(D_L)\n",
    "for i in range(len(D_L)):\n",
    "  if derivada[i] == 0:\n",
    "    H_DL[i]=0\n",
    "  else:\n",
    "    H_DL[i] = c * (1/derivada[i])\n",
    "\n",
    "#Sacándole un dato a H(z) para observar la distribución\n",
    "for i in range(len(D_L)-1):\n",
    "  if H_DL[i] >= 1 * (10**-9):\n",
    "    H_DL[i] = 0\n"
   ]
  },
  {
   "cell_type": "code",
   "execution_count": 161,
   "metadata": {},
   "outputs": [
    {
     "name": "stderr",
     "output_type": "stream",
     "text": [
      "c:\\Users\\antoc\\anaconda3\\lib\\site-packages\\numpy\\lib\\function_base.py:1073: RuntimeWarning: divide by zero encountered in true_divide\n",
      "  a = -(dx2)/(dx1 * (dx1 + dx2))\n",
      "c:\\Users\\antoc\\anaconda3\\lib\\site-packages\\numpy\\lib\\function_base.py:1074: RuntimeWarning: divide by zero encountered in true_divide\n",
      "  b = (dx2 - dx1) / (dx1 * dx2)\n",
      "c:\\Users\\antoc\\anaconda3\\lib\\site-packages\\numpy\\lib\\function_base.py:1075: RuntimeWarning: divide by zero encountered in true_divide\n",
      "  c = dx1 / (dx2 * (dx1 + dx2))\n",
      "c:\\Users\\antoc\\anaconda3\\lib\\site-packages\\numpy\\lib\\function_base.py:1081: RuntimeWarning: invalid value encountered in add\n",
      "  out[tuple(slice1)] = a * f[tuple(slice2)] + b * f[tuple(slice3)] + c * f[tuple(slice4)]\n"
     ]
    }
   ],
   "source": [
    "# Calcular la derivada numérica utilizando diferencias finitas centradas\n",
    "derivada = np.gradient(func, z_cmb, edge_order=2)\n",
    "\n",
    "# Calcular H_DL\n",
    "H_DL = np.zeros_like(D_L)\n",
    "for i in range(len(D_L)):\n",
    "    if derivada[i] == 0:\n",
    "        H_DL[i] = 0\n",
    "    else:\n",
    "        H_DL[i] = c / derivada[i]\n",
    "\n",
    "#Sacándole un dato a H(z) para observar la distribución\n",
    "for i in range(len(D_L)-1):\n",
    "  if H_DL[i] >= 2000:\n",
    "    H_DL[i] = 0"
   ]
  },
  {
   "cell_type": "markdown",
   "metadata": {},
   "source": [
    "Creando la ecuación física del parámetro de Hubble para un universo con radiación, materia y constante cosmológica $\\Lambda$, se tiene:\n",
    "$$H(z) = H_0 \\left[\\Omega_r (1+z)^4 + \\Omega_m(1+z)^3 + \\Omega_l + \\Omega_k(1+z)^2 \\right]^{1/2}$$"
   ]
  },
  {
   "cell_type": "code",
   "execution_count": 162,
   "metadata": {},
   "outputs": [
    {
     "data": {
      "image/png": "[encoded data removed]",
      "text/plain": [
       "<Figure size 432x288 with 1 Axes>"
      ]
     },
     "metadata": {
      "needs_background": "light"
     },
     "output_type": "display_data"
    }
   ],
   "source": [
    "#Parámetros\n",
    "omega_r = 8.4e-5\n",
    "omega_m = 0.3\n",
    "omega_l = 0.7\n",
    "omega_k = 0\n",
    "\n",
    "#Ecuación\n",
    "H_t_DL = np.zeros(len(z_cmb))\n",
    "H_t_DL = H_0* ((omega_r * (1+ z_cmb)**4) + omega_m * (1+z_cmb)**3 + omega_l + omega_k* (1+z_cmb)**2)**(1/2)\n",
    "\n",
    "\n",
    "plt.plot(z_cmb, H_DL, '.', label= 'H(z) a partir de m(z)')\n",
    "plt.plot(z_cmb, H_t_DL, label= 'Función teórica de H(z)')\n",
    "\n",
    "plt.xlabel('$ z $')\n",
    "plt.ylabel('$ H(z)$')\n",
    "plt.title('Parámetro de Hubble $H(z)$')\n",
    "plt.legend()\n",
    "plt.grid(True)\n",
    "plt.show()"
   ]
  },
  {
   "cell_type": "code",
   "execution_count": 163,
   "metadata": {},
   "outputs": [],
   "source": [
    "# Ajustar modelo polinomial grado 2\n",
    "model = np.poly1d(np.polyfit(z_cmb, m_b, 2))\n",
    "\n",
    "# Crear polilínea de diagrama de dispersión\n",
    "polyline = np.linspace(0, 2.5, 50)\n",
    "plt.plot(z_cmb, m_b, '.')\n",
    "\n",
    "plt.xlabel('$ z_{cmb} $')\n",
    "plt.ylabel('$ m_b $')\n",
    "plt.errorbar(z_cmb, m_b, yerr=dm_b, fmt='.', color='purple', label = 'Incertidumbre asociada')\n",
    "#plt.plot(polyline, model(polyline), color='blue', label = 'Ajuste polinomial de orden 2')\n",
    "plt.title('Magnitud aparente en función del redshift')\n",
    "plt.legend()\n",
    "plt.grid(True)\n",
    "plt.show()"
   ]
  },
  {
   "cell_type": "markdown",
   "metadata": {},
   "source": [
    "Gráfico de magnitud aparente distinto al esperado (Dark energy in practice, pág 11)"
   ]
  },
  {
   "cell_type": "code",
   "execution_count": null,
   "metadata": {},
   "outputs": [
    {
     "data": {
      "image/png": "[encoded data removed]",
      "text/plain": [
       "<Figure size 432x288 with 1 Axes>"
      ]
     },
     "metadata": {
      "needs_background": "light"
     },
     "output_type": "display_data"
    }
   ],
   "source": [
    "d_a1 = np.zeros_like(D_L)\n",
    "for i in range(len(D_L)):\n",
    "    d_a1[i] = D_L[i] * (1/((1+z_cmb[i])**2))\n",
    "\n",
    "da_t = DL_t * ((1+z_cualquiera)**(-2))\n",
    "\n",
    "\n",
    "plt.plot(z_cmb, d_a1, '.', color = 'orange', label='$D_A$')\n",
    "plt.plot(z_cualquiera, da_t, color = 'purple', label= 'Ecuación teórica para $D_A$')\n",
    "\n",
    "\n",
    "plt.xlabel('$ z $')\n",
    "plt.ylabel('$D_A$')\n",
    "plt.title('Distancia angular diametral')\n",
    "plt.grid(True)\n",
    "plt.legend()\n",
    "plt.show()"
   ]
  },
  {
   "cell_type": "markdown",
   "metadata": {},
   "source": [
    "A comparar con gráfico 7.4 (Ryden, pág 139) "
   ]
  }
 ],
 "metadata": {
  "kernelspec": {
   "display_name": "Python 3",
   "language": "python",
   "name": "python3"
  },
  "language_info": {
   "codemirror_mode": {
    "name": "ipython",
    "version": 3
   },
   "file_extension": ".py",
   "mimetype": "text/x-python",
   "name": "python",
   "nbconvert_exporter": "python",
   "pygments_lexer": "ipython3",
   "version": "3.8.8"
  },
  "orig_nbformat": 4,
  "vscode": {
   "interpreter": {
    "hash": "7038cae550c082e791aea3304e05159a7d7960d205b2b4a85caf9a0952ab10e9"
   }
  }
 },
 "nbformat": 4,
 "nbformat_minor": 2
}
