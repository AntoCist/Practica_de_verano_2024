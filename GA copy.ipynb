{
 "cells": [
  {
   "cell_type": "markdown",
   "metadata": {},
   "source": [
    "## Algoritmo genético\n",
    "Se cambia el método de crossover para no agregar tantos términos extras."
   ]
  },
  {
   "cell_type": "code",
   "execution_count": 151,
   "metadata": {},
   "outputs": [],
   "source": [
    "import numpy as np\n",
    "from scipy.integrate import solve_ivp\n",
    "import matplotlib.pyplot as plt\n",
    "import random\n",
    "from sympy import symbols, sympify, lambdify, simplify\n",
    "import time\n",
    "import copy\n"
   ]
  },
  {
   "cell_type": "code",
   "execution_count": 152,
   "metadata": {},
   "outputs": [],
   "source": [
    "doc2 = open(\"C:/Users/antoc/Downloads/PortableGit/practica2024/hub_data.txt\")\n",
    "lineas2 = doc2.readlines()\n",
    "\n",
    "H_0= 70\n",
    "\n",
    "# Divide cada línea en columnas usando espacio como separador\n",
    "datos_separados2 = [linea.strip().split(' ') for linea in lineas2]\n",
    "\n",
    "datos= []\n",
    "for fila in datos_separados2:\n",
    "    datos.append(fila)\n",
    "\n",
    "z = []\n",
    "for i in range(len(datos)):\n",
    "      a = float(datos[i][0])\n",
    "      z.append(a)\n",
    "z =np.array(z)\n",
    "\n",
    "H = []\n",
    "for i in range(len(datos)):\n",
    "   if datos[i][1] == '':\n",
    "      a = float(datos[i][2])\n",
    "      H.append(a)\n",
    "   else:\n",
    "      a = float(datos[i][1])\n",
    "      H.append(a)\n",
    "H = np.array(H)\n",
    "\n",
    "desv = []\n",
    "for i in range(len(datos)):\n",
    "    a = float(datos[i][2])\n",
    "    desv.append(a)\n"
   ]
  },
  {
   "cell_type": "markdown",
   "metadata": {},
   "source": [
    "Se minimiza $$\\chi^2 = \\sum_{i=1}^{N} (\\dfrac{y_i - f(x_i)}{\\sigma_{i}})^2$$ con el objetivo de obtener la función $f(x)$ que mejor se ajuste a los datos.\n"
   ]
  },
  {
   "cell_type": "code",
   "execution_count": 153,
   "metadata": {},
   "outputs": [],
   "source": [
    "def polix(x):\n",
    "    return x**x\n",
    "def poli1(x):\n",
    "    return (x+1) \n",
    "def poli2(x):\n",
    "    return x**2\n",
    "def poli3(x):\n",
    "    return x**3\n",
    "\n",
    "# Crear lista con coeficientes\n",
    "coeficientes = [random.random() for i in range(5)]\n",
    "# Crear lista de funciones\n",
    "funciones_c = [lambda x, i=i: coeficientes[i] for i in range(5)]\n",
    "\n",
    "\n",
    "grammar = [polix, poli1, poli2, poli3] + funciones_c\n",
    "operaciones = ['+', '-', '*', '/']\n",
    "\n",
    "\n",
    "#A partir de las funciones ingresadas inicialmente, calcula el chi_2\n",
    "def chi_2_valores(f):\n",
    "    return np.square((H - f(z))/desv)\n",
    "\n",
    "def chi_2_f(f):\n",
    "    chi_2_val = np.zeros_like(f)\n",
    "    chi_2 = np.zeros_like(f)\n",
    "    for i in range(len(f)):\n",
    "        chi_2_val[i] = chi_2_valores(f[i])\n",
    "        for j in range(len(chi_2_val)):\n",
    "            chi_2[j] = np.sum(chi_2_val[j])\n",
    "    \n",
    "    return chi_2\n",
    "\n",
    "#print(chi_2_f(grammar))\n",
    "#chi_inic = chi_2_f(grammar)"
   ]
  },
  {
   "cell_type": "markdown",
   "metadata": {},
   "source": [
    "### Combinar la función inicial\n",
    "Se combinan las funciones iniciales con operaciones entre ellas hasta que haya una cantidad definida de funciones iniciales.\n",
    "Se tomaron 50 funciones iniciales debido a que aumentará la cantidad de individuos a medida en que se realiza crossover y mutación a las funciones iniciales."
   ]
  },
  {
   "cell_type": "code",
   "execution_count": 154,
   "metadata": {},
   "outputs": [],
   "source": [
    "def juntar_elementos_inicial(funciones, operaciones, longitud_final=100):\n",
    "    final = []\n",
    "    while len(final) < longitud_final * 3:\n",
    "        random_funcion1 = random.choice(funciones)\n",
    "        random_funcion2 = random.choice(funciones)\n",
    "        random_operador = random.choice(operaciones)\n",
    "\n",
    "        final.append(random_funcion1)\n",
    "        final.append(random_operador)\n",
    "        final.append(random_funcion2)\n",
    "\n",
    "    # Crear una lista de sublistas para representar las filas\n",
    "    resultado_final_inicial = [final[i:i+3] for i in range(0, len(final), 3)]\n",
    "\n",
    "    return resultado_final_inicial\n",
    "\n",
    "resultado_final_inicial = juntar_elementos_inicial(grammar, operaciones)\n",
    "#for fila in resultado_final_inicial:\n",
    "#    print(fila)\n"
   ]
  },
  {
   "cell_type": "markdown",
   "metadata": {},
   "source": [
    "### Convertir la lista a función\n",
    "Se definen funciones para para convertir una lista de funciones y strings (operaciones) en una función."
   ]
  },
  {
   "cell_type": "code",
   "execution_count": 155,
   "metadata": {},
   "outputs": [],
   "source": [
    "\n",
    "#x deben estar entre paréntesis para no confundir con otros x en el string\n",
    "def a_string(funcion):\n",
    "    if funcion == polix:\n",
    "        return '(x)**(x)'\n",
    "    elif funcion == poli1:\n",
    "        return '((x)+1)'\n",
    "    elif funcion == poli2:\n",
    "        return '(x)**2'\n",
    "    elif funcion == poli3:\n",
    "        return '(x)**3'\n",
    "    for i in range(len(funciones_c)):\n",
    "        if funcion == funciones_c[i]:\n",
    "            return str(coeficientes[i])\n",
    "    else:\n",
    "        return str(funcion)\n",
    "\n",
    "x = symbols('x')\n",
    "def pasar_a_funcion(expresion):\n",
    "    a_sympy = sympify(expresion)\n",
    "    #if len(expresion)>= 30:\n",
    "        # Simplificar la expresión\n",
    "        #a_sympy = simplify(a_sympy)\n",
    "    a_python = lambdify(x, a_sympy, 'numpy')\n",
    "    return a_python\n",
    "\n",
    "#print(pasar_a_funcion('exp(x**2)'))(2)\n",
    "def composicion(lista):\n",
    "    modi_int = a_string(lista[-1])\n",
    "    #print(modi_int)\n",
    "    for i in range(2,len(lista)+1):\n",
    "        modi_ext = a_string(lista[-i])\n",
    "        modi_int = modi_ext.replace('(x)', '('+ modi_int +')' )\n",
    "    return modi_int\n",
    "\n",
    "\n",
    "def convertir_lista_a_str(lista):\n",
    "    string=''\n",
    "    for i in range(len(lista)):\n",
    "        if callable(lista[i]):\n",
    "            if i != 0 and callable(lista[i - 1]):\n",
    "                string = string\n",
    "            elif i < len(lista) - 1 and callable(lista[i + 1]):\n",
    "                compo = []\n",
    "                for j in range(i, len(lista)):\n",
    "                    if callable(lista[j]):\n",
    "                        compo.append(lista[j])\n",
    "\n",
    "                string += composicion(compo)\n",
    "            \n",
    "            else:  \n",
    "                string += a_string(lista[i])\n",
    "        else:\n",
    "            string += lista[i]\n",
    "\n",
    "    return string\n",
    "\n",
    "#lista_prueba = [poli2, '+', poli1,'-',poli1, poli2, funciones_c[0] ,'-', poli1]\n",
    "#funcion_prueba= convertir_lista_a_str(lista_prueba)\n",
    "#print(funcion_prueba)\n",
    "\n",
    "def convertir_lista_a_funcion(lista):\n",
    "    string = convertir_lista_a_str(lista)\n",
    "    func= pasar_a_funcion(string)\n",
    "    return func\n",
    "\n",
    "#print(convertir_lista_a_funcion(lista_prueba))\n"
   ]
  },
  {
   "cell_type": "markdown",
   "metadata": {},
   "source": [
    "### Calcular los $\\chi^2$ de la población inicial y seleccionar las mejores funciones"
   ]
  },
  {
   "cell_type": "code",
   "execution_count": 156,
   "metadata": {},
   "outputs": [],
   "source": [
    "def mejores(resultado_final, tasa_seleccion = 0.2, tasa_cruce =0.3):\n",
    "    chis =[]\n",
    "    for fila in resultado_final:\n",
    "        a = [convertir_lista_a_funcion(fila)]\n",
    "        chi_combinaciones = chi_2_f(a)\n",
    "        chis.append(chi_combinaciones)\n",
    "    ''' \n",
    "    Se seleccionan elementos a combinar\n",
    "    '''\n",
    "    cant_sobrevivientes = tasa_seleccion*len(chis)\n",
    "    cant_sobreviv = int(cant_sobrevivientes)\n",
    "    #print('Cantidad de sobrevientes:' , cant_sobreviv)\n",
    "\n",
    "    # Número de elementos más pequeños\n",
    "    num_elementos = cant_sobreviv\n",
    "    # Obtener los índices y valores de los elementos más pequeños en orden\n",
    "    indices_valores_menores = sorted(enumerate(chis), key=lambda x: x[1])[:num_elementos]\n",
    "    # Separar los índices y valores en listas distintas\n",
    "    indices_menores, valores_menores = zip(*indices_valores_menores)\n",
    "\n",
    "    f_mejores= []\n",
    "    for numero in indices_menores:\n",
    "        f_mejores.append(resultado_final[numero])\n",
    "\n",
    "\n",
    "    ''' \n",
    "    Aleatoridad, dejar que algunos hijos, aunque menos favorables, sobrevivan.\n",
    "    Esto porque una mutación i puede ser mala pero la i+1 puede ser mejor.\n",
    "    '''\n",
    "    # Obtener los índices y valores de los elementos no tan pequeños en orden\n",
    "    indices_valores_mayores = sorted(enumerate(chis), key=lambda x: x[1])[num_elementos:]\n",
    "    # Separar los índices y valores en listas distintas\n",
    "    indices_mayores, valores_mayores = zip(*indices_valores_mayores)\n",
    "    for numero in indices_mayores:\n",
    "        probabilidad = random.random()\n",
    "        if probabilidad < tasa_cruce:\n",
    "            f_mejores.append(resultado_final[numero])\n",
    "\n",
    "    return f_mejores, valores_menores\n"
   ]
  },
  {
   "cell_type": "markdown",
   "metadata": {},
   "source": [
    "### Crossover\n",
    "Combinar random partes de las soluciones de los padres (composición de funciones y sumar, multiplicar... una con otra).\n",
    "La selección sirve para dejar pasar un cierto porcentaje, los cuales tendrán que acoplarse y mutar. O sea, el número baja con la selección pero aumenta con el crossover y mutación. Para cada elemento del crossover, salen 3 hijos que son producto de combinaciones con otros padres."
   ]
  },
  {
   "cell_type": "code",
   "execution_count": 157,
   "metadata": {},
   "outputs": [],
   "source": [
    "def a_combinar(padres, hijos_por_padre = 6):\n",
    "    # Crear lista con 6 ecuaciones random a combinar\n",
    "    combinar = [random.choice(padres) for i in range(hijos_por_padre)]\n",
    "\n",
    "    # Separar funciones de operaciones para cada función que se combina con la seleccionada\n",
    "    combinar_con = []\n",
    "    for k in range(len(combinar)):\n",
    "        funciones_combinar = []\n",
    "        for j in range(len(combinar[k])):\n",
    "            if callable(combinar[k][j]):  # Verificar si es una función\n",
    "                funciones_combinar.append(combinar[k][j])\n",
    "\n",
    "        #print(funciones_combinar)\n",
    "\n",
    "        #Por cada ecuación se elige una función de la lista de funciones de esa ecuación\n",
    "        combinar_con.append(random.choice(funciones_combinar)) #Elegir una función de las disponibles\n",
    "\n",
    "    return combinar_con\n",
    "\n",
    "#print(a_combinar(mejores(resultado_final_inicial)))\n",
    "\n",
    "\n",
    "def crossover(padres, hijos_por_padre = 6):\n",
    "    #El primer elemento se mantiene constante (mejor chi^2)\n",
    "    hijos = []\n",
    "    hijos.append(padres[0])\n",
    "    #i es cada padre\n",
    "    for i in range(1, len(padres)):\n",
    "\n",
    "        #Si el largo de los padres es menor a un límite, que se agreguen cosas, si es mayor que se cambien.\n",
    "        if len(padres[i]) <= 15:\n",
    "            # Agregar operador y función combinada, función combinada o cambiar por la de otro padre a cada hijo.\n",
    "            numero_random = [random.randint(0,1) for i in range(hijos_por_padre)]\n",
    "            # k es la cantidad de hijos por padre\n",
    "            for k in range(hijos_por_padre):\n",
    "                hijos_ = copy.deepcopy(padres[i])\n",
    "                if numero_random[k] == 0:\n",
    "                    random_operador = random.choice(operaciones)\n",
    "                    hijos_.append(random_operador)\n",
    "                    hijos_.append(a_combinar(padres, hijos_por_padre)[k])\n",
    "                else:\n",
    "                    hijos_.append(a_combinar(padres, hijos_por_padre)[k])\n",
    "            \n",
    "                # Agregar los hijos a la lista final\n",
    "                hijos.append(hijos_)\n",
    "\n",
    "        #Si el largo del padre es mayor al límite, que se cambien términos.\n",
    "        else:\n",
    "            # k es la cantidad de hijos por padre\n",
    "            for k in range(hijos_por_padre):\n",
    "                hijos_ = copy.deepcopy(padres[i])\n",
    "                random_operador = random.choice(operaciones) \n",
    "                #j es el indice de un elemento en hijos_\n",
    "                j = random.randint(0, len(hijos_)-1)\n",
    "                if callable(hijos_[j]):\n",
    "                    hijos_[j] = a_combinar(padres, hijos_por_padre)[k]\n",
    "                else:\n",
    "                    hijos_[j] = random_operador\n",
    "                    hijos_[j+1] = a_combinar(padres, hijos_por_padre)[k]\n",
    "                \n",
    "                # Agregar los hijos a la lista final\n",
    "                hijos.append(hijos_)\n",
    "\n",
    "    #print(hijos)\n",
    "    return hijos"
   ]
  },
  {
   "cell_type": "markdown",
   "metadata": {},
   "source": [
    "### Mutación\n",
    "tasa de mutación: 5, 10 %. Se cambia una parte random de las funciones"
   ]
  },
  {
   "cell_type": "code",
   "execution_count": 158,
   "metadata": {},
   "outputs": [],
   "source": [
    "def mutar(padres, tasa_mutacion= 0.05):\n",
    "    hijos = copy.deepcopy(padres)\n",
    "    for lista in hijos:\n",
    "        #Se deja constante 1 elemento\n",
    "        for i in range(1, len(lista)):\n",
    "            # Genera un número aleatorio entre 0 y 1\n",
    "            probabilidad = random.random()\n",
    "\n",
    "            # Verifica si el número aleatorio es menor que la probabilidad deseada\n",
    "            if probabilidad < tasa_mutacion:\n",
    "                if callable(lista[i]):\n",
    "                    lista[i] = random.choice(grammar)\n",
    "                else:\n",
    "                    lista[i] = random.choice(operaciones)\n",
    "    return hijos\n",
    "\n"
   ]
  },
  {
   "cell_type": "markdown",
   "metadata": {},
   "source": [
    "### Recurrencia"
   ]
  },
  {
   "cell_type": "code",
   "execution_count": 159,
   "metadata": {},
   "outputs": [
    {
     "name": "stdout",
     "output_type": "stream",
     "text": [
      "generación: 1\n"
     ]
    },
    {
     "name": "stderr",
     "output_type": "stream",
     "text": [
      "<lambdifygenerated-248185>:2: RuntimeWarning: overflow encountered in power\n",
      "  return (-x**x + 0.13138700321220975*((x**x)**(x**x))**((x**x)**(x**x)))\n"
     ]
    },
    {
     "name": "stdout",
     "output_type": "stream",
     "text": [
      "generación: 2\n"
     ]
    },
    {
     "name": "stderr",
     "output_type": "stream",
     "text": [
      "<lambdifygenerated-248272>:2: RuntimeWarning: overflow encountered in power\n",
      "  return (x + (x**(3*x))**(2*x**(3*x)) + 1)\n",
      "<ipython-input-153-96336e4f7be1>:22: RuntimeWarning: overflow encountered in square\n",
      "  return np.square((H - f(z))/desv)\n",
      "<lambdifygenerated-248631>:2: RuntimeWarning: overflow encountered in power\n",
      "  return (x**3 + 0.8504281177133879 + (x**6)**(x**6)/x**3)\n",
      "<lambdifygenerated-248634>:2: RuntimeWarning: overflow encountered in power\n",
      "  return (x**3 + (x**6)**(x**6) + 0.8504281177133879)\n",
      "<lambdifygenerated-248649>:2: RuntimeWarning: overflow encountered in power\n",
      "  return (x**5*(((x**3)**(x**3))**((x**3)**(x**3)) + 1))\n",
      "<lambdifygenerated-248650>:2: RuntimeWarning: overflow encountered in power\n",
      "  return (x**2*(((x**2)**(x**2))**((x**2)**(x**2)) + 1))\n",
      "<lambdifygenerated-248653>:2: RuntimeWarning: overflow encountered in power\n",
      "  return (x**2*(((x**3)**(x**3))**((x**3)**(x**3)) + 1))\n",
      "<lambdifygenerated-248668>:2: RuntimeWarning: overflow encountered in power\n",
      "  return (x**3 + 0.13138700321220975*(x**6)**(3*x**6)/x**2)\n",
      "<lambdifygenerated-248671>:2: RuntimeWarning: overflow encountered in power\n",
      "  return (0.13138700321220975*x*(x**6)**(3*x**6))\n"
     ]
    },
    {
     "name": "stdout",
     "output_type": "stream",
     "text": [
      "generación: 3\n",
      "generación: 4\n"
     ]
    },
    {
     "name": "stderr",
     "output_type": "stream",
     "text": [
      "<lambdifygenerated-249255>:2: RuntimeWarning: overflow encountered in power\n",
      "  return (x**3 + x**2 + (x**2)**(2*x**2) + (((x**2)**(2*x**2) + 1)**2)**(((x**2)**(2*x**2) + 1)**2))\n",
      "<lambdifygenerated-249257>:2: RuntimeWarning: overflow encountered in power\n",
      "  return (2.7820720065680636*((x**2)**(x**2))**((x**2)**(x**2)) + 2.7820720065680636)\n",
      "<lambdifygenerated-249258>:2: RuntimeWarning: overflow encountered in power\n",
      "  return (7.6111028910892332*((x**3)**(x**3))**((x**3)**(x**3)) + 7.6111028910892332)\n",
      "<lambdifygenerated-249261>:2: RuntimeWarning: overflow encountered in power\n",
      "  return (x**3 + 7.6111028910892332*((x**3)**(x**3))**((x**3)**(x**3)) + 7.6111028910892332)\n"
     ]
    },
    {
     "name": "stdout",
     "output_type": "stream",
     "text": [
      "generación: 5\n",
      "generación: 6\n"
     ]
    },
    {
     "name": "stderr",
     "output_type": "stream",
     "text": [
      "<lambdifygenerated-249483>:2: RuntimeWarning: overflow encountered in power\n",
      "  return (x**3 + 2*x + ((x**6)**(x**6) + 3)**4 + 1 + x**(-x)*(x + 1))\n",
      "<lambdifygenerated-249856>:2: RuntimeWarning: overflow encountered in power\n",
      "  return (x**6*(7.6111028910892332*(x**6)**(3*x**6) + 15.222205782178466))\n"
     ]
    },
    {
     "name": "stdout",
     "output_type": "stream",
     "text": [
      "generación: 7\n",
      "generación: 8\n"
     ]
    },
    {
     "name": "stderr",
     "output_type": "stream",
     "text": [
      "<lambdifygenerated-250318>:2: RuntimeWarning: overflow encountered in power\n",
      "  return (x**5*(x + 1) + (((x + 1)**18)**((x + 1)**18) + 2)**4 + ((x + 1)**18)**((x + 1)**18) + 1)\n"
     ]
    },
    {
     "name": "stdout",
     "output_type": "stream",
     "text": [
      "generación: 9\n",
      "generación: 10\n",
      "generación: 11\n"
     ]
    },
    {
     "name": "stderr",
     "output_type": "stream",
     "text": [
      "<lambdifygenerated-251257>:2: RuntimeWarning: overflow encountered in power\n",
      "  return (x**2 + 58.928887218746884*x - (x**6)**(x**6) + 57.928887218746884)\n",
      "<lambdifygenerated-251260>:2: RuntimeWarning: overflow encountered in power\n",
      "  return (x**2 + 58.928887218746884*x - (x**6)**(x**6) + 57.928887218746884)\n"
     ]
    },
    {
     "name": "stdout",
     "output_type": "stream",
     "text": [
      "generación: 12\n",
      "generación: 13\n",
      "generación: 14\n"
     ]
    },
    {
     "name": "stderr",
     "output_type": "stream",
     "text": [
      "<lambdifygenerated-251794>:2: RuntimeWarning: overflow encountered in power\n",
      "  return (x**3 - (x + 1)**6 + (x + 1)*(((x + 1)**6 + 1)**24 + 1)**6/((x + 1)**6 + 1)**24)\n"
     ]
    },
    {
     "name": "stdout",
     "output_type": "stream",
     "text": [
      "generación: 15\n",
      "generación: 16\n"
     ]
    },
    {
     "name": "stderr",
     "output_type": "stream",
     "text": [
      "<lambdifygenerated-252305>:2: RuntimeWarning: overflow encountered in power\n",
      "  return (x**3 + x**2 + 3*x + (x + 1)*(((x**3 + 2)**3)**((x**3 + 2)**3) + 1)**(-2*((x**3 + 2)**3)**((x**3 + 2)**3) - 2) + 3)\n"
     ]
    },
    {
     "name": "stdout",
     "output_type": "stream",
     "text": [
      "generación: 17\n"
     ]
    },
    {
     "name": "stderr",
     "output_type": "stream",
     "text": [
      "<lambdifygenerated-252742>:2: RuntimeWarning: overflow encountered in power\n",
      "  return (x**3 + x**2 + 2*x + (x + 1)/(((x**3 + 2)**3)**((x**3 + 2)**3) + 2)**2 + 2.765250529466191)\n",
      "<lambdifygenerated-252742>:2: RuntimeWarning: overflow encountered in square\n",
      "  return (x**3 + x**2 + 2*x + (x + 1)/(((x**3 + 2)**3)**((x**3 + 2)**3) + 2)**2 + 2.765250529466191)\n"
     ]
    },
    {
     "name": "stdout",
     "output_type": "stream",
     "text": [
      "generación: 18\n",
      "generación: 19\n"
     ]
    },
    {
     "name": "stderr",
     "output_type": "stream",
     "text": [
      "<lambdifygenerated-253215>:2: RuntimeWarning: overflow encountered in power\n",
      "  return (x + x**x + (x + 1)**2 + (x + 1)/(((x**x + 2)**2)**((x**x + 2)**2) + 1)**4 + 1.765250529466191)\n",
      "<lambdifygenerated-253308>:2: RuntimeWarning: overflow encountered in power\n",
      "  return (3*x + (x + 1)/(((x + 3)**3)**((x + 3)**3) + 2)**2 + 3 + 0.8504281177133879/x**2)\n",
      "<lambdifygenerated-253308>:2: RuntimeWarning: overflow encountered in square\n",
      "  return (3*x + (x + 1)/(((x + 3)**3)**((x + 3)**3) + 2)**2 + 3 + 0.8504281177133879/x**2)\n",
      "<lambdifygenerated-253379>:2: RuntimeWarning: overflow encountered in power\n",
      "  return (x**2 + x**x*(x + 1) + (x + 1)/(((x**2 + 3)**3 + 1)**((x**2 + 3)**3 + 1) + 1)**2 + 3)\n",
      "<lambdifygenerated-253379>:2: RuntimeWarning: overflow encountered in square\n",
      "  return (x**2 + x**x*(x + 1) + (x + 1)/(((x**2 + 3)**3 + 1)**((x**2 + 3)**3 + 1) + 1)**2 + 3)\n",
      "<lambdifygenerated-253387>:2: RuntimeWarning: overflow encountered in power\n",
      "  return (x**3 + 2*x**2 + x + (x + 1)*((x**2 + 2)**12 + 2)**((x**2 + 2)**12 + 2) + 3)\n",
      "<lambdifygenerated-253388>:2: RuntimeWarning: overflow encountered in power\n",
      "  return (x**3 + x**2 + 2*x + x**x + (x + 1)*((((x**3 + 1)**(x**3 + 1) + 1)**((x**3 + 1)**(x**3 + 1) + 1) + 1)**2)**(-(((x**3 + 1)**(x**3 + 1) + 1)**((x**3 + 1)**(x**3 + 1) + 1) + 1)**2) + 2)\n",
      "<lambdifygenerated-253388>:2: RuntimeWarning: overflow encountered in square\n",
      "  return (x**3 + x**2 + 2*x + x**x + (x + 1)*((((x**3 + 1)**(x**3 + 1) + 1)**((x**3 + 1)**(x**3 + 1) + 1) + 1)**2)**(-(((x**3 + 1)**(x**3 + 1) + 1)**((x**3 + 1)**(x**3 + 1) + 1) + 1)**2) + 2)\n",
      "<lambdifygenerated-253401>:2: RuntimeWarning: overflow encountered in power\n",
      "  return (x**2*(x + 1) + (x + 1)/(((x**2 + 1)**(x**2 + 1) + 2)**((x**2 + 1)**(x**2 + 1) + 2) + 1)**6 + (x**2 + 1)**(x**2 + 1) + 1)\n"
     ]
    },
    {
     "name": "stdout",
     "output_type": "stream",
     "text": [
      "generación: 20\n",
      "generación: 21\n",
      "generación: 22\n"
     ]
    },
    {
     "name": "stderr",
     "output_type": "stream",
     "text": [
      "<lambdifygenerated-254150>:2: RuntimeWarning: overflow encountered in power\n",
      "  return (x**3 + x**2*(x**2 + 2) + x + (((x**2 + 2)**3 + 1)**4)**(((x**2 + 2)**3 + 1)**4) + 0.86861299678779025)\n",
      "<lambdifygenerated-254176>:2: RuntimeWarning: overflow encountered in power\n",
      "  return (x**3 + 2*x**2 + x + (x + 1)/(((x**2 + 2)**3 + 1)**((x**2 + 2)**3 + 1) + 1)**2 + 3)\n",
      "<lambdifygenerated-254176>:2: RuntimeWarning: overflow encountered in square\n",
      "  return (x**3 + 2*x**2 + x + (x + 1)/(((x**2 + 2)**3 + 1)**((x**2 + 2)**3 + 1) + 1)**2 + 3)\n",
      "<lambdifygenerated-254203>:2: RuntimeWarning: overflow encountered in power\n",
      "  return (x**3 + x**3/(((x**2 + 2)**3 + 1)**((x**2 + 2)**3 + 1) + 1)**2 + 2*x**2 + x + 3)\n",
      "<lambdifygenerated-254203>:2: RuntimeWarning: overflow encountered in square\n",
      "  return (x**3 + x**3/(((x**2 + 2)**3 + 1)**((x**2 + 2)**3 + 1) + 1)**2 + 2*x**2 + x + 3)\n"
     ]
    },
    {
     "name": "stdout",
     "output_type": "stream",
     "text": [
      "generación: 23\n",
      "generación: 24\n",
      "generación: 25\n",
      "generación: 26\n"
     ]
    },
    {
     "name": "stderr",
     "output_type": "stream",
     "text": [
      "<lambdifygenerated-255430>:2: RuntimeWarning: overflow encountered in power\n",
      "  return (3.2155434386633819*x**3/(((x**x + 4)**9)**((x**x + 4)**9) + 1) + x + 2*x**x + 3)\n"
     ]
    },
    {
     "name": "stdout",
     "output_type": "stream",
     "text": [
      "generación: 27\n",
      "generación: 28\n",
      "generación: 29\n"
     ]
    },
    {
     "name": "stderr",
     "output_type": "stream",
     "text": [
      "<lambdifygenerated-256203>:2: RuntimeWarning: overflow encountered in power\n",
      "  return (x**3*(x + 1)*((((x**2 + 3)**2 + 1)**2)**(((x**2 + 3)**2 + 1)**2) + 1) + 2*x**2 + x + 3)\n"
     ]
    },
    {
     "name": "stdout",
     "output_type": "stream",
     "text": [
      "generación: 30\n"
     ]
    },
    {
     "name": "stderr",
     "output_type": "stream",
     "text": [
      "<lambdifygenerated-256536>:2: RuntimeWarning: overflow encountered in power\n",
      "  return (x**3 + x**2 + 58.928887218746884*x - (x**6)**(x**6) + 58.928887218746884)\n",
      "<lambdifygenerated-256641>:2: RuntimeWarning: overflow encountered in power\n",
      "  return (x**3 + 2*x**2 + x + (x + 1)/(((x**2 + 2)**18)**((x**2 + 2)**18) + 1)**2 + 3)\n"
     ]
    },
    {
     "name": "stdout",
     "output_type": "stream",
     "text": [
      "generación: 31\n",
      "generación: 32\n",
      "generación: 33\n"
     ]
    },
    {
     "name": "stderr",
     "output_type": "stream",
     "text": [
      "<lambdifygenerated-257338>:2: RuntimeWarning: overflow encountered in power\n",
      "  return (x**3 + 2*x**2 + x + (x + 1)*(((x**2 + 2)**3 + 1)**(2*(x**2 + 2)**3 + 2))**(-2*((x**2 + 2)**3 + 1)**(2*(x**2 + 2)**3 + 2)) + 3)\n"
     ]
    },
    {
     "name": "stdout",
     "output_type": "stream",
     "text": [
      "generación: 34\n",
      "generación: 35\n",
      "generación: 36\n",
      "generación: 37\n",
      "generación: 38\n"
     ]
    },
    {
     "name": "stderr",
     "output_type": "stream",
     "text": [
      "<lambdifygenerated-258808>:2: RuntimeWarning: overflow encountered in power\n",
      "  return (x**3 + x**2 + 57.928887218746884*x + ((x**2)**(x**2))**((x**2)**(x**2)) + 58.060274221959094)\n"
     ]
    },
    {
     "name": "stdout",
     "output_type": "stream",
     "text": [
      "generación: 39\n",
      "generación: 40\n",
      "generación: 41\n",
      "generación: 42\n",
      "generación: 43\n",
      "generación: 44\n"
     ]
    },
    {
     "name": "stderr",
     "output_type": "stream",
     "text": [
      "<lambdifygenerated-260224>:2: RuntimeWarning: overflow encountered in power\n",
      "  return (x**3 + 2*x**2 + x + (x + 1)*((x**2 + 2)**6)**(8*(x**2 + 2)**6) + 3)\n",
      "<lambdifygenerated-260228>:2: RuntimeWarning: overflow encountered in power\n",
      "  return (x**3 + 2*x**2 + x + (x + 1)/(((x**2 + 2)**6)**(2*(x**2 + 2)**6) + 1)**2 + 3)\n",
      "<lambdifygenerated-260228>:2: RuntimeWarning: overflow encountered in square\n",
      "  return (x**3 + 2*x**2 + x + (x + 1)/(((x**2 + 2)**6)**(2*(x**2 + 2)**6) + 1)**2 + 3)\n"
     ]
    },
    {
     "name": "stdout",
     "output_type": "stream",
     "text": [
      "generación: 45\n"
     ]
    },
    {
     "name": "stderr",
     "output_type": "stream",
     "text": [
      "<lambdifygenerated-260399>:2: RuntimeWarning: overflow encountered in power\n",
      "  return (x**3 + x**2*(x + 1)/((x**2 + 2)*(((x**2 + 3)**2)**(3*(x**2 + 3)**2) + 1)**2) + x + 1)\n",
      "<lambdifygenerated-260399>:2: RuntimeWarning: overflow encountered in square\n",
      "  return (x**3 + x**2*(x + 1)/((x**2 + 2)*(((x**2 + 3)**2)**(3*(x**2 + 3)**2) + 1)**2) + x + 1)\n"
     ]
    },
    {
     "name": "stdout",
     "output_type": "stream",
     "text": [
      "generación: 46\n",
      "generación: 47\n",
      "generación: 48\n",
      "generación: 49\n",
      "generación: 50\n"
     ]
    },
    {
     "name": "stderr",
     "output_type": "stream",
     "text": [
      "<lambdifygenerated-262204>:2: RuntimeWarning: overflow encountered in power\n",
      "  return (x**3 + x**2 + x + 57.928887218746884*x**x + (x**6)**(x**6) + 1)\n",
      "<lambdifygenerated-262246>:2: RuntimeWarning: overflow encountered in power\n",
      "  return (x**3 + 2*x**2 + x + (x + 1)*(((x**2 + 2)**3 + 1)**((x**2 + 2)**3 + 1) + 1)**(-2*((x**2 + 2)**3 + 1)**((x**2 + 2)**3 + 1) - 2) + 3)\n"
     ]
    },
    {
     "name": "stdout",
     "output_type": "stream",
     "text": [
      "generación: 51\n",
      "generación: 52\n",
      "generación: 53\n"
     ]
    },
    {
     "name": "stderr",
     "output_type": "stream",
     "text": [
      "<lambdifygenerated-262882>:2: RuntimeWarning: overflow encountered in power\n",
      "  return (x**3 + 2*x**2 + 1.306761591785583*x - ((x**2)**(x**2))**((x**2)**(x**2)) + 1.306761591785583)\n"
     ]
    },
    {
     "name": "stdout",
     "output_type": "stream",
     "text": [
      "generación: 54\n",
      "generación: 55\n",
      "generación: 56\n",
      "generación: 57\n",
      "generación: 58\n",
      "generación: 59\n"
     ]
    },
    {
     "name": "stderr",
     "output_type": "stream",
     "text": [
      "<lambdifygenerated-264400>:2: RuntimeWarning: overflow encountered in power\n",
      "  return (x**3 + 2*x**2 + x + (x + 1)/(((x**2 + 3)**(x**2 + 3))**((x**2 + 3)**(x**2 + 3)) + 1)**4 + 3)\n",
      "<lambdifygenerated-264678>:2: RuntimeWarning: overflow encountered in power\n",
      "  return (x**6 + x**3 + x**2 + x + (x + 1)/(((x**6 + 2)**(x**6 + 2) + 1)**3 + 1)**2 + 2)\n",
      "<lambdifygenerated-264681>:2: RuntimeWarning: overflow encountered in power\n",
      "  return (x**6 + 2*x**2 + x + (x + 1)/(((x**6 + 2)**(x**6 + 2) + 1)**3 + 1)**2 + 2)\n",
      "<lambdifygenerated-264768>:2: RuntimeWarning: overflow encountered in power\n",
      "  return (x**3 + 2*x**2 + x + (x + 1)/(((x**2 + 2)**3)**((x**2 + 2)**3) + 1)**12 + 3)\n"
     ]
    },
    {
     "name": "stdout",
     "output_type": "stream",
     "text": [
      "generación: 60\n"
     ]
    },
    {
     "name": "stderr",
     "output_type": "stream",
     "text": [
      "<lambdifygenerated-264880>:2: RuntimeWarning: overflow encountered in power\n",
      "  return (x**3 + 2*x**2 + x + (x + 1)/(((x**2 + 2)**3)**((x**2 + 2)**3) + 1)**18 + 3)\n"
     ]
    },
    {
     "name": "stdout",
     "output_type": "stream",
     "text": [
      "generación: 61\n"
     ]
    },
    {
     "name": "stderr",
     "output_type": "stream",
     "text": [
      "<lambdifygenerated-264958>:2: RuntimeWarning: overflow encountered in power\n",
      "  return (x**3 + 2*x**2 + 2*x + (((x**2 + 3)**(x**2 + 3) + 1)**((x**2 + 3)**(x**2 + 3) + 1) + 1)**2 + 4)\n",
      "<lambdifygenerated-264958>:2: RuntimeWarning: overflow encountered in square\n",
      "  return (x**3 + 2*x**2 + 2*x + (((x**2 + 3)**(x**2 + 3) + 1)**((x**2 + 3)**(x**2 + 3) + 1) + 1)**2 + 4)\n",
      "<lambdifygenerated-265181>:2: RuntimeWarning: overflow encountered in power\n",
      "  return (x**3 + 2*x**2 + x + (x + 1)/(((x**2 + 3)**(x**2 + 3))**((x**2 + 3)**(x**2 + 3)) + 2)**2 + 3)\n",
      "<lambdifygenerated-265181>:2: RuntimeWarning: overflow encountered in square\n",
      "  return (x**3 + 2*x**2 + x + (x + 1)/(((x**2 + 3)**(x**2 + 3))**((x**2 + 3)**(x**2 + 3)) + 2)**2 + 3)\n"
     ]
    },
    {
     "name": "stdout",
     "output_type": "stream",
     "text": [
      "generación: 62\n"
     ]
    },
    {
     "name": "stderr",
     "output_type": "stream",
     "text": [
      "<lambdifygenerated-265423>:2: RuntimeWarning: overflow encountered in square\n",
      "  return (x**3 + 2*x**2 + x + (x + 1)/(((x**2 + 3)**2)**(2*(x**2 + 3)**2) + 1)**2 + 3)\n"
     ]
    },
    {
     "name": "stdout",
     "output_type": "stream",
     "text": [
      "generación: 63\n"
     ]
    },
    {
     "name": "stderr",
     "output_type": "stream",
     "text": [
      "<lambdifygenerated-265763>:2: RuntimeWarning: overflow encountered in power\n",
      "  return (x**3 + 2*x**2 + x + (x + 1)/((((x**2 + 2)**3)**((x**2 + 2)**3) + 1)**2 + 1)**2 + 3)\n",
      "<lambdifygenerated-265763>:2: RuntimeWarning: overflow encountered in square\n",
      "  return (x**3 + 2*x**2 + x + (x + 1)/((((x**2 + 2)**3)**((x**2 + 2)**3) + 1)**2 + 1)**2 + 3)\n"
     ]
    },
    {
     "name": "stdout",
     "output_type": "stream",
     "text": [
      "generación: 64\n",
      "generación: 65\n"
     ]
    },
    {
     "name": "stderr",
     "output_type": "stream",
     "text": [
      "<lambdifygenerated-266453>:2: RuntimeWarning: overflow encountered in power\n",
      "  return (x**3 + x**2 + 3356.7559744022961*x + (x**6)**(x**6) + 3356.7559744022961)\n"
     ]
    },
    {
     "name": "stdout",
     "output_type": "stream",
     "text": [
      "generación: 66\n"
     ]
    },
    {
     "name": "stderr",
     "output_type": "stream",
     "text": [
      "<lambdifygenerated-266589>:2: RuntimeWarning: overflow encountered in power\n",
      "  return (x**3 + 2*x + (x**3 + 2)*(((x**3 + 3)**2 + 1)**3)**(2*((x**3 + 3)**2 + 1)**3) + 2.1313870032122098)\n"
     ]
    },
    {
     "name": "stdout",
     "output_type": "stream",
     "text": [
      "generación: 67\n",
      "generación: 68\n"
     ]
    },
    {
     "name": "stderr",
     "output_type": "stream",
     "text": [
      "<lambdifygenerated-267239>:2: RuntimeWarning: overflow encountered in power\n",
      "  return (2*x**3 + x + 3.850428117713388 + 0.13138700321220975/((((x**3 + 2)**2)**((x**3 + 2)**2) + 1)**3 + 1)**2)\n",
      "<lambdifygenerated-267239>:2: RuntimeWarning: overflow encountered in square\n",
      "  return (2*x**3 + x + 3.850428117713388 + 0.13138700321220975/((((x**3 + 2)**2)**((x**3 + 2)**2) + 1)**3 + 1)**2)\n"
     ]
    },
    {
     "name": "stdout",
     "output_type": "stream",
     "text": [
      "generación: 69\n",
      "generación: 70\n",
      "generación: 71\n",
      "generación: 72\n",
      "generación: 73\n",
      "generación: 74\n"
     ]
    },
    {
     "name": "stderr",
     "output_type": "stream",
     "text": [
      "<lambdifygenerated-268761>:2: RuntimeWarning: overflow encountered in power\n",
      "  return (2*x**3 + x**2 + (x + 1)*((x**3 + 2)**(18*x**3 + 36))**(-2*(x**3 + 2)**(18*x**3 + 36)) + 2.765250529466191)\n",
      "<lambdifygenerated-268764>:2: RuntimeWarning: overflow encountered in power\n",
      "  return (2*x**3 + x + (x + 1)/((x**3 + 2)**(18*x**3 + 36) + 1)**2 + 3.765250529466191)\n",
      "<lambdifygenerated-268764>:2: RuntimeWarning: overflow encountered in square\n",
      "  return (2*x**3 + x + (x + 1)/((x**3 + 2)**(18*x**3 + 36) + 1)**2 + 3.765250529466191)\n",
      "<lambdifygenerated-268912>:2: RuntimeWarning: overflow encountered in power\n",
      "  return (2*x**3 + x + (x + 1)/((x**3 + 2)**(36*x**3 + 72) + 1) + 3.765250529466191)\n",
      "<lambdifygenerated-268914>:2: RuntimeWarning: overflow encountered in power\n",
      "  return (2*x**3 + x + x**x/((x**3 + 2)**(36*x**3 + 72) + 1) + 3.765250529466191)\n"
     ]
    },
    {
     "name": "stdout",
     "output_type": "stream",
     "text": [
      "generación: 75\n",
      "generación: 76\n",
      "generación: 77\n",
      "generación: 78\n",
      "generación: 79\n",
      "generación: 80\n",
      "generación: 81\n",
      "generación: 82\n",
      "generación: 83\n",
      "generación: 84\n",
      "generación: 85\n",
      "generación: 86\n",
      "generación: 87\n",
      "generación: 88\n",
      "generación: 89\n"
     ]
    },
    {
     "name": "stderr",
     "output_type": "stream",
     "text": [
      "<lambdifygenerated-273206>:2: RuntimeWarning: overflow encountered in power\n",
      "  return (x**3 + 2*x + (x**6)**(x**6) + 2.3282519680418274)\n"
     ]
    },
    {
     "name": "stdout",
     "output_type": "stream",
     "text": [
      "generación: 90\n"
     ]
    },
    {
     "name": "stderr",
     "output_type": "stream",
     "text": [
      "<lambdifygenerated-273681>:2: RuntimeWarning: overflow encountered in power\n",
      "  return (x**3 + x**2 + x + (x**6)**(x**6) + 1.3282519680418274)\n",
      "<lambdifygenerated-273682>:2: RuntimeWarning: overflow encountered in power\n",
      "  return (x**3 + 2*x + (x**6)**(x**6) + 2.8965977962770281)\n",
      "<lambdifygenerated-273683>:2: RuntimeWarning: overflow encountered in power\n",
      "  return (-x**3 + 2*x + (x**6)**(x**6) + 2.3282519680418274)\n",
      "<lambdifygenerated-273684>:2: RuntimeWarning: overflow encountered in power\n",
      "  return (x**3 + 2*x + (x**6)**(x**6) + 1.7062731211843431)\n"
     ]
    },
    {
     "name": "stdout",
     "output_type": "stream",
     "text": [
      "generación: 91\n",
      "generación: 92\n",
      "generación: 93\n",
      "generación: 94\n",
      "generación: 95\n",
      "generación: 96\n",
      "generación: 97\n",
      "generación: 98\n",
      "generación: 99\n",
      "generación: 100\n",
      "generación: 101\n",
      "generación: 102\n",
      "generación: 103\n",
      "generación: 104\n",
      "generación: 105\n",
      "generación: 106\n",
      "generación: 107\n",
      "generación: 108\n",
      "generación: 109\n",
      "generación: 110\n",
      "generación: 111\n",
      "generación: 112\n",
      "generación: 113\n",
      "generación: 114\n",
      "generación: 115\n",
      "generación: 116\n",
      "generación: 117\n",
      "generación: 118\n"
     ]
    },
    {
     "name": "stderr",
     "output_type": "stream",
     "text": [
      "<lambdifygenerated-281668>:2: RuntimeWarning: overflow encountered in power\n",
      "  return (2*x**3 + (x + 1)*(((x**3 + 2)**9)**((x**3 + 2)**9) + 1)**(-2*((x**3 + 2)**9)**((x**3 + 2)**9) - 2) + 3.701222954859443)\n"
     ]
    },
    {
     "name": "stdout",
     "output_type": "stream",
     "text": [
      "generación: 119\n"
     ]
    },
    {
     "name": "stderr",
     "output_type": "stream",
     "text": [
      "<lambdifygenerated-281853>:2: RuntimeWarning: overflow encountered in power\n",
      "  return (x**3 + (x + 1)*(((x**3 + 1)**4)**(2*(x**3 + 1)**4) + 1)**(-2*((x**3 + 1)**4)**(2*(x**3 + 1)**4) - 2) - (x**3 + 1)**2 + 1.701222954859442)\n"
     ]
    },
    {
     "name": "stdout",
     "output_type": "stream",
     "text": [
      "generación: 120\n"
     ]
    },
    {
     "name": "stderr",
     "output_type": "stream",
     "text": [
      "<lambdifygenerated-282307>:2: RuntimeWarning: overflow encountered in power\n",
      "  return (x**3 + (x + 1)*(((x**3 + 1)**4)**(2*(x**3 + 1)**4) + 1)**(-2*((x**3 + 1)**4)**(2*(x**3 + 1)**4) - 2) - (x**3 + 1)**2 + 1.701222954859442)\n"
     ]
    },
    {
     "name": "stdout",
     "output_type": "stream",
     "text": [
      "generación: 121\n",
      "generación: 122\n",
      "generación: 123\n",
      "generación: 124\n"
     ]
    },
    {
     "name": "stderr",
     "output_type": "stream",
     "text": [
      "<lambdifygenerated-283313>:2: RuntimeWarning: overflow encountered in power\n",
      "  return (2*x**3 + 57.928887218746884*x + x**x + (x**(3*x))**(x**(3*x)) + 57.928887218746884)\n",
      "<lambdifygenerated-283329>:2: RuntimeWarning: overflow encountered in power\n",
      "  return (x**3 + 1.175878336065343*x + x**x + (x**(3*x))**(x**(3*x)) + 1.4868677594940849)\n",
      "<lambdifygenerated-283354>:2: RuntimeWarning: overflow encountered in power\n",
      "  return (x**3 + 57.928887218746884*x + x**x + ((x**x)**(x**x))**((x**x)**(x**x)) + 58.779315336460272)\n",
      "<lambdifygenerated-283371>:2: RuntimeWarning: overflow encountered in power\n",
      "  return (x**3 + 2*x**x + (x + 1)/(((x**x + 2)**4)**((x**x + 2)**4) + 1)**6 + 2.850428117713388)\n",
      "<lambdifygenerated-283372>:2: RuntimeWarning: overflow encountered in power\n",
      "  return (x**3 + x**x + (x + 1)/((((x**x)**(x**x) + 1)**4)**(((x**x)**(x**x) + 1)**4) + 2)**2 + (x**x)**(x**x) + 1.850428117713388)\n",
      "<lambdifygenerated-283372>:2: RuntimeWarning: overflow encountered in square\n",
      "  return (x**3 + x**x + (x + 1)/((((x**x)**(x**x) + 1)**4)**(((x**x)**(x**x) + 1)**4) + 2)**2 + (x**x)**(x**x) + 1.850428117713388)\n"
     ]
    },
    {
     "name": "stdout",
     "output_type": "stream",
     "text": [
      "generación: 125\n",
      "generación: 126\n"
     ]
    },
    {
     "name": "stderr",
     "output_type": "stream",
     "text": [
      "<lambdifygenerated-283876>:2: RuntimeWarning: overflow encountered in square\n",
      "  return (x**6 + x**x + (x + 1)*(x**x + 1)**(-x**x - 1)/((x**x + 1)**(36*x**x + 36) + 1)**2)\n",
      "<lambdifygenerated-283964>:2: RuntimeWarning: overflow encountered in power\n",
      "  return (x**3 + x**x + (x + 1)/((((x**x)**(x**x) + 1)**4)**(((x**x)**(x**x) + 1)**4) + 3) + (x**x)**(x**x) + 1.850428117713388)\n",
      "<lambdifygenerated-283965>:2: RuntimeWarning: overflow encountered in power\n",
      "  return (x**3 + x**x + (x + 1)/((((x**x)**(x**x) + 1)**4)**(((x**x)**(x**x) + 1)**4) + 1)**4 + (x**x)**(x**x) + 1.850428117713388)\n",
      "<lambdifygenerated-283967>:2: RuntimeWarning: overflow encountered in power\n",
      "  return (x**3 + x + x**x + (x + 1)/((((x**x)**(x**x) + 1)**4)**(((x**x)**(x**x) + 1)**4) + 2)**2 + (x**x)**(x**x) + 2)\n",
      "<lambdifygenerated-283967>:2: RuntimeWarning: overflow encountered in square\n",
      "  return (x**3 + x + x**x + (x + 1)/((((x**x)**(x**x) + 1)**4)**(((x**x)**(x**x) + 1)**4) + 2)**2 + (x**x)**(x**x) + 2)\n"
     ]
    },
    {
     "name": "stdout",
     "output_type": "stream",
     "text": [
      "generación: 127\n"
     ]
    },
    {
     "name": "stderr",
     "output_type": "stream",
     "text": [
      "<lambdifygenerated-284081>:2: RuntimeWarning: overflow encountered in power\n",
      "  return (x**3 + 2*x**x + (x + 1)*(((x**x + 3)**2)**(2*(x**x + 3)**2))**(-2*((x**x + 3)**2)**(2*(x**x + 3)**2)) + 2.850428117713388)\n",
      "<lambdifygenerated-284082>:2: RuntimeWarning: overflow encountered in power\n",
      "  return (x**3 + 2*x**x + (x + 1)*(((x**x + 3)**2)**(2*(x**x + 3)**2))**(-2*((x**x + 3)**2)**(2*(x**x + 3)**2)) + 2.850428117713388)\n"
     ]
    },
    {
     "name": "stdout",
     "output_type": "stream",
     "text": [
      "generación: 128\n",
      "generación: 129\n",
      "generación: 130\n"
     ]
    },
    {
     "name": "stderr",
     "output_type": "stream",
     "text": [
      "<lambdifygenerated-284790>:2: RuntimeWarning: overflow encountered in power\n",
      "  return (x**3 + 2*x**x + (x + 1)*(((x**x + 2)**6)**((x**x + 2)**6) + 1)**(-2*((x**x + 2)**6)**((x**x + 2)**6) - 2) + 2.850428117713388)\n",
      "<lambdifygenerated-284878>:2: RuntimeWarning: overflow encountered in power\n",
      "  return (x**3 + 2*x**x + (x + 1)/((((x**x + 3)**2)**((x**x + 3)**2))**(((x**x + 3)**2)**((x**x + 3)**2)) + 1)**2 + 2.850428117713388)\n",
      "<lambdifygenerated-284880>:2: RuntimeWarning: overflow encountered in square\n",
      "  return (x**3 + 2*x**x + (x + 1)/(((x**x + 3)**2 + 1)**((x**x + 3)**2 + 1) + 1)**2 + 2.850428117713388)\n",
      "<lambdifygenerated-284885>:2: RuntimeWarning: overflow encountered in power\n",
      "  return (x**3 - x**2 + 2*x**x + (x + 1)*(((x**x + 2)**(2*x**x + 4))**(2*(x**x + 2)**(2*x**x + 4)))**(-2*((x**x + 2)**(2*x**x + 4))**(2*(x**x + 2)**(2*x**x + 4))) + 2)\n",
      "<lambdifygenerated-284906>:2: RuntimeWarning: overflow encountered in power\n",
      "  return (x**3 + x + 2*x**x + (x + 1)/((((x**x + 3)**2)**((x**x + 3)**2))**(((x**x + 3)**2)**((x**x + 3)**2)) + 1)**2 + 3)\n"
     ]
    },
    {
     "name": "stdout",
     "output_type": "stream",
     "text": [
      "generación: 131\n"
     ]
    },
    {
     "name": "stderr",
     "output_type": "stream",
     "text": [
      "<lambdifygenerated-285118>:2: RuntimeWarning: overflow encountered in power\n",
      "  return (x**3 + 2*x**x + 2.850428117713388 + 0.8507948371460546*((((x**x + 2)**(x**x + 2) + 1)**2)**(((x**x + 2)**(x**x + 2) + 1)**2))**(-2*(((x**x + 2)**(x**x + 2) + 1)**2)**(((x**x + 2)**(x**x + 2) + 1)**2)))\n"
     ]
    },
    {
     "name": "stdout",
     "output_type": "stream",
     "text": [
      "generación: 132\n",
      "generación: 133\n",
      "generación: 134\n",
      "generación: 135\n",
      "generación: 136\n",
      "generación: 137\n",
      "generación: 138\n",
      "generación: 139\n"
     ]
    },
    {
     "name": "stderr",
     "output_type": "stream",
     "text": [
      "<lambdifygenerated-287650>:2: RuntimeWarning: overflow encountered in power\n",
      "  return (x**3 + x**2 + 2*x + (x + 1)*((((x + 4)**2 + 1)**3)**(((x + 4)**2 + 1)**3))**(-(((x + 4)**2 + 1)**3)**(((x + 4)**2 + 1)**3)) + 4)\n"
     ]
    },
    {
     "name": "stdout",
     "output_type": "stream",
     "text": [
      "generación: 140\n",
      "generación: 141\n",
      "generación: 142\n"
     ]
    },
    {
     "name": "stderr",
     "output_type": "stream",
     "text": [
      "<lambdifygenerated-288363>:2: RuntimeWarning: overflow encountered in power\n",
      "  return (x**3 + 2*x**x + (x + 1)/(((x**x + 2)**3 + 1)**(2*(x**x + 2)**3 + 2) + 1)**2 + 2.850428117713388)\n",
      "<lambdifygenerated-288363>:2: RuntimeWarning: overflow encountered in square\n",
      "  return (x**3 + 2*x**x + (x + 1)/(((x**x + 2)**3 + 1)**(2*(x**x + 2)**3 + 2) + 1)**2 + 2.850428117713388)\n"
     ]
    },
    {
     "name": "stdout",
     "output_type": "stream",
     "text": [
      "generación: 143\n"
     ]
    },
    {
     "name": "stderr",
     "output_type": "stream",
     "text": [
      "<lambdifygenerated-288893>:2: RuntimeWarning: overflow encountered in power\n",
      "  return (x**3 + x**2/(((x**x + 2)**(x**x + 2) + 1)**((x**x + 2)**(x**x + 2) + 1) + 2)**2 + 2*x**x + 2.850428117713388)\n",
      "<lambdifygenerated-288893>:2: RuntimeWarning: overflow encountered in square\n",
      "  return (x**3 + x**2/(((x**x + 2)**(x**x + 2) + 1)**((x**x + 2)**(x**x + 2) + 1) + 2)**2 + 2*x**x + 2.850428117713388)\n",
      "<lambdifygenerated-288918>:2: RuntimeWarning: overflow encountered in square\n",
      "  return (x**3 + x**x + (x + 1)*((((x**x + 1)**2)**((x**x + 1)**2) + 1)**2 + 2)**2 + (x**x + 1)**2 + 0.8504281177133879)\n"
     ]
    },
    {
     "name": "stdout",
     "output_type": "stream",
     "text": [
      "generación: 144\n",
      "generación: 145\n"
     ]
    },
    {
     "name": "stderr",
     "output_type": "stream",
     "text": [
      "<lambdifygenerated-289220>:2: RuntimeWarning: overflow encountered in power\n",
      "  return (x**3 + 2*x**x + (x + 1)*(((x**x + 2)**4)**((x**x + 2)**4) + 1)**(-2*((x**x + 2)**4)**((x**x + 2)**4) - 2) + 2.850428117713388)\n",
      "<lambdifygenerated-289224>:2: RuntimeWarning: overflow encountered in power\n",
      "  return (x**3 + (x + 1)/(((x**x + 2)**4)**((x**x + 2)**4) + 1)**4 - 1.149571882286612)\n"
     ]
    },
    {
     "name": "stdout",
     "output_type": "stream",
     "text": [
      "generación: 146\n"
     ]
    }
   ],
   "source": [
    "chi_por_generaciones = []\n",
    "def recurrencia(gener):\n",
    "    poblacion_inicial = resultado_final_inicial\n",
    "\n",
    "    # Medir el tiempo de ejecución de la función\n",
    "    inicio_tiempo = time.time()  # Obtiene el tiempo actual\n",
    "\n",
    "    # Mejores funciones de la población inicial\n",
    "    mejores_inicial = mejores(poblacion_inicial)[0]\n",
    "\n",
    "    generaciones =0\n",
    "    while generaciones <= gener:\n",
    "        #Contador de generaciones\n",
    "        generaciones +=1\n",
    "                \n",
    "        # Obtener las mejores funciones de la población mejorada\n",
    "        mejor_func_chi= mejores(mutar(crossover(mejores_inicial)))\n",
    "\n",
    "        mejores_actual = mejor_func_chi[0]\n",
    "        chi_mejores = mejor_func_chi[1]\n",
    "        mejores_inicial = mejores_actual\n",
    "        \n",
    "        mejores_str = []\n",
    "        for i in range(len(mejores_actual)):\n",
    "            mejores_str.append(convertir_lista_a_str(mejores_actual[i]))\n",
    "\n",
    "        if len(mejores_str)>= 80:\n",
    "            mejores_actual = mejores_actual[:30]\n",
    "            mejores_inicial = mejores_actual\n",
    "\n",
    "        #print(f\"Mejores funciones en esta iteración: {mejores_str}\")\n",
    "        #print(f\"Largo mejores funciones en esta iteración: {len(mejores_str)}\")\n",
    "        print(f\"generación: {generaciones}\")\n",
    "        #print(f\"Chi^2: {chi_mejores}\")\n",
    "        \n",
    "        #Se suma a una lista el mejor chi para cada generación\n",
    "        chi_por_generaciones.append(chi_mejores[0][0])\n",
    "        #print(f\"Chi^2 por generación: {chi_por_generaciones}\")\n",
    "\n",
    "    fin_tiempo = time.time()  # Obtiene el tiempo después de la ejecución\n",
    "\n",
    "    tiempo_total = fin_tiempo - inicio_tiempo\n",
    "    print(f\"El tiempo de ejecución fue: {tiempo_total} segundos\")\n",
    "\n",
    "    return mejores_str, chi_por_generaciones\n",
    "\n",
    "generaciones_evaluar = 500\n",
    "recu = recurrencia(generaciones_evaluar)\n"
   ]
  },
  {
   "cell_type": "code",
   "execution_count": null,
   "metadata": {},
   "outputs": [
    {
     "name": "stdout",
     "output_type": "stream",
     "text": [
      "['((x)+1)+((x)+1)+(((((((0.8222593830201446)+1))+1))+1))**3*((x)+1)+((x)+1)*(((x)**(x))+1)', '((x)+1)+((x)+1)+(((((((0.8222593830201446)+1))+1))+1))**3*((x)+1)+((x)+1)*(((x)**(x))+1)', '((x)+1)+((x)+1)+(((((((0.8222593830201446)+1))+1))+1))**3*((x)+1)+((x)+1)*(((x)**(x))+1)', '((x)+1)+((x)+1)+(((((((0.8222593830201446)+1))+1))+1))**3*((x)+1)+((x)+1)*(((x)**(x))+1)', '((x)+1)+((x)+1)+(((((((0.8222593830201446)+1))+1))+1))**3*((x)+1)+((x)+1)*(((x)**(x))+1)', '((x)+1)+((x)+1)+(((((((0.8222593830201446)+1))+1))+1))**3*((x)+1)+((x)+1)*(((x)**(x))+1)', '((x)+1)+((x)+1)+(((((((0.8222593830201446)+1))+1))+1))**3*((x)+1)+((x)+1)*(((x)**(x))+1)', '((x)+1)+((x)+1)+(((((((0.8222593830201446)+1))+1))+1))**3*((x)+1)+((x)+1)*(((x)**(x))+1)', '((x)+1)+((x)+1)+(((((((0.8222593830201446)+1))+1))+1))**3*((x)+1)+((x)+1)*(((x)**(x))+1)', '((x)+1)+((x)+1)+(((((((0.8222593830201446)+1))+1))+1))**3*((x)+1)+((x)+1)*(((x)**(x))+1)', '((x)+1)+((x)+1)+(((((((0.8222593830201446)+1))+1))+1))**3*((x)+1)+((x)+1)*(((x)**(x))+1)', '((x)+1)+((x)+1)+(((((((0.8222593830201446)+1))+1))+1))**3*((x)+1)+((x)+1)*(((x)**(x))+1)', '((x)+1)+((x)+1)+(((((((0.8222593830201446)+1))+1))+1))**3*((x)+1)+((x)+1)*(((x)**(x))+1)', '((x)+1)+((x)+1)+(((((((0.8222593830201446)+1))+1))+1))**3*((x)+1)+((x)+1)*(((x)**(x))+1)', '((x)+1)+((x)+1)+(((((((0.8222593830201446)+1))+1))+1))**3*((x)+1)+((x)+1)*(((x)**(x))+1)', '((x)+1)+((x)+1)+(((((((0.8222593830201446)+1))+1))+1))**3*((x)+1)+((x)+1)*(((x)**(x))+1)', '((x)+1)+((x)+1)+(((((((0.8222593830201446)+1))+1))+1))**3*((x)+1)+((x)+1)*(((x)**(x))+1)', '((x)+1)+((x)+1)+(((((((0.8222593830201446)+1))+1))+1))**3*((x)+1)+((x)+1)*(((x)**(x))+1)', '((x)+1)+((x)+1)+(((((((0.8222593830201446)+1))+1))+1))**3*((x)+1)+((x)+1)*(((x)**(x))+1)', '((x)+1)+((x)+1)+(((((((0.8222593830201446)+1))+1))+1))**3*((x)+1)+((x)+1)*(((x)**(x))+1)', '((x)+1)+((x)+1)+(((((((0.8222593830201446)+1))+1))+1))**3*((x)+1)+((x)+1)*(((x)**(x))+1)', '((x)+1)+((x)+1)+(((((((0.8222593830201446)+1))+1))+1))**3*((x)+1)+((x)+1)*(((x)**(x))+1)', '((x)+1)+((x)+1)+(((((((0.8222593830201446)+1))+1))+1))**3*((x)+1)+((x)+1)*(((x)**(x))+1)', '((x)+1)+((x)+1)+(((((((0.8222593830201446)+1))+1))+1))**3*((x)+1)+((x)+1)*(((x)**(x))+1)', '((x)+1)+((x)+1)+(((((((0.8222593830201446)+1))+1))+1))**3*((x)+1)+((x)+1)*(((x)**(x))+1)', '((x)+1)+((x)+1)+(((((((0.8222593830201446)+1))+1))+1))**3*((x)+1)+((x)+1)*(((x)**(x))+1)', '((x)+1)+((x)+1)+(((((((0.8222593830201446)+1))+1))+1))**3*((x)+1)+((x)+1)*(((x)**(x))+1)', '((x)+1)+((x)+1)+(((((((0.8222593830201446)+1))+1))+1))**3*((x)+1)+((x)+1)*(((x)**(x))+1)', '((x)+1)+((x)+1)+(((((((0.8222593830201446)+1))+1))+1))**3*((x)+1)+((x)+1)*(((x)**(x))+1)', '((x)+1)+((x)+1)+(((((((0.8222593830201446)+1))+1))+1))**3*((x)+1)+((x)+1)*(((x)**(x))+1)', '((x)+1)+((x)+1)+(((((((0.8222593830201446)+1))+1))+1))**3*((x)+1)+((x)+1)*(((x)**(x))+1)', '((x)+1)+((x)+1)+(((((((0.8222593830201446)+1))+1))+1))**3*((x)+1)+((x)+1)*(((x)**(x))+1)', '((x)+1)+((x)+1)+(((((((0.8222593830201446)+1))+1))+1))**3*((x)+1)+((x)+1)*(((x)**(x))+1)', '((x)+1)+((x)+1)+(((((((0.8222593830201446)+1))+1))+1))**3*((x)+1)+((x)+1)*(((x)**(x))+1)', '((x)+1)+((x)+1)+(((((((0.8222593830201446)+1))+1))+1))**3*((x)+1)+((x)+1)*(((x)**(x))+1)', '((x)+1)+((x)+1)+(((((((0.8222593830201446)+1))+1))+1))**3*((x)+1)+((x)+1)*(((x)**(x))+1)', '((x)+1)+((x)+1)+(((((((0.8222593830201446)+1))+1))+1))**3*((x)+1)+((x)+1)*(((x)**(x))+1)', '((x)+1)+((x)+1)+(((((((0.8222593830201446)+1))+1))+1))**3*((x)+1)+((x)+1)*(((x)**(x))+1)', '((x)+1)+((x)+1)+(((((((0.8222593830201446)+1))+1))+1))**3*((x)+1)+((x)+1)*(((x)**(x))+1)', '((x)+1)+((x)+1)+(((((((0.8222593830201446)+1))+1))+1))**3*((x)+1)+((x)+1)*(((x)**(x))+1)', '((x)+1)+((x)+1)+(((((((0.8222593830201446)+1))+1))+1))**3*((x)+1)+((x)+1)*(((x)**(x))+1)', '((x)+1)+((x)+1)+(((((((0.8222593830201446)+1))+1))+1))**3*((x)+1)+((x)+1)*(((x)**(x))+1)', '((x)+1)+((x)+1)+(((((((0.8222593830201446)+1))+1))+1))**3*((x)+1)+((x)+1)*(((x)**(x))+1)', '((x)+1)+((x)+1)+(((((((0.8222593830201446)+1))+1))+1))**3*((x)+1)+((x)+1)*(((x)**(x))+1)', '((x)+1)+((x)+1)+(((((((0.8222593830201446)+1))+1))+1))**3*((x)+1)+((x)+1)*(((x)**(x))+1)', '((x)+1)+((x)+1)+(((((((0.8222593830201446)+1))+1))+1))**3*((x)+1)+((x)+1)*(((x)**(x))+1)', '((x)+1)+((x)+1)+(((((((0.8222593830201446)+1))+1))+1))**3*((x)+1)+((x)+1)*(((x)**(x))+1)', '((x)+1)+((x)+1)+(((((((0.8222593830201446)+1))+1))+1))**3*((x)+1)+((x)+1)*(((x)**(x))+1)', '((x)+1)+((x)+1)+(((((((0.8222593830201446)+1))+1))+1))**3*((x)+1)+((x)+1)*(((x)**(x))+1)', '((x)+1)+((x)+1)+(((((((0.8222593830201446)+1))+1))+1))**3*((x)+1)+((x)+1)*(((x)**(x))+1)', '((x)+1)+((x)+1)+(((((((0.8222593830201446)+1))+1))+1))**3*((x)+1)+((x)+1)*(((x)**(x))+1)', '((x)+1)+((x)+1)+(((((((0.8222593830201446)+1))+1))+1))**3*((x)+1)+((x)+1)*(((x)**(x))+1)', '((x)+1)+((x)+1)+(((((((0.8222593830201446)+1))+1))+1))**3*((x)+1)+((x)+1)*((((x)+1))+1)', '((x)+1)+((x)+1)+(((((((0.8222593830201446)+1))+1))+1))**3*((x)+1)+((x)+1)*((((x)+1))+1)', '((x)+1)+((x)+1)+(((((((0.8222593830201446)+1))+1))+1))**3*((x)+1)+((x)+1)*((((x)+1))+1)', '((x)+1)+((x)+1)+(((((((0.8222593830201446)+1))+1))+1))**3*((x)+1)+((x)+1)*((((x)+1))+1)', '((x)+1)-((x)+1)+(((((((0.8222593830201446)+1))+1))+1))**3*((x)+1)+((x)+1)*(((x)**(x))+1)', '((x)+1)+((x)+1)+(((((((0.8222593830201446)+1))+1))+1))**3*((x)+1)+((x)+1)*((0.8222593830201446)+1)', '((x)+1)*((x)+1)+(((((((0.8222593830201446)+1))+1))+1))**3*((x)+1)+0.7967771103685531*(((x)**(x))+1)', '((x)+1)+((x)+1)+(((((((0.8222593830201446)+1))+1))+1))**3*((x)+1)+0.7967771103685531+0.9523684370340932', '((x)+1)+((x)+1)+(((((((0.8222593830201446)+1))+1))+1))**3*((x)+1)+((x)+1)*0.6277479386440952', '((x)+1)+((x)+1)+(((((((0.8222593830201446)+1))+1))+1))**3*((x)+1)+((x)+1)/(((x)**(x))+1)', '((x)+1)+((x)+1)+(((((((0.8222593830201446)+1))+1))+1))**3*((x)+1)+((x)+1)/(((x)**(x))+1)', '((x)+1)+((x)+1)+(((((((0.8222593830201446)+1))+1))+1))**3*((x)+1)+((x)+1)-(((x)**(x))+1)', '((x)+1)+((x)+1)+(((((((0.8222593830201446)+1))+1))+1))**3*((x)+1)-((x)+1)*(((x)**(x))+1)', '((x)+1)+0.7967771103685531+(((((((0.8222593830201446)+1))+1))+1))**3*((x)+1)-((x)+1)*(((x)**(x))+1)', '((x)+1)+((x)+1)+(((((((0.8222593830201446)+1))+1))+1))**3*((x)+1)+(x)**3*(((x)**(x))+1)', '((x)+1)+((x)+1)+(((((((0.8222593830201446)+1))+1))+1))**3*0.9523684370340932/((x)+1)*(((x)**(x))+1)', '((x)+1)+((x)+1)+(((((((0.8222593830201446)+1))+1))+1))**3+((x)+1)+((x)+1)*(((x)**(x))+1)', '((x)+1)+((x)+1)*(((((((0.8222593830201446)+1))+1))+1))**3/((x)+1)+((x)+1)*(((x)**(x))+1)', '((x)+1)+((x)+1)+(((((((0.8222593830201446)+1))+1))+1))**3-((x)+1)+((x)+1)*(((x)**(x))+1)', '((x)+1)+((x)+1)+(((((((0.8222593830201446)+1))+1))+1))**3-((x)+1)+((x)+1)*(((x)**(x))+1)', '((x)+1)+((x)+1)+(((((((0.8222593830201446)+1))+1))+1))**3-((x)+1)+((x)+1)*(((x)**(x))+1)', '((x)+1)+((x)+1)+(((((((0.8222593830201446)+1))+1))+1))**3*((x)+1)/((x)+1)*(((x)**(x))+1)', '((x)+1)+((x)+1)+(((((((0.8222593830201446)+1))+1))+1))**3/((x)+1)+((x)+1)*(((x)**(x))+1)', '((x)+1)+((x)+1)+(((((((0.8222593830201446)+1))+1))+1))**3/((x)+1)+((x)+1)*(((x)**(x))+1)', '((x)+1)+((x)+1)+((((((0.8222593830201446)**3)+1))+1))**3*((x)+1)+((x)+1)*(((x)**(x))+1)', '((x)+1)+((x)+1)+(((((((0.8222593830201446)+1))+1))+1))**2*((x)+1)+((x)+1)*(((x)**(x))+1)', '((x)+1)+((x)+1)+(((((((((((((((((x)**(x))+1))+1))+1))+1))+1))+1))+1))+1)*((x)+1)+((x)+1)*(((x)**(x))+1)', '((x)+1)+((x)+1)+((((((((0.8222593830201446)+1))+1))+1))+1)*((x)+1)*((x)+1)*(((x)**(x))+1)', '((x)+1)*((x)+1)+(((((((0.8222593830201446)+1))+1))**2)+1)*((x)+1)+((x)+1)*0.39086490365372273', '((x)+1)+((x)+1)+((((((((0.8222593830201446)+1))+1))+1))+1)*((x)+1)+((x)+1)*(((x)**(x))+1)', '((x)+1)+((x)+1)+((((((((0.8222593830201446)+1))+1))+1))+1)*((x)+1)+((x)+1)*((0.7967771103685531)+1)', '((x)+1)+((x)+1)+0.8222593830201446*((x)+1)+((x)+1)*((((x)+1))+1)', '((x)+1)+((x)+1)+0.39086490365372273*((x)+1)+((x)+1)*(((x)**(x))+1)', '((x)+1)+((x)+1)/((((((((0.8222593830201446)+1))+1))+1))+1)*((x)+1)+((x)+1)*(((x)**(x))+1)', '((x)+1)+0.9523684370340932/((((((((0.8222593830201446)+1))+1))+1))+1)*((x)+1)+((x)+1)*(((x)**(x))+1)', '((x)+1)+((x)+1)+(((0.8222593830201446)+1))**3*((x)+1)*((x)+1)*(((x)**(x))+1)', '((x)+1)+((x)+1)+(((((((0.8222593830201446)+1))+1))+1))**(((((((0.8222593830201446)+1))+1))+1))*((x)+1)+((x)+1)*(((x)**(x))+1)', '((x)+1)+((x)+1)+(((((((0.8222593830201446)+1))+1))+1))**(((((((0.8222593830201446)+1))+1))+1))*((x)+1)+(x)**3*(((x)**(x))+1)', '((x)+1)+((x)+1)+((((((0.6277479386440952)**2)+1))+1))**3*((x)+1)*((x)+1)*(((x)**(x))+1)', '((x)+1)+((x)+1)+((((((((0.8222593830201446)+1))+1))+1))+1)*((x)+1)+((x)+1)*((x)**(x))**3', '((x)+1)+((x)+1)+((((((0.8222593830201446)+1))**3)+1))**3*((x)+1)+((x)+1)*(((x)**(x))+1)', '((x)+1)+((x)+1)+((((((((((((((((x)**(x))+1))+1))+1))+1))+1))+1))+1))**3*((x)+1)+((x)+1)*(((x)**(x))+1)', '((x)+1)+((x)+1)+((((((((((((((((x)**(x))+1))+1))+1))+1))+1))+1))+1))**3*((x)+1)+((x)+1)*(((x)**(x))+1)', '((x)+1)+((x)+1)+((((((((((((((((x)**(x))+1))+1))+1))+1))+1))+1))+1))**3*((x)+1)+((x)+1)*(((x)**(x))+1)', '((x)+1)+((x)+1)+((((((((((((((((x)**(x))+1))+1))+1))+1))+1))+1))+1))**3*((x)+1)+((x)+1)*(((x)**(x))+1)', '((x)+1)+((x)+1)+((((((((((((((((x)**(x))+1))+1))+1))+1))+1))+1))+1))**3*((x)+1)+((x)+1)*(((x)**(x))+1)', '((x)+1)+((x)+1)+((((((((((((((((x)**(x))+1))+1))+1))+1))+1))+1))+1))**3*((x)+1)+((x)+1)*(((x)**(x))+1)', '((x)+1)+((x)+1)+((((((((((((((((x)**(x))+1))+1))+1))+1))+1))+1))+1))**3*((x)+1)+((x)+1)*(((x)**(x))+1)', '((x)+1)+((x)+1)+(((((((0.8222593830201446)+1))+1))+1))**3*((x)+1)*(x)**(x)*(((x)**(x))+1)', '((x)+1)+((x)+1)+((((((0.8222593830201446)+1))+1))**3)**3*((x)+1)+((x)+1)*((x)**(x))**2', '((x)+1)+((x)+1)+(((0.6277479386440952)+1))**3*((x)+1)*0.8222593830201446*((x)**(x))**((x)**(x))']\n",
      "Menor chi^2: 23.030793542986714\n"
     ]
    },
    {
     "data": {
      "image/png": "[encoded data removed]",
      "text/plain": [
       "<Figure size 432x288 with 1 Axes>"
      ]
     },
     "metadata": {
      "needs_background": "light"
     },
     "output_type": "display_data"
    }
   ],
   "source": [
    "funciones_finales = recu[0]\n",
    "chis_finales = recu[1]\n",
    "print(funciones_finales)\n",
    "print(f\"Menor chi^2: {recu[1][-1]}\")\n",
    "#print(recu[1])\n",
    "\n",
    "z_chis= np.linspace(0, generaciones_evaluar, generaciones_evaluar + 1)\n",
    "plt.xlabel('$ z $')\n",
    "plt.ylabel('$ \\chi^2 $')\n",
    "plt.title('Menor $\\chi^2$ para cada generación')\n",
    "plt.plot(z_chis,chis_finales, color = 'blue')\n",
    "plt.grid(True)\n",
    "plt.show()"
   ]
  },
  {
   "cell_type": "code",
   "execution_count": null,
   "metadata": {},
   "outputs": [],
   "source": [
    "#Graficando la función teórica\n",
    "\n",
    "#Parámetros\n",
    "omega_r = 8.4e-5\n",
    "omega_l = 0.7 - omega_r\n",
    "omega_0 = 1\n",
    "omega_k = 1 - omega_0\n",
    "\n",
    "omega_m = 1 - omega_k - omega_l - omega_r\n",
    "\n",
    "#Creamos la función teórica\n",
    "array_z = np.array(z)\n",
    "\n",
    "def H_t(z):\n",
    "    return H_0* ((omega_r * (1+z)**4) + omega_m * (1+z)**3 + omega_l + omega_k* (1+z)**2)**(1/2)"
   ]
  },
  {
   "cell_type": "code",
   "execution_count": null,
   "metadata": {},
   "outputs": [
    {
     "data": {
      "image/png": "[encoded data removed]",
      "text/plain": [
       "<Figure size 432x288 with 1 Axes>"
      ]
     },
     "metadata": {
      "needs_background": "light"
     },
     "output_type": "display_data"
    }
   ],
   "source": [
    "best_fit = []\n",
    "for string in funciones_finales:\n",
    "    a= pasar_a_funcion(string)\n",
    "    best_fit.append(a)\n",
    "\n",
    "yerr = desv\n",
    "plt.xlabel('$ z $')\n",
    "plt.ylabel('$ H(z) $')\n",
    "plt.title('Parámetro de Hubble')\n",
    "\n",
    "omega_0 = 1\n",
    "omega_k = 1 - omega_0\n",
    "plt.plot(array_z, H_t(array_z), color = 'purple', label='Función teórica en universo plano')\n",
    "plt.plot(z, best_fit[0](z), label= 'Best fit function 1')\n",
    "plt.plot(z, best_fit[1](z), label= 'Best fit function 2')\n",
    "plt.plot(z, best_fit[2](z), label= 'Best fit function 3')\n",
    "#plt.plot(z, best_fit[3](z), label= 'Best fit function 4')\n",
    "\n",
    "plt.errorbar(z, H, yerr=yerr, fmt='.', color = 'orange', label = 'Incertidumbre asociada')\n",
    "plt.legend()\n",
    "plt.grid(True)\n",
    "plt.show()\n"
   ]
  },
  {
   "cell_type": "code",
   "execution_count": null,
   "metadata": {},
   "outputs": [
    {
     "data": {
      "text/plain": [
       "[<matplotlib.lines.Line2D at 0x2b05105e430>]"
      ]
     },
     "execution_count": 131,
     "metadata": {},
     "output_type": "execute_result"
    },
    {
     "data": {
      "image/png": "[encoded data removed]",
      "text/plain": [
       "<Figure size 432x288 with 1 Axes>"
      ]
     },
     "metadata": {
      "needs_background": "light"
     },
     "output_type": "display_data"
    }
   ],
   "source": [
    "def mejor_fit(x):\n",
    "    return 3.177+(x+1)*57.906+((x**x)/0.258)-(x+1/(x**x))\n",
    "\n",
    "plt.plot(array_z, H_t(array_z), color = 'purple', label='Función teórica en universo plano')\n",
    "plt.plot(z, mejor_fit(z), label= 'Best fit function 1')"
   ]
  }
 ],
 "metadata": {
  "kernelspec": {
   "display_name": "base",
   "language": "python",
   "name": "python3"
  },
  "language_info": {
   "codemirror_mode": {
    "name": "ipython",
    "version": 3
   },
   "file_extension": ".py",
   "mimetype": "text/x-python",
   "name": "python",
   "nbconvert_exporter": "python",
   "pygments_lexer": "ipython3",
   "version": "3.8.8"
  }
 },
 "nbformat": 4,
 "nbformat_minor": 2
}
