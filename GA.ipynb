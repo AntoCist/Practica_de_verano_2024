{
 "cells": [
  {
   "cell_type": "code",
   "execution_count": 133,
   "metadata": {},
   "outputs": [],
   "source": [
    "import numpy as np\n",
    "from scipy.integrate import solve_ivp\n",
    "import matplotlib.pyplot as plt\n",
    "import math\n",
    "import heapq\n",
    "\n",
    "\n",
    "doc1 = open(\"C:/Users/antoc/Downloads/PortableGit/practica2024/lcparam_full_long.txt\")\n",
    "lineas = doc1.readlines()\n",
    "\n",
    "# Divide cada línea en columnas usando espacio como separador\n",
    "datos_separados = [linea.strip().split(' ') for linea in lineas]\n",
    "\n",
    "datos= []\n",
    "for fila in datos_separados:\n",
    "    datos.append(fila)\n",
    "    #print(fila)\n",
    "doc1.close()\n",
    "\n",
    "z_cmb = []\n",
    "for i in range(1,len(datos)):\n",
    "  a= float(datos[i][1])\n",
    "  z_cmb.append(a)\n",
    "\n",
    "array_z_cmb = np.array(z_cmb)\n",
    "\n",
    "m_b = []\n",
    "for i in range(1, len(datos)):\n",
    "  a= float(datos[i][4])\n",
    "  m_b.append(a)\n",
    "\n",
    "\n",
    "dm_b = []\n",
    "for i in range(1, len(datos)):\n",
    "    a= float(datos[i][5])\n",
    "    dm_b.append(a)\n",
    "\n",
    "#Relación magnitud aparente y absoluta con distancia de luminosidad\n",
    "M = -19.3\n",
    "D_L = np.zeros(len(m_b))\n",
    "for i in range(len(m_b)):\n",
    "  D_L[i]= 10**((m_b[i]-M-25)/5)\n",
    "  \n",
    "#print('D_L:', D_L)\n"
   ]
  },
  {
   "cell_type": "code",
   "execution_count": 134,
   "metadata": {},
   "outputs": [],
   "source": [
    "#utilizando propagación de errores\n",
    "dD = []\n",
    "for i in range(len(dm_b)):\n",
    "  a= (2**((m_b[i]-M-25)/5)) * (5**(((m_b[i]-M-25)/5)-1))* np.log(10) * dm_b[i]\n",
    "  dD.append(a)"
   ]
  },
  {
   "cell_type": "markdown",
   "metadata": {},
   "source": [
    "Datos de Hubble"
   ]
  },
  {
   "cell_type": "code",
   "execution_count": 135,
   "metadata": {},
   "outputs": [],
   "source": [
    "doc2 = open(\"C:/Users/antoc/Downloads/PortableGit/practica2024/hub_data.txt\")\n",
    "lineas2 = doc2.readlines()\n",
    "\n",
    "# Divide cada línea en columnas usando espacio como separador\n",
    "datos_separados2 = [linea.strip().split(' ') for linea in lineas2]\n",
    "\n",
    "datos= []\n",
    "for fila in datos_separados2:\n",
    "    datos.append(fila)\n",
    "\n",
    "z = []\n",
    "for i in range(len(datos)):\n",
    "      a = float(datos[i][0])\n",
    "      z.append(a)\n",
    "array_z =np.array(z)\n",
    "\n",
    "H = []\n",
    "for i in range(len(datos)):\n",
    "   if datos[i][1] == '':\n",
    "      a = float(datos[i][2])\n",
    "      H.append(a)\n",
    "   else:\n",
    "      a = float(datos[i][1])\n",
    "      H.append(a)\n",
    "array_H = np.array(H)\n",
    "\n",
    "desv = []\n",
    "for i in range(len(datos)):\n",
    "    a = float(datos[i][2])\n",
    "    desv.append(a)\n"
   ]
  },
  {
   "cell_type": "code",
   "execution_count": 136,
   "metadata": {},
   "outputs": [],
   "source": [
    "H_0= 70\n",
    "c = 3e6\n",
    "\n",
    "E = np.zeros_like(H)\n",
    "for i in range(len(H)):\n",
    "    E[i] = H[i]/H_0\n",
    "\n",
    "def regla_trapecio_numerica(x, y, j):\n",
    "    integral = 0\n",
    "    n = j\n",
    "    for i in range(1, n):\n",
    "        integral += (x[i] - x[i - 1]) * (y[i] + y[i - 1])/2\n",
    "\n",
    "    return integral\n",
    "\n",
    "# Calcular la aproximación de la integral utilizando la regla del trapecio\n",
    "resultado_integral = np.zeros_like(H)\n",
    "for j in range(len(H)):\n",
    "    resultado_integral[j] = regla_trapecio_numerica(z, 1/E, j)\n",
    "    #print(\"El resultado de la integral es:\", resultado_integral[j])\n",
    "\n",
    "DL_H = np.zeros_like(H)\n",
    "for i in range(len(H)):\n",
    "    DL_H[i]= c * (1+ z[i])/ H_0 * resultado_integral[i]\n"
   ]
  },
  {
   "cell_type": "markdown",
   "metadata": {},
   "source": [
    "¿Como sacamos el error del DL a partir de la desviación estándar de H? (Lo hice con H(z) mientras)"
   ]
  },
  {
   "cell_type": "code",
   "execution_count": 137,
   "metadata": {},
   "outputs": [
    {
     "name": "stdout",
     "output_type": "stream",
     "text": [
      "[4157.01591713639 4430.910574765109 4336.577913283831 4323.031657922317\n",
      " 4288.763494821255 4243.17294910014 4318.165617110693 4300.926784511239\n",
      " 4239.109972002022]\n"
     ]
    }
   ],
   "source": [
    "def exp(x):\n",
    "    return np.exp(x)\n",
    "def ln(x):\n",
    "    return np.log(x)\n",
    "def sin(x):\n",
    "    return np.sin(x)\n",
    "def cos(x):\n",
    "    return np.cos(x)\n",
    "def senh(x):\n",
    "    return np.sinh(x)\n",
    "def cosh(x):\n",
    "    return np.cosh(x)\n",
    "def poli1(x):\n",
    "    return x \n",
    "def poli2(x):\n",
    "    return x**2\n",
    "def poli3(x):\n",
    "    return x**3\n",
    "\n",
    "grammar = [exp, ln, sin, cos, senh, cosh, poli1, poli2, poli3]\n",
    "operaciones = ['+', '-', '*', '/']\n",
    "\n",
    "#A partir de las funciones ingresadas inicialmente, calcula el chi_2\n",
    "def chi_2_valores(func):\n",
    "    return ((array_H - func(array_z))/desv)**2\n",
    "\n",
    "def chi_2_f(func):\n",
    "    chi_2_val = np.zeros_like(func)\n",
    "    chi_2 = np.zeros_like(func)\n",
    "    for i in range(len(func)):\n",
    "        chi_2_val[i] = chi_2_valores(func[i])\n",
    "        for j in range(len(chi_2_val)):\n",
    "            chi_2[j] = np.sum(chi_2_val[j])\n",
    "    \n",
    "    return chi_2\n",
    "\n",
    "print(chi_2_f(grammar))\n",
    "chi_inic = chi_2_f(grammar)"
   ]
  },
  {
   "cell_type": "code",
   "execution_count": 138,
   "metadata": {},
   "outputs": [
    {
     "name": "stdout",
     "output_type": "stream",
     "text": [
      "[1.0, -1.0, 0.0, 0.0]\n"
     ]
    }
   ],
   "source": [
    "def funcion_combinada(func1, func2, operaciones):\n",
    "    operadores = {'+': lambda x: func1(x) + func2(x),\n",
    "                  '-': lambda x: func1(x) - func2(x),\n",
    "                  '*': lambda x: func1(x) * func2(x),\n",
    "                  '/': lambda x: func1(x) / func2(x) if func2(x) != 0 else np.inf if func1(x) > 0 else -np.inf}\n",
    "\n",
    "    def combinacion(x):\n",
    "        resultados = []\n",
    "        for operacion in operaciones:\n",
    "            resultados.append(operadores[operacion](x))\n",
    "\n",
    "        return resultados\n",
    "\n",
    "\n",
    "    return combinacion\n",
    "\n",
    "func_combinada = funcion_combinada(sin, cos, operaciones)\n",
    "\n",
    "# Evaluar la función combinada\n",
    "x = 0\n",
    "resultados = func_combinada(x)\n",
    "print(resultados)"
   ]
  },
  {
   "cell_type": "code",
   "execution_count": 141,
   "metadata": {},
   "outputs": [
    {
     "ename": "TypeError",
     "evalue": "'numpy.ndarray' object is not callable",
     "output_type": "error",
     "traceback": [
      "\u001b[1;31m---------------------------------------------------------------------------\u001b[0m",
      "\u001b[1;31mTypeError\u001b[0m                                 Traceback (most recent call last)",
      "\u001b[1;32m<ipython-input-141-7b3f090d7d96>\u001b[0m in \u001b[0;36m<module>\u001b[1;34m\u001b[0m\n\u001b[0;32m     11\u001b[0m \u001b[1;33m\u001b[0m\u001b[0m\n\u001b[0;32m     12\u001b[0m \u001b[1;31m#Se obtiene chi^2 para todas las combinaciones\u001b[0m\u001b[1;33m\u001b[0m\u001b[1;33m\u001b[0m\u001b[1;33m\u001b[0m\u001b[0m\n\u001b[1;32m---> 13\u001b[1;33m \u001b[0mprint\u001b[0m\u001b[1;33m(\u001b[0m\u001b[0mchi_2_f\u001b[0m\u001b[1;33m(\u001b[0m\u001b[0mcombinaciones_iniciales\u001b[0m\u001b[1;33m)\u001b[0m\u001b[1;33m)\u001b[0m\u001b[1;33m\u001b[0m\u001b[1;33m\u001b[0m\u001b[0m\n\u001b[0m\u001b[0;32m     14\u001b[0m \u001b[0mchi_combinaciones\u001b[0m \u001b[1;33m=\u001b[0m \u001b[0mchi_2_f\u001b[0m\u001b[1;33m(\u001b[0m\u001b[0mcombinaciones_iniciales\u001b[0m\u001b[1;33m)\u001b[0m\u001b[1;33m\u001b[0m\u001b[1;33m\u001b[0m\u001b[0m\n",
      "\u001b[1;32m<ipython-input-137-e33422f003df>\u001b[0m in \u001b[0;36mchi_2_f\u001b[1;34m(func)\u001b[0m\n\u001b[0;32m     29\u001b[0m     \u001b[0mchi_2\u001b[0m \u001b[1;33m=\u001b[0m \u001b[0mnp\u001b[0m\u001b[1;33m.\u001b[0m\u001b[0mzeros_like\u001b[0m\u001b[1;33m(\u001b[0m\u001b[0mfunc\u001b[0m\u001b[1;33m)\u001b[0m\u001b[1;33m\u001b[0m\u001b[1;33m\u001b[0m\u001b[0m\n\u001b[0;32m     30\u001b[0m     \u001b[1;32mfor\u001b[0m \u001b[0mi\u001b[0m \u001b[1;32min\u001b[0m \u001b[0mrange\u001b[0m\u001b[1;33m(\u001b[0m\u001b[0mlen\u001b[0m\u001b[1;33m(\u001b[0m\u001b[0mfunc\u001b[0m\u001b[1;33m)\u001b[0m\u001b[1;33m)\u001b[0m\u001b[1;33m:\u001b[0m\u001b[1;33m\u001b[0m\u001b[1;33m\u001b[0m\u001b[0m\n\u001b[1;32m---> 31\u001b[1;33m         \u001b[0mchi_2_val\u001b[0m\u001b[1;33m[\u001b[0m\u001b[0mi\u001b[0m\u001b[1;33m]\u001b[0m \u001b[1;33m=\u001b[0m \u001b[0mchi_2_valores\u001b[0m\u001b[1;33m(\u001b[0m\u001b[0mfunc\u001b[0m\u001b[1;33m[\u001b[0m\u001b[0mi\u001b[0m\u001b[1;33m]\u001b[0m\u001b[1;33m)\u001b[0m\u001b[1;33m\u001b[0m\u001b[1;33m\u001b[0m\u001b[0m\n\u001b[0m\u001b[0;32m     32\u001b[0m         \u001b[1;32mfor\u001b[0m \u001b[0mj\u001b[0m \u001b[1;32min\u001b[0m \u001b[0mrange\u001b[0m\u001b[1;33m(\u001b[0m\u001b[0mlen\u001b[0m\u001b[1;33m(\u001b[0m\u001b[0mchi_2_val\u001b[0m\u001b[1;33m)\u001b[0m\u001b[1;33m)\u001b[0m\u001b[1;33m:\u001b[0m\u001b[1;33m\u001b[0m\u001b[1;33m\u001b[0m\u001b[0m\n\u001b[0;32m     33\u001b[0m             \u001b[0mchi_2\u001b[0m\u001b[1;33m[\u001b[0m\u001b[0mj\u001b[0m\u001b[1;33m]\u001b[0m \u001b[1;33m=\u001b[0m \u001b[0mnp\u001b[0m\u001b[1;33m.\u001b[0m\u001b[0msum\u001b[0m\u001b[1;33m(\u001b[0m\u001b[0mchi_2_val\u001b[0m\u001b[1;33m[\u001b[0m\u001b[0mj\u001b[0m\u001b[1;33m]\u001b[0m\u001b[1;33m)\u001b[0m\u001b[1;33m\u001b[0m\u001b[1;33m\u001b[0m\u001b[0m\n",
      "\u001b[1;32m<ipython-input-137-e33422f003df>\u001b[0m in \u001b[0;36mchi_2_valores\u001b[1;34m(func)\u001b[0m\n\u001b[0;32m     23\u001b[0m \u001b[1;31m#A partir de las funciones ingresadas inicialmente, calcula el chi_2\u001b[0m\u001b[1;33m\u001b[0m\u001b[1;33m\u001b[0m\u001b[1;33m\u001b[0m\u001b[0m\n\u001b[0;32m     24\u001b[0m \u001b[1;32mdef\u001b[0m \u001b[0mchi_2_valores\u001b[0m\u001b[1;33m(\u001b[0m\u001b[0mfunc\u001b[0m\u001b[1;33m)\u001b[0m\u001b[1;33m:\u001b[0m\u001b[1;33m\u001b[0m\u001b[1;33m\u001b[0m\u001b[0m\n\u001b[1;32m---> 25\u001b[1;33m     \u001b[1;32mreturn\u001b[0m \u001b[1;33m(\u001b[0m\u001b[1;33m(\u001b[0m\u001b[0marray_H\u001b[0m \u001b[1;33m-\u001b[0m \u001b[0mfunc\u001b[0m\u001b[1;33m(\u001b[0m\u001b[0marray_z\u001b[0m\u001b[1;33m)\u001b[0m\u001b[1;33m)\u001b[0m\u001b[1;33m/\u001b[0m\u001b[0mdesv\u001b[0m\u001b[1;33m)\u001b[0m\u001b[1;33m**\u001b[0m\u001b[1;36m2\u001b[0m\u001b[1;33m\u001b[0m\u001b[1;33m\u001b[0m\u001b[0m\n\u001b[0m\u001b[0;32m     26\u001b[0m \u001b[1;33m\u001b[0m\u001b[0m\n\u001b[0;32m     27\u001b[0m \u001b[1;32mdef\u001b[0m \u001b[0mchi_2_f\u001b[0m\u001b[1;33m(\u001b[0m\u001b[0mfunc\u001b[0m\u001b[1;33m)\u001b[0m\u001b[1;33m:\u001b[0m\u001b[1;33m\u001b[0m\u001b[1;33m\u001b[0m\u001b[0m\n",
      "\u001b[1;31mTypeError\u001b[0m: 'numpy.ndarray' object is not callable"
     ]
    }
   ],
   "source": [
    "#Se juntan todas las combinaciones entre funciones\n",
    "combinaciones_iniciales = np.zeros((len(grammar), len(grammar)), dtype=object)\n",
    "for i in range(len(grammar)):\n",
    "    for j in range(len(grammar)):\n",
    "        combinaciones_iniciales[i][j] = funcion_combinada(grammar[i], grammar[j], operaciones)\n",
    "'''\n",
    "for row in combinaciones_iniciales:\n",
    "    for func_combinada in row:\n",
    "        print(func_combinada(0))  \n",
    "'''\n",
    "\n",
    "#Se obtiene chi^2 para todas las combinaciones\n",
    "print(chi_2_f(combinaciones_iniciales))\n",
    "chi_combinaciones = chi_2_f(combinaciones_iniciales)"
   ]
  },
  {
   "cell_type": "code",
   "execution_count": null,
   "metadata": {},
   "outputs": [
    {
     "name": "stdout",
     "output_type": "stream",
     "text": [
      "9\n"
     ]
    }
   ],
   "source": [
    "#Cantidad de sobrevivientes inicialmente \n",
    "#Todas las funciones iniciales son seleccionadas\n",
    "tasa_seleccion= 1\n",
    "cant_sobrevivientes = tasa_seleccion*len(chi_inic)\n",
    "cant_sobreviv = int(cant_sobrevivientes)\n",
    "print(cant_sobreviv)\n",
    "\n",
    "\n",
    "#chi_menores = sorted(chi_inic)[:cant_sobreviv]\n"
   ]
  },
  {
   "cell_type": "code",
   "execution_count": null,
   "metadata": {},
   "outputs": [
    {
     "name": "stdout",
     "output_type": "stream",
     "text": [
      "16\n"
     ]
    }
   ],
   "source": [
    "#Cantidad de sobrevivientes en el tiempo\n",
    "tasa_seleccion= 0.2\n",
    "cant_sobrevivientes = tasa_seleccion*(len(combinaciones_iniciales)*len(combinaciones_iniciales))\n",
    "cant_sobreviv = int(cant_sobrevivientes)\n",
    "print(cant_sobreviv)\n"
   ]
  },
  {
   "cell_type": "code",
   "execution_count": 142,
   "metadata": {},
   "outputs": [
    {
     "name": "stdout",
     "output_type": "stream",
     "text": [
      "Lista original: [5, 2, 8, 10, 1, 7, 3, 6, 4, 9, 12, 15, 11, 14, 13, 16, 17, 18, 19, 20]\n",
      "Índices de los primeros 16 elementos más pequeños: (4, 1, 6, 8, 0, 7, 5, 2, 9, 3, 12, 10, 14, 13, 11, 15)\n",
      "Valores de los primeros 16 elementos más pequeños: (1, 2, 3, 4, 5, 6, 7, 8, 9, 10, 11, 12, 13, 14, 15, 16)\n"
     ]
    }
   ],
   "source": [
    "#Para obtener los valores de chi menores y los índices\n",
    "mi_lista = [5, 2, 8, 10, 1, 7, 3, 6, 4, 9, 12, 15, 11, 14, 13, 16, 17, 18, 19, 20]\n",
    "\n",
    "# Número de elementos más pequeños\n",
    "num_elementos = cant_sobreviv\n",
    "\n",
    "# Obtener los índices y valores de los elementos más pequeños\n",
    "indices_valores_menores = sorted(enumerate(mi_lista), key=lambda x: x[1])[:num_elementos]\n",
    "\n",
    "# Separar los índices y valores en listas distintas\n",
    "indices_menores, valores_menores = zip(*indices_valores_menores)\n",
    "\n",
    "# Imprimir los resultados\n",
    "print(\"Lista original:\", mi_lista)    \n",
    "print(\"Índices de los primeros 16 elementos más pequeños:\", indices_menores)\n",
    "print(\"Valores de los primeros 16 elementos más pequeños:\", valores_menores)"
   ]
  },
  {
   "cell_type": "code",
   "execution_count": null,
   "metadata": {},
   "outputs": [
    {
     "name": "stdout",
     "output_type": "stream",
     "text": [
      "Resultado combinado en 1.0 es: 0.00231059182768764\n"
     ]
    }
   ],
   "source": [
    "'''\n",
    "para asignar un peso a cada función\n",
    "'''\n",
    "\n",
    "def combinar_funciones(grammar, pesos):\n",
    "    def funcion_combinada(x):\n",
    "        resultado = 0.0\n",
    "        for i, funcion in enumerate(grammar):\n",
    "            resultado += pesos[i] * funcion(x)\n",
    "        return resultado\n",
    "    \n",
    "    return funcion_combinada\n",
    "\n",
    "# Asigna pesos inversamente proporcionales a los chi cuadrado\n",
    "pesos = 1.0 / chi_2_f(grammar)\n",
    "\n",
    "# Crea la función combinada\n",
    "funciones_pe = combinar_funciones(grammar, pesos)\n",
    "\n",
    "# Evalúa la función combinada en un punto\n",
    "x_evaluado = 1.0\n",
    "resultado_combinado = funciones_pe(x_evaluado)\n",
    "\n",
    "print(\"Resultado combinado en\", x_evaluado, \"es:\", resultado_combinado)"
   ]
  },
  {
   "cell_type": "code",
   "execution_count": null,
   "metadata": {},
   "outputs": [],
   "source": [
    "def juntar_funciones(funcion_externa, funcion_interna):\n",
    "    \"\"\"\n",
    "    Combina dos funciones, donde la función_interna se evalúa dentro de la función_externa.\n",
    "    \n",
    "    Parámetros:\n",
    "    - funcion_externa: La función principal.\n",
    "    - funcion_interna: La función que se evaluará dentro de la función principal.\n",
    "    \n",
    "    Retorna:\n",
    "    - La función combinada.\n",
    "    \"\"\"\n",
    "    def funcion_combinada(x):\n",
    "        resultado_interno = funcion_interna(x)\n",
    "        resultado_externo = funcion_externa(resultado_interno)\n",
    "        return resultado_externo\n",
    "    \n",
    "    return funcion_combinada"
   ]
  }
 ],
 "metadata": {
  "kernelspec": {
   "display_name": "base",
   "language": "python",
   "name": "python3"
  },
  "language_info": {
   "codemirror_mode": {
    "name": "ipython",
    "version": 3
   },
   "file_extension": ".py",
   "mimetype": "text/x-python",
   "name": "python",
   "nbconvert_exporter": "python",
   "pygments_lexer": "ipython3",
   "version": "3.8.8"
  }
 },
 "nbformat": 4,
 "nbformat_minor": 2
}
