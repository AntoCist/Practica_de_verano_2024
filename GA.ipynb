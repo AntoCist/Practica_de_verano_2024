{
 "cells": [
  {
   "cell_type": "markdown",
   "metadata": {},
   "source": [
    "Datos de Hubble"
   ]
  },
  {
   "cell_type": "code",
   "execution_count": 289,
   "metadata": {},
   "outputs": [],
   "source": [
    "import numpy as np\n",
    "from scipy.integrate import solve_ivp\n",
    "import matplotlib.pyplot as plt\n",
    "import math\n",
    "import random\n",
    "import heapq\n",
    "from sympy import symbols, sympify, lambdify"
   ]
  },
  {
   "cell_type": "code",
   "execution_count": 290,
   "metadata": {},
   "outputs": [],
   "source": [
    "doc2 = open(\"C:/Users/antoc/Downloads/PortableGit/practica2024/hub_data.txt\")\n",
    "lineas2 = doc2.readlines()\n",
    "\n",
    "# Divide cada línea en columnas usando espacio como separador\n",
    "datos_separados2 = [linea.strip().split(' ') for linea in lineas2]\n",
    "\n",
    "datos= []\n",
    "for fila in datos_separados2:\n",
    "    datos.append(fila)\n",
    "\n",
    "z = []\n",
    "for i in range(len(datos)):\n",
    "      a = float(datos[i][0])\n",
    "      z.append(a)\n",
    "z =np.array(z)\n",
    "\n",
    "H = []\n",
    "for i in range(len(datos)):\n",
    "   if datos[i][1] == '':\n",
    "      a = float(datos[i][2])\n",
    "      H.append(a)\n",
    "   else:\n",
    "      a = float(datos[i][1])\n",
    "      H.append(a)\n",
    "H = np.array(H)\n",
    "\n",
    "desv = []\n",
    "for i in range(len(datos)):\n",
    "    a = float(datos[i][2])\n",
    "    desv.append(a)\n"
   ]
  },
  {
   "cell_type": "code",
   "execution_count": 291,
   "metadata": {},
   "outputs": [
    {
     "name": "stdout",
     "output_type": "stream",
     "text": [
      "[4157.01591713639 4430.910574765109 4318.165617110693 4300.926784511239\n",
      " 4239.109972002022]\n"
     ]
    }
   ],
   "source": [
    "def exp(x):\n",
    "    return np.exp(x)\n",
    "def ln(x):\n",
    "    return np.log(x)\n",
    "def poli1(x):\n",
    "    return x \n",
    "def poli2(x):\n",
    "    return x**2\n",
    "def poli3(x):\n",
    "    return x**3\n",
    "\n",
    "grammar = [exp, ln, poli1, poli2, poli3]\n",
    "operaciones = ['+', '-', '*', '/']\n",
    "\n",
    "#A partir de las funciones ingresadas inicialmente, calcula el chi_2\n",
    "def chi_2_valores(f):\n",
    "    return ((H - f(z))/desv)**2\n",
    "\n",
    "def chi_2_f(f):\n",
    "    chi_2_val = np.zeros_like(f)\n",
    "    chi_2 = np.zeros_like(f)\n",
    "    for i in range(len(f)):\n",
    "        chi_2_val[i] = chi_2_valores(f[i])\n",
    "        for j in range(len(chi_2_val)):\n",
    "            chi_2[j] = np.sum(chi_2_val[j])\n",
    "    \n",
    "    return chi_2\n",
    "\n",
    "print(chi_2_f(grammar))\n",
    "chi_inic = chi_2_f(grammar)"
   ]
  },
  {
   "cell_type": "markdown",
   "metadata": {},
   "source": [
    "### Combinar\n",
    "Se combinan las funciones iniciales con operaciones entre ellas hasta que sean 50 funciones iniciales."
   ]
  },
  {
   "cell_type": "code",
   "execution_count": 292,
   "metadata": {},
   "outputs": [],
   "source": [
    "def juntar_elementos_inicial(funciones, operaciones, longitud_final=50):\n",
    "    final = []\n",
    "    while len(final) < longitud_final * 3:\n",
    "        random_funcion = random.choice(funciones)\n",
    "        random_operador = random.choice(operaciones)\n",
    "\n",
    "        final.append(random_funcion)\n",
    "        final.append(random_operador)\n",
    "        final.append(random_funcion)\n",
    "\n",
    "    # Crear una lista de sublistas para representar las filas\n",
    "    resultado_final_inicial = [final[i:i+3] for i in range(0, len(final), 3)]\n",
    "\n",
    "    return resultado_final_inicial\n",
    "\n",
    "resultado_final_inicial = juntar_elementos_inicial(grammar, operaciones)\n",
    "\n",
    "#for fila in resultado_final:\n",
    "    #print(fila)\n",
    "\n"
   ]
  },
  {
   "cell_type": "code",
   "execution_count": 293,
   "metadata": {},
   "outputs": [
    {
     "name": "stdout",
     "output_type": "stream",
     "text": [
      "['-', <function poli2 at 0x000002670FC9B4C0>, '-', <function exp at 0x000002670FC9BE50>, '+', <function ln at 0x000002670FC9BB80>, '-', <function poli1 at 0x000002670FC9BCA0>, '/', <function poli1 at 0x000002670FC9BCA0>, '+', <function ln at 0x000002670FC9BB80>, '+', <function ln at 0x000002670FC9BB80>, <function poli2 at 0x000002670FC9B4C0>, '/', <function poli2 at 0x000002670FC9B4C0>, '+', <function exp at 0x000002670FC9BE50>, '+', <function exp at 0x000002670FC9BE50>, '-', <function poli3 at 0x000002670FC9B3A0>, <function poli1 at 0x000002670FC9BCA0>, '/', <function exp at 0x000002670FC9BE50>, '/', <function exp at 0x000002670FC9BE50>, <function poli1 at 0x000002670FC9BCA0>, '+', <function exp at 0x000002670FC9BE50>, '/', <function ln at 0x000002670FC9BB80>, '*', <function poli2 at 0x000002670FC9B4C0>, '*', <function poli1 at 0x000002670FC9BCA0>, '-', <function poli3 at 0x000002670FC9B3A0>, '+', <function poli3 at 0x000002670FC9B3A0>, '*', <function ln at 0x000002670FC9BB80>, '+', <function ln at 0x000002670FC9BB80>, '+', <function poli3 at 0x000002670FC9B3A0>, <function ln at 0x000002670FC9BB80>, '/', <function exp at 0x000002670FC9BE50>]\n"
     ]
    }
   ],
   "source": [
    "''' \n",
    "Para combinar elementos random\n",
    "'''\n",
    "#En final debo poner las funciones con mejores chi para hacer la recurrencia\n",
    "final = []\n",
    "def juntar_elementos(funciones, operaciones, longitud_final=50):\n",
    "    while len(final) < longitud_final:\n",
    "        dado = random.randint(0, 5)\n",
    "        random_funcion = random.choice(funciones)\n",
    "        random_operador = random.choice(operaciones)\n",
    "        if dado == 5:\n",
    "            final.append(random_funcion)\n",
    "        else:\n",
    "            final.append(random_operador)\n",
    "            final.append(random_funcion)\n",
    "\n",
    "    return final\n",
    "\n",
    "resultado_final = juntar_elementos(grammar, operaciones)\n",
    "print(resultado_final)\n"
   ]
  },
  {
   "cell_type": "markdown",
   "metadata": {},
   "source": [
    "Convertir la lista a función"
   ]
  },
  {
   "cell_type": "code",
   "execution_count": 294,
   "metadata": {},
   "outputs": [
    {
     "name": "stdout",
     "output_type": "stream",
     "text": [
      "2\n"
     ]
    }
   ],
   "source": [
    "x = symbols('x')\n",
    "def pasar_a_funcion(expresion):\n",
    "    a_sympy = sympify(expresion)\n",
    "    a_python = lambdify(x, a_sympy, 'numpy')\n",
    "    return a_python\n",
    "\n",
    "print(pasar_a_funcion('x + x')(1))"
   ]
  },
  {
   "cell_type": "code",
   "execution_count": 295,
   "metadata": {},
   "outputs": [
    {
     "name": "stdout",
     "output_type": "stream",
     "text": [
      "(x**2+x)\n",
      "((x**2+x)-x**2)\n",
      "(((x**2+x)-x**2)+x**2)\n",
      "6\n"
     ]
    }
   ],
   "source": [
    "def juntar_funciones(funcion_externa, funcion_interna):\n",
    "    def funcion_combinada(x):\n",
    "            resultado_interno = funcion_interna(x)\n",
    "            resultado_externo = funcion_externa(resultado_interno)\n",
    "            return resultado_externo\n",
    "    return funcion_combinada\n",
    "\n",
    "\n",
    "def a_string(funcion):\n",
    "    if funcion == exp:\n",
    "        f = 'exp(x)'\n",
    "    elif funcion == ln:\n",
    "        f = 'log(x)'\n",
    "    elif funcion == poli1:\n",
    "        f = 'x'\n",
    "    elif funcion == poli2:\n",
    "        f = 'x**2'\n",
    "    elif funcion == poli3:\n",
    "        f = 'x**3'\n",
    "    return f\n",
    "\n",
    "def convertir_lista_a_funcion(lista):\n",
    "    def nueva_funcion(x):\n",
    "        f = lista[0]\n",
    "        for i in range(len(lista)-1):\n",
    "            if callable(lista[i]):\n",
    "                if isinstance(lista[i+1], str):\n",
    "                    func1 = f\n",
    "                    func2 = lista[i+2]\n",
    "                else:\n",
    "                    f_nueva = juntar_funciones(lista[i+1], f)\n",
    "                    f= f_nueva                 \n",
    "            elif isinstance(lista[i], str):\n",
    "                if func1 == lista[0]:\n",
    "                    f1= a_string(lista[0])\n",
    "                else:\n",
    "                    f1 = f_string\n",
    "                f2= a_string(func2)\n",
    "                f_string = f\"({f1}{lista[i]}{f2})\"\n",
    "                print(f_string)\n",
    "                f= pasar_a_funcion(f_string)\n",
    "\n",
    "        return f\n",
    "    return nueva_funcion\n",
    "\n",
    "lista_prueba = [poli2, '+', poli1,'-', poli2, '+', poli2]\n",
    "funcion_prueba= convertir_lista_a_funcion(lista_prueba)\n",
    "print(funcion_prueba(1)(2))\n",
    "\n",
    "#NO ME DA LA COMPOSICION Y NO ENTIENDO POR QUE\n"
   ]
  },
  {
   "cell_type": "markdown",
   "metadata": {},
   "source": [
    "Calcular los $\\chi^2$ de la población inicial"
   ]
  },
  {
   "cell_type": "code",
   "execution_count": 296,
   "metadata": {},
   "outputs": [
    {
     "ename": "TypeError",
     "evalue": "chi_2_f() missing 1 required positional argument: 'f'",
     "output_type": "error",
     "traceback": [
      "\u001b[1;31m---------------------------------------------------------------------------\u001b[0m",
      "\u001b[1;31mTypeError\u001b[0m                                 Traceback (most recent call last)",
      "\u001b[1;32m<ipython-input-296-f97d58fd796f>\u001b[0m in \u001b[0;36m<module>\u001b[1;34m\u001b[0m\n\u001b[1;32m----> 1\u001b[1;33m \u001b[0mprint\u001b[0m\u001b[1;33m(\u001b[0m\u001b[0mchi_2_f\u001b[0m\u001b[1;33m(\u001b[0m\u001b[1;33m)\u001b[0m\u001b[1;33m)\u001b[0m\u001b[1;33m\u001b[0m\u001b[1;33m\u001b[0m\u001b[0m\n\u001b[0m\u001b[0;32m      2\u001b[0m \u001b[0mchi_combinaciones\u001b[0m \u001b[1;33m=\u001b[0m \u001b[0mchi_2_f\u001b[0m\u001b[1;33m(\u001b[0m\u001b[1;33m)\u001b[0m\u001b[1;33m\u001b[0m\u001b[1;33m\u001b[0m\u001b[0m\n",
      "\u001b[1;31mTypeError\u001b[0m: chi_2_f() missing 1 required positional argument: 'f'"
     ]
    }
   ],
   "source": [
    "print(chi_2_f())\n",
    "chi_combinaciones = chi_2_f()"
   ]
  },
  {
   "cell_type": "code",
   "execution_count": null,
   "metadata": {},
   "outputs": [
    {
     "ename": "TypeError",
     "evalue": "loop of ufunc does not support argument 0 of type Symbol which has no callable exp method",
     "output_type": "error",
     "traceback": [
      "\u001b[1;31m---------------------------------------------------------------------------\u001b[0m",
      "\u001b[1;31mAttributeError\u001b[0m                            Traceback (most recent call last)",
      "\u001b[1;31mAttributeError\u001b[0m: 'Symbol' object has no attribute 'exp'",
      "\nThe above exception was the direct cause of the following exception:\n",
      "\u001b[1;31mTypeError\u001b[0m                                 Traceback (most recent call last)",
      "\u001b[1;32m<ipython-input-235-c53726be5714>\u001b[0m in \u001b[0;36m<module>\u001b[1;34m\u001b[0m\n\u001b[0;32m     34\u001b[0m \u001b[0mfunc_combinada\u001b[0m \u001b[1;33m=\u001b[0m \u001b[0moperar_funciones\u001b[0m\u001b[1;33m(\u001b[0m\u001b[0mexp\u001b[0m\u001b[1;33m,\u001b[0m \u001b[0mexp\u001b[0m\u001b[1;33m,\u001b[0m \u001b[0moperaciones\u001b[0m\u001b[1;33m)\u001b[0m\u001b[1;33m\u001b[0m\u001b[1;33m\u001b[0m\u001b[0m\n\u001b[0;32m     35\u001b[0m \u001b[1;31m#x = 0\u001b[0m\u001b[1;33m\u001b[0m\u001b[1;33m\u001b[0m\u001b[1;33m\u001b[0m\u001b[0m\n\u001b[1;32m---> 36\u001b[1;33m \u001b[0mresultados_original\u001b[0m \u001b[1;33m=\u001b[0m \u001b[0mfunc_combinada\u001b[0m\u001b[1;33m(\u001b[0m\u001b[0mx\u001b[0m\u001b[1;33m)\u001b[0m\u001b[1;33m\u001b[0m\u001b[1;33m\u001b[0m\u001b[0m\n\u001b[0m\u001b[0;32m     37\u001b[0m \u001b[0mprint\u001b[0m\u001b[1;33m(\u001b[0m\u001b[1;34m\"Resultados original:\"\u001b[0m\u001b[1;33m,\u001b[0m \u001b[0mresultados_original\u001b[0m\u001b[1;33m)\u001b[0m\u001b[1;33m\u001b[0m\u001b[1;33m\u001b[0m\u001b[0m\n\u001b[0;32m     38\u001b[0m \u001b[1;33m\u001b[0m\u001b[0m\n",
      "\u001b[1;32m<ipython-input-235-c53726be5714>\u001b[0m in \u001b[0;36mcombinacion\u001b[1;34m(x)\u001b[0m\n\u001b[0;32m      8\u001b[0m         \u001b[0mresultados\u001b[0m \u001b[1;33m=\u001b[0m \u001b[1;33m[\u001b[0m\u001b[1;33m]\u001b[0m\u001b[1;33m\u001b[0m\u001b[1;33m\u001b[0m\u001b[0m\n\u001b[0;32m      9\u001b[0m         \u001b[1;32mfor\u001b[0m \u001b[0moperacion\u001b[0m \u001b[1;32min\u001b[0m \u001b[0moperaciones\u001b[0m\u001b[1;33m:\u001b[0m\u001b[1;33m\u001b[0m\u001b[1;33m\u001b[0m\u001b[0m\n\u001b[1;32m---> 10\u001b[1;33m             \u001b[0mresultados\u001b[0m\u001b[1;33m.\u001b[0m\u001b[0mappend\u001b[0m\u001b[1;33m(\u001b[0m\u001b[0moperadores\u001b[0m\u001b[1;33m[\u001b[0m\u001b[0moperacion\u001b[0m\u001b[1;33m]\u001b[0m\u001b[1;33m(\u001b[0m\u001b[0mx\u001b[0m\u001b[1;33m)\u001b[0m\u001b[1;33m)\u001b[0m\u001b[1;33m\u001b[0m\u001b[1;33m\u001b[0m\u001b[0m\n\u001b[0m\u001b[0;32m     11\u001b[0m \u001b[1;33m\u001b[0m\u001b[0m\n\u001b[0;32m     12\u001b[0m         \u001b[1;32mreturn\u001b[0m \u001b[0mresultados\u001b[0m\u001b[1;33m\u001b[0m\u001b[1;33m\u001b[0m\u001b[0m\n",
      "\u001b[1;32m<ipython-input-235-c53726be5714>\u001b[0m in \u001b[0;36m<lambda>\u001b[1;34m(x)\u001b[0m\n\u001b[0;32m      1\u001b[0m \u001b[1;32mdef\u001b[0m \u001b[0moperar_funciones\u001b[0m\u001b[1;33m(\u001b[0m\u001b[0mfunc1\u001b[0m\u001b[1;33m,\u001b[0m \u001b[0mfunc2\u001b[0m\u001b[1;33m,\u001b[0m \u001b[0moperaciones\u001b[0m\u001b[1;33m)\u001b[0m\u001b[1;33m:\u001b[0m\u001b[1;33m\u001b[0m\u001b[1;33m\u001b[0m\u001b[0m\n\u001b[1;32m----> 2\u001b[1;33m     operadores = {'+': lambda x: func1(x) + func2(x),\n\u001b[0m\u001b[0;32m      3\u001b[0m                   \u001b[1;34m'-'\u001b[0m\u001b[1;33m:\u001b[0m \u001b[1;32mlambda\u001b[0m \u001b[0mx\u001b[0m\u001b[1;33m:\u001b[0m \u001b[0mfunc1\u001b[0m\u001b[1;33m(\u001b[0m\u001b[0mx\u001b[0m\u001b[1;33m)\u001b[0m \u001b[1;33m-\u001b[0m \u001b[0mfunc2\u001b[0m\u001b[1;33m(\u001b[0m\u001b[0mx\u001b[0m\u001b[1;33m)\u001b[0m\u001b[1;33m,\u001b[0m\u001b[1;33m\u001b[0m\u001b[1;33m\u001b[0m\u001b[0m\n\u001b[0;32m      4\u001b[0m                   \u001b[1;34m'*'\u001b[0m\u001b[1;33m:\u001b[0m \u001b[1;32mlambda\u001b[0m \u001b[0mx\u001b[0m\u001b[1;33m:\u001b[0m \u001b[0mfunc1\u001b[0m\u001b[1;33m(\u001b[0m\u001b[0mx\u001b[0m\u001b[1;33m)\u001b[0m \u001b[1;33m*\u001b[0m \u001b[0mfunc2\u001b[0m\u001b[1;33m(\u001b[0m\u001b[0mx\u001b[0m\u001b[1;33m)\u001b[0m\u001b[1;33m,\u001b[0m\u001b[1;33m\u001b[0m\u001b[1;33m\u001b[0m\u001b[0m\n\u001b[0;32m      5\u001b[0m                   '/': lambda x: func1(x) / func2(x) if func2(x) != 0 else np.inf if func1(x) > 0 else -np.inf}\n",
      "\u001b[1;32m<ipython-input-231-18e68651ff4f>\u001b[0m in \u001b[0;36mexp\u001b[1;34m(x)\u001b[0m\n\u001b[0;32m      1\u001b[0m \u001b[1;32mdef\u001b[0m \u001b[0mexp\u001b[0m\u001b[1;33m(\u001b[0m\u001b[0mx\u001b[0m\u001b[1;33m)\u001b[0m\u001b[1;33m:\u001b[0m\u001b[1;33m\u001b[0m\u001b[1;33m\u001b[0m\u001b[0m\n\u001b[1;32m----> 2\u001b[1;33m     \u001b[1;32mreturn\u001b[0m \u001b[0mnp\u001b[0m\u001b[1;33m.\u001b[0m\u001b[0mexp\u001b[0m\u001b[1;33m(\u001b[0m\u001b[0mx\u001b[0m\u001b[1;33m)\u001b[0m\u001b[1;33m\u001b[0m\u001b[1;33m\u001b[0m\u001b[0m\n\u001b[0m\u001b[0;32m      3\u001b[0m \u001b[1;32mdef\u001b[0m \u001b[0mln\u001b[0m\u001b[1;33m(\u001b[0m\u001b[0mx\u001b[0m\u001b[1;33m)\u001b[0m\u001b[1;33m:\u001b[0m\u001b[1;33m\u001b[0m\u001b[1;33m\u001b[0m\u001b[0m\n\u001b[0;32m      4\u001b[0m     \u001b[1;32mreturn\u001b[0m \u001b[0mnp\u001b[0m\u001b[1;33m.\u001b[0m\u001b[0mlog\u001b[0m\u001b[1;33m(\u001b[0m\u001b[0mx\u001b[0m\u001b[1;33m)\u001b[0m\u001b[1;33m\u001b[0m\u001b[1;33m\u001b[0m\u001b[0m\n\u001b[0;32m      5\u001b[0m \u001b[1;32mdef\u001b[0m \u001b[0mpoli1\u001b[0m\u001b[1;33m(\u001b[0m\u001b[0mx\u001b[0m\u001b[1;33m)\u001b[0m\u001b[1;33m:\u001b[0m\u001b[1;33m\u001b[0m\u001b[1;33m\u001b[0m\u001b[0m\n",
      "\u001b[1;31mTypeError\u001b[0m: loop of ufunc does not support argument 0 of type Symbol which has no callable exp method"
     ]
    }
   ],
   "source": [
    "def operar_funciones(func1, func2, operaciones):\n",
    "    operadores = {'+': lambda x: func1(x) + func2(x),\n",
    "                  '-': lambda x: func1(x) - func2(x),\n",
    "                  '*': lambda x: func1(x) * func2(x),\n",
    "                  '/': lambda x: func1(x) / func2(x) if func2(x) != 0 else np.inf if func1(x) > 0 else -np.inf}\n",
    "\n",
    "    def combinacion(x):\n",
    "        resultados = []\n",
    "        for operacion in operaciones:\n",
    "            resultados.append(operadores[operacion](x))\n",
    "\n",
    "        return resultados\n",
    "    return combinacion\n",
    "\n",
    "\n",
    "def juntar_funciones(funcion_externa, funcion_interna):\n",
    "    def funcion_combinada(x):\n",
    "        resultado_interno = funcion_interna(x)\n",
    "        resultado_externo = funcion_externa(resultado_interno)\n",
    "        return resultado_externo\n",
    "    \n",
    "    return funcion_combinada\n",
    "\n",
    "def cambiar_operadores(f, op_cambiar, op_nueva):\n",
    "    nueva_expresion = f.__code__.co_code.decode('utf-8')\n",
    "    nueva_expresion = nueva_expresion.replace(op_cambiar, op_nueva)\n",
    "\n",
    "    def nueva_funcion(x):\n",
    "        return eval(nueva_expresion, {'x': x})\n",
    "\n",
    "    return nueva_funcion  # Añadido para devolver la nueva función\n",
    "\n",
    "# Evaluar la función combinada original\n",
    "func_combinada = operar_funciones(exp, exp, operaciones)\n",
    "#x = 0\n",
    "resultados_original = func_combinada(x)\n",
    "print(\"Resultados original:\", resultados_original)\n",
    "\n",
    "# Cambiar el operador en la expresión de la función\n",
    "nueva_funcion = cambiar_operadores(func_combinada, '+', '-')\n",
    "resultados_nueva = nueva_funcion(x)\n",
    "print(\"Resultados con operador cambiado:\", resultados_nueva)\n"
   ]
  },
  {
   "cell_type": "code",
   "execution_count": null,
   "metadata": {},
   "outputs": [
    {
     "ename": "TypeError",
     "evalue": "'numpy.ndarray' object is not callable",
     "output_type": "error",
     "traceback": [
      "\u001b[1;31m---------------------------------------------------------------------------\u001b[0m",
      "\u001b[1;31mTypeError\u001b[0m                                 Traceback (most recent call last)",
      "\u001b[1;32m<ipython-input-141-7b3f090d7d96>\u001b[0m in \u001b[0;36m<module>\u001b[1;34m\u001b[0m\n\u001b[0;32m     11\u001b[0m \u001b[1;33m\u001b[0m\u001b[0m\n\u001b[0;32m     12\u001b[0m \u001b[1;31m#Se obtiene chi^2 para todas las combinaciones\u001b[0m\u001b[1;33m\u001b[0m\u001b[1;33m\u001b[0m\u001b[1;33m\u001b[0m\u001b[0m\n\u001b[1;32m---> 13\u001b[1;33m \u001b[0mprint\u001b[0m\u001b[1;33m(\u001b[0m\u001b[0mchi_2_f\u001b[0m\u001b[1;33m(\u001b[0m\u001b[0mcombinaciones_iniciales\u001b[0m\u001b[1;33m)\u001b[0m\u001b[1;33m)\u001b[0m\u001b[1;33m\u001b[0m\u001b[1;33m\u001b[0m\u001b[0m\n\u001b[0m\u001b[0;32m     14\u001b[0m \u001b[0mchi_combinaciones\u001b[0m \u001b[1;33m=\u001b[0m \u001b[0mchi_2_f\u001b[0m\u001b[1;33m(\u001b[0m\u001b[0mcombinaciones_iniciales\u001b[0m\u001b[1;33m)\u001b[0m\u001b[1;33m\u001b[0m\u001b[1;33m\u001b[0m\u001b[0m\n",
      "\u001b[1;32m<ipython-input-137-e33422f003df>\u001b[0m in \u001b[0;36mchi_2_f\u001b[1;34m(func)\u001b[0m\n\u001b[0;32m     29\u001b[0m     \u001b[0mchi_2\u001b[0m \u001b[1;33m=\u001b[0m \u001b[0mnp\u001b[0m\u001b[1;33m.\u001b[0m\u001b[0mzeros_like\u001b[0m\u001b[1;33m(\u001b[0m\u001b[0mfunc\u001b[0m\u001b[1;33m)\u001b[0m\u001b[1;33m\u001b[0m\u001b[1;33m\u001b[0m\u001b[0m\n\u001b[0;32m     30\u001b[0m     \u001b[1;32mfor\u001b[0m \u001b[0mi\u001b[0m \u001b[1;32min\u001b[0m \u001b[0mrange\u001b[0m\u001b[1;33m(\u001b[0m\u001b[0mlen\u001b[0m\u001b[1;33m(\u001b[0m\u001b[0mfunc\u001b[0m\u001b[1;33m)\u001b[0m\u001b[1;33m)\u001b[0m\u001b[1;33m:\u001b[0m\u001b[1;33m\u001b[0m\u001b[1;33m\u001b[0m\u001b[0m\n\u001b[1;32m---> 31\u001b[1;33m         \u001b[0mchi_2_val\u001b[0m\u001b[1;33m[\u001b[0m\u001b[0mi\u001b[0m\u001b[1;33m]\u001b[0m \u001b[1;33m=\u001b[0m \u001b[0mchi_2_valores\u001b[0m\u001b[1;33m(\u001b[0m\u001b[0mfunc\u001b[0m\u001b[1;33m[\u001b[0m\u001b[0mi\u001b[0m\u001b[1;33m]\u001b[0m\u001b[1;33m)\u001b[0m\u001b[1;33m\u001b[0m\u001b[1;33m\u001b[0m\u001b[0m\n\u001b[0m\u001b[0;32m     32\u001b[0m         \u001b[1;32mfor\u001b[0m \u001b[0mj\u001b[0m \u001b[1;32min\u001b[0m \u001b[0mrange\u001b[0m\u001b[1;33m(\u001b[0m\u001b[0mlen\u001b[0m\u001b[1;33m(\u001b[0m\u001b[0mchi_2_val\u001b[0m\u001b[1;33m)\u001b[0m\u001b[1;33m)\u001b[0m\u001b[1;33m:\u001b[0m\u001b[1;33m\u001b[0m\u001b[1;33m\u001b[0m\u001b[0m\n\u001b[0;32m     33\u001b[0m             \u001b[0mchi_2\u001b[0m\u001b[1;33m[\u001b[0m\u001b[0mj\u001b[0m\u001b[1;33m]\u001b[0m \u001b[1;33m=\u001b[0m \u001b[0mnp\u001b[0m\u001b[1;33m.\u001b[0m\u001b[0msum\u001b[0m\u001b[1;33m(\u001b[0m\u001b[0mchi_2_val\u001b[0m\u001b[1;33m[\u001b[0m\u001b[0mj\u001b[0m\u001b[1;33m]\u001b[0m\u001b[1;33m)\u001b[0m\u001b[1;33m\u001b[0m\u001b[1;33m\u001b[0m\u001b[0m\n",
      "\u001b[1;32m<ipython-input-137-e33422f003df>\u001b[0m in \u001b[0;36mchi_2_valores\u001b[1;34m(func)\u001b[0m\n\u001b[0;32m     23\u001b[0m \u001b[1;31m#A partir de las funciones ingresadas inicialmente, calcula el chi_2\u001b[0m\u001b[1;33m\u001b[0m\u001b[1;33m\u001b[0m\u001b[1;33m\u001b[0m\u001b[0m\n\u001b[0;32m     24\u001b[0m \u001b[1;32mdef\u001b[0m \u001b[0mchi_2_valores\u001b[0m\u001b[1;33m(\u001b[0m\u001b[0mfunc\u001b[0m\u001b[1;33m)\u001b[0m\u001b[1;33m:\u001b[0m\u001b[1;33m\u001b[0m\u001b[1;33m\u001b[0m\u001b[0m\n\u001b[1;32m---> 25\u001b[1;33m     \u001b[1;32mreturn\u001b[0m \u001b[1;33m(\u001b[0m\u001b[1;33m(\u001b[0m\u001b[0marray_H\u001b[0m \u001b[1;33m-\u001b[0m \u001b[0mfunc\u001b[0m\u001b[1;33m(\u001b[0m\u001b[0marray_z\u001b[0m\u001b[1;33m)\u001b[0m\u001b[1;33m)\u001b[0m\u001b[1;33m/\u001b[0m\u001b[0mdesv\u001b[0m\u001b[1;33m)\u001b[0m\u001b[1;33m**\u001b[0m\u001b[1;36m2\u001b[0m\u001b[1;33m\u001b[0m\u001b[1;33m\u001b[0m\u001b[0m\n\u001b[0m\u001b[0;32m     26\u001b[0m \u001b[1;33m\u001b[0m\u001b[0m\n\u001b[0;32m     27\u001b[0m \u001b[1;32mdef\u001b[0m \u001b[0mchi_2_f\u001b[0m\u001b[1;33m(\u001b[0m\u001b[0mfunc\u001b[0m\u001b[1;33m)\u001b[0m\u001b[1;33m:\u001b[0m\u001b[1;33m\u001b[0m\u001b[1;33m\u001b[0m\u001b[0m\n",
      "\u001b[1;31mTypeError\u001b[0m: 'numpy.ndarray' object is not callable"
     ]
    }
   ],
   "source": [
    "#Se juntan todas las combinaciones entre funciones\n",
    "combinaciones_iniciales = np.zeros((len(grammar), len(grammar)), dtype=object)\n",
    "for i in range(len(grammar)):\n",
    "    for j in range(len(grammar)):\n",
    "        combinaciones_iniciales[i][j] = funcion_combinada(grammar[i], grammar[j], operaciones)\n",
    "'''\n",
    "for row in combinaciones_iniciales:\n",
    "    for func_combinada in row:\n",
    "        print(func_combinada(0))  \n",
    "'''\n",
    "\n",
    "#Se obtiene chi^2 para todas las combinaciones\n",
    "print(chi_2_f(combinaciones_iniciales))\n",
    "chi_combinaciones = chi_2_f(combinaciones_iniciales)"
   ]
  },
  {
   "cell_type": "code",
   "execution_count": null,
   "metadata": {},
   "outputs": [],
   "source": [
    "# Obtener el índice del elemento aleatorio\n",
    "#indice_elemento_aleatorio = mi_lista.index(elemento_aleatorio)"
   ]
  },
  {
   "cell_type": "code",
   "execution_count": null,
   "metadata": {},
   "outputs": [
    {
     "name": "stdout",
     "output_type": "stream",
     "text": [
      "9\n"
     ]
    }
   ],
   "source": [
    "#Cantidad de sobrevivientes inicialmente \n",
    "#Todas las funciones iniciales son seleccionadas\n",
    "tasa_seleccion= 1\n",
    "cant_sobrevivientes = tasa_seleccion*len(chi_inic)\n",
    "cant_sobreviv = int(cant_sobrevivientes)\n",
    "print(cant_sobreviv)\n",
    "\n",
    "\n",
    "#chi_menores = sorted(chi_inic)[:cant_sobreviv]\n"
   ]
  },
  {
   "cell_type": "code",
   "execution_count": null,
   "metadata": {},
   "outputs": [
    {
     "name": "stdout",
     "output_type": "stream",
     "text": [
      "16\n"
     ]
    }
   ],
   "source": [
    "#Cantidad de sobrevivientes en el tiempo\n",
    "tasa_seleccion= 0.2\n",
    "cant_sobrevivientes = tasa_seleccion*(len(combinaciones_iniciales)*len(combinaciones_iniciales))\n",
    "cant_sobreviv = int(cant_sobrevivientes)\n",
    "print(cant_sobreviv)\n"
   ]
  },
  {
   "cell_type": "code",
   "execution_count": null,
   "metadata": {},
   "outputs": [
    {
     "name": "stdout",
     "output_type": "stream",
     "text": [
      "Lista original: [5, 2, 8, 10, 1, 7, 3, 6, 4, 9, 12, 15, 11, 14, 13, 16, 17, 18, 19, 20]\n",
      "Índices de los primeros 16 elementos más pequeños: (4, 1, 6, 8, 0, 7, 5, 2, 9, 3, 12, 10, 14, 13, 11, 15)\n",
      "Valores de los primeros 16 elementos más pequeños: (1, 2, 3, 4, 5, 6, 7, 8, 9, 10, 11, 12, 13, 14, 15, 16)\n"
     ]
    }
   ],
   "source": [
    "#Para obtener los valores de chi menores y los índices\n",
    "mi_lista = [5, 2, 8, 10, 1, 7, 3, 6, 4, 9, 12, 15, 11, 14, 13, 16, 17, 18, 19, 20]\n",
    "\n",
    "# Número de elementos más pequeños\n",
    "num_elementos = cant_sobreviv\n",
    "\n",
    "# Obtener los índices y valores de los elementos más pequeños\n",
    "indices_valores_menores = sorted(enumerate(mi_lista), key=lambda x: x[1])[:num_elementos]\n",
    "\n",
    "# Separar los índices y valores en listas distintas\n",
    "indices_menores, valores_menores = zip(*indices_valores_menores)\n",
    "\n",
    "# Imprimir los resultados\n",
    "print(\"Lista original:\", mi_lista)    \n",
    "print(\"Índices de los primeros 16 elementos más pequeños:\", indices_menores)\n",
    "print(\"Valores de los primeros 16 elementos más pequeños:\", valores_menores)"
   ]
  },
  {
   "cell_type": "code",
   "execution_count": null,
   "metadata": {},
   "outputs": [
    {
     "name": "stdout",
     "output_type": "stream",
     "text": [
      "Resultado combinado en 1.0 es: 0.00231059182768764\n"
     ]
    }
   ],
   "source": [
    "'''\n",
    "para asignar un peso a cada función\n",
    "'''\n",
    "\n",
    "def combinar_funciones(grammar, pesos):\n",
    "    def funcion_combinada(x):\n",
    "        resultado = 0.0\n",
    "        for i, funcion in enumerate(grammar):\n",
    "            resultado += pesos[i] * funcion(x)\n",
    "        return resultado\n",
    "    \n",
    "    return funcion_combinada\n",
    "\n",
    "# Asigna pesos inversamente proporcionales a los chi cuadrado\n",
    "pesos = 1.0 / chi_2_f(grammar)\n",
    "\n",
    "# Crea la función combinada\n",
    "funciones_pe = combinar_funciones(grammar, pesos)\n",
    "\n",
    "# Evalúa la función combinada en un punto\n",
    "x_evaluado = 1.0\n",
    "resultado_combinado = funciones_pe(x_evaluado)\n",
    "\n",
    "print(\"Resultado combinado en\", x_evaluado, \"es:\", resultado_combinado)"
   ]
  }
 ],
 "metadata": {
  "kernelspec": {
   "display_name": "base",
   "language": "python",
   "name": "python3"
  },
  "language_info": {
   "codemirror_mode": {
    "name": "ipython",
    "version": 3
   },
   "file_extension": ".py",
   "mimetype": "text/x-python",
   "name": "python",
   "nbconvert_exporter": "python",
   "pygments_lexer": "ipython3",
   "version": "3.8.8"
  }
 },
 "nbformat": 4,
 "nbformat_minor": 2
}
