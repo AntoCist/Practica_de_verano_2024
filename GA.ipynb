{
 "cells": [
  {
   "cell_type": "markdown",
   "metadata": {},
   "source": [
    "## Algoritmo genético"
   ]
  },
  {
   "cell_type": "code",
   "execution_count": 2429,
   "metadata": {},
   "outputs": [],
   "source": [
    "import numpy as np\n",
    "from scipy.integrate import solve_ivp\n",
    "import matplotlib.pyplot as plt\n",
    "import random\n",
    "from sympy import symbols, sympify, lambdify\n",
    "import time\n",
    "import copy\n"
   ]
  },
  {
   "cell_type": "code",
   "execution_count": 2430,
   "metadata": {},
   "outputs": [],
   "source": [
    "doc2 = open(\"C:/Users/antoc/Downloads/PortableGit/practica2024/hub_data.txt\")\n",
    "lineas2 = doc2.readlines()\n",
    "\n",
    "H_0= 70\n",
    "\n",
    "# Divide cada línea en columnas usando espacio como separador\n",
    "datos_separados2 = [linea.strip().split(' ') for linea in lineas2]\n",
    "\n",
    "datos= []\n",
    "for fila in datos_separados2:\n",
    "    datos.append(fila)\n",
    "\n",
    "z = []\n",
    "for i in range(len(datos)):\n",
    "      a = float(datos[i][0])\n",
    "      z.append(a)\n",
    "z =np.array(z)\n",
    "\n",
    "H = []\n",
    "for i in range(len(datos)):\n",
    "   if datos[i][1] == '':\n",
    "      a = float(datos[i][2])\n",
    "      H.append(a)\n",
    "   else:\n",
    "      a = float(datos[i][1])\n",
    "      H.append(a)\n",
    "H = np.array(H)\n",
    "\n",
    "desv = []\n",
    "for i in range(len(datos)):\n",
    "    a = float(datos[i][2])\n",
    "    desv.append(a)\n"
   ]
  },
  {
   "cell_type": "markdown",
   "metadata": {},
   "source": [
    "Se minimiza $$\\chi^2 = \\sum_{i=1}^{N} (\\dfrac{y_i - f(x_i)}{\\sigma_{i}})^2$$ para obtener la función $f(x)$ que mejor se ajuste a los datos.\n"
   ]
  },
  {
   "cell_type": "code",
   "execution_count": 2431,
   "metadata": {},
   "outputs": [
    {
     "name": "stdout",
     "output_type": "stream",
     "text": [
      "[4157.01591713639 4430.910574765109 4318.165617110693 4300.926784511239\n",
      " 4239.109972002022]\n"
     ]
    }
   ],
   "source": [
    "def expo(x):\n",
    "    return np.exp(x)\n",
    "def ln(x):\n",
    "    return np.log(x)\n",
    "def poli1(x):\n",
    "    return x \n",
    "def poli2(x):\n",
    "    return x**2\n",
    "def poli3(x):\n",
    "    return x**3\n",
    "\n",
    "grammar = [expo, ln, poli1, poli2, poli3]\n",
    "operaciones = ['+', '-', '*', '/']\n",
    "\n",
    "#A partir de las funciones ingresadas inicialmente, calcula el chi_2\n",
    "def chi_2_valores(f):\n",
    "    return np.square((H - f(z))/desv)\n",
    "\n",
    "def chi_2_f(f):\n",
    "    chi_2_val = np.zeros_like(f)\n",
    "    chi_2 = np.zeros_like(f)\n",
    "    for i in range(len(f)):\n",
    "        chi_2_val[i] = chi_2_valores(f[i])\n",
    "        for j in range(len(chi_2_val)):\n",
    "            chi_2[j] = np.sum(chi_2_val[j])\n",
    "    \n",
    "    return chi_2\n",
    "\n",
    "print(chi_2_f(grammar))\n",
    "chi_inic = chi_2_f(grammar)"
   ]
  },
  {
   "cell_type": "markdown",
   "metadata": {},
   "source": [
    "### Combinar la función inicial\n",
    "Se combinan las funciones iniciales con operaciones entre ellas hasta que sean 1000 funciones iniciales."
   ]
  },
  {
   "cell_type": "code",
   "execution_count": 2432,
   "metadata": {},
   "outputs": [],
   "source": [
    "def juntar_elementos_inicial(funciones, operaciones, longitud_final=1000):\n",
    "    final = []\n",
    "    while len(final) < longitud_final * 3:\n",
    "        random_funcion1 = random.choice(funciones)\n",
    "        random_funcion2 = random.choice(funciones)\n",
    "        random_operador = random.choice(operaciones)\n",
    "\n",
    "        final.append(random_funcion1)\n",
    "        final.append(random_operador)\n",
    "        final.append(random_funcion2)\n",
    "\n",
    "    # Crear una lista de sublistas para representar las filas\n",
    "    resultado_final_inicial = [final[i:i+3] for i in range(0, len(final), 3)]\n",
    "\n",
    "    return resultado_final_inicial\n",
    "\n",
    "resultado_final_inicial = juntar_elementos_inicial(grammar, operaciones)\n",
    "\n",
    "#for fila in resultado_final_inicial:\n",
    "#    print(fila)\n",
    "\n"
   ]
  },
  {
   "cell_type": "markdown",
   "metadata": {},
   "source": [
    "### Convertir la lista a función\n",
    "Se definen funciones para para convertir una lista de funciones y strings (operaciones) en una función."
   ]
  },
  {
   "cell_type": "code",
   "execution_count": 2433,
   "metadata": {},
   "outputs": [
    {
     "name": "stdout",
     "output_type": "stream",
     "text": [
      "exp(log((x)**2))\n"
     ]
    }
   ],
   "source": [
    "\n",
    "#x deben estar entre paréntesis para no confundir con otros x en el string\n",
    "def a_string(funcion):\n",
    "    if funcion == expo:\n",
    "        return 'exp(x)'\n",
    "    elif funcion == ln:\n",
    "        return 'log(x)'\n",
    "    elif funcion == poli1:\n",
    "        return '(x)'\n",
    "    elif funcion == poli2:\n",
    "        return '(x)**2'\n",
    "    elif funcion == poli3:\n",
    "        return '(x)**3'\n",
    "    else:\n",
    "        return str(funcion)\n",
    "\n",
    "x = symbols('x')\n",
    "def pasar_a_funcion(expresion):\n",
    "    a_sympy = sympify(expresion)\n",
    "    a_python = lambdify(x, a_sympy, 'numpy')\n",
    "    return a_python\n",
    "\n",
    "#print(pasar_a_funcion('exp(x**2)'))(2)\n",
    "def composicion(lista):\n",
    "    modi_int = a_string(lista[-1])\n",
    "    #print(modi_int)\n",
    "    for i in range(2,len(lista)+1):\n",
    "        modi_ext = a_string(lista[-i])\n",
    "        modi_int = modi_ext.replace('(x)', '('+ modi_int +')' )\n",
    "    return modi_int\n",
    "\n",
    "print(composicion([expo, ln, poli2]))\n",
    "\n",
    "def convertir_lista_a_str(lista):\n",
    "    string=''\n",
    "    for i in range(len(lista)):\n",
    "        if callable(lista[i]):\n",
    "            if i != 0 and callable(lista[i - 1]):\n",
    "                string = string\n",
    "            elif i < len(lista) - 1 and callable(lista[i + 1]):\n",
    "                compo = []\n",
    "                for j in range(i, len(lista)):\n",
    "                    if callable(lista[j]):\n",
    "                        compo.append(lista[j])\n",
    "\n",
    "                string += composicion(compo)\n",
    "            \n",
    "            else:  \n",
    "                string += a_string(lista[i])\n",
    "        else:\n",
    "            string += lista[i]\n",
    "\n",
    "    return string\n",
    "\n",
    "#lista_prueba = [poli2, '+', poli1,'-', expo, ln, poli2 ,'-', poli1]\n",
    "#funcion_prueba= convertir_lista_a_str(lista_prueba)\n",
    "#print(funcion_prueba)\n",
    "\n",
    "def convertir_lista_a_funcion(lista):\n",
    "    string = convertir_lista_a_str(lista)\n",
    "    func= pasar_a_funcion(string)\n",
    "    return func\n",
    "\n",
    "#print(convertir_lista_a_funcion(lista_prueba))\n"
   ]
  },
  {
   "cell_type": "markdown",
   "metadata": {},
   "source": [
    "### Calcular los $\\chi^2$ de la población inicial y seleccionar las mejores funciones"
   ]
  },
  {
   "cell_type": "code",
   "execution_count": 2434,
   "metadata": {},
   "outputs": [],
   "source": [
    "def mejores(resultado_final, tasa_seleccion = 0.2):\n",
    "    chis =[]\n",
    "    for fila in resultado_final:\n",
    "        a = [convertir_lista_a_funcion(fila)]\n",
    "        chi_combinaciones = chi_2_f(a)\n",
    "        chis.append(chi_combinaciones)\n",
    "\n",
    "    #print(chis)\n",
    "\n",
    "    ''' \n",
    "    Se seleccionan elementos a combinar\n",
    "    '''\n",
    "\n",
    "    cant_sobrevivientes = tasa_seleccion*len(chis)\n",
    "    cant_sobreviv = int(cant_sobrevivientes)\n",
    "    #print('Cantidad de sobrevientes:' , cant_sobreviv)\n",
    "\n",
    "    # Número de elementos más pequeños\n",
    "    num_elementos = cant_sobreviv\n",
    "    # Obtener los índices y valores de los elementos más pequeños en orden\n",
    "    indices_valores_menores = sorted(enumerate(chis), key=lambda x: x[1])[:num_elementos]\n",
    "    # Separar los índices y valores en listas distintas\n",
    "    indices_menores, valores_menores = zip(*indices_valores_menores)\n",
    "    print(\"Valores de chi de los elementos más pequeños:\", valores_menores)\n",
    "\n",
    "\n",
    "    f_mejores= []\n",
    "    for numero in indices_menores:\n",
    "        f_mejores.append(resultado_final[numero])\n",
    "\n",
    "    return f_mejores\n",
    "\n",
    "#mejores(resultado_final_inicial)\n"
   ]
  },
  {
   "cell_type": "markdown",
   "metadata": {},
   "source": [
    "### Crossover\n",
    "Combinar random partes de las soluciones de los padres (composición de funciones y sumar, multiplicar... una con otra).\n",
    "La selección sirve para dejar pasar un cierto porcentaje, los cuales tendrán que acoplarse y mutar. O sea, el número baja con la selección pero aumenta con el crossover y mutación. Para cada elemento del crossover, salen 3 hijos que son producto de combinaciones con otros padres."
   ]
  },
  {
   "cell_type": "code",
   "execution_count": 2435,
   "metadata": {},
   "outputs": [],
   "source": [
    "def crossover(padres):\n",
    "    #El primer elemento se mantiene constante (mejor chi^2)\n",
    "    hijos = []\n",
    "    hijos.append(padres[0])\n",
    "    for i in range(1, len(padres)):\n",
    "\n",
    "        #Elegir 3 funciones al azar de las mejores ya escogidas\n",
    "        combinar1 = random.choice(padres)\n",
    "        combinar2 = random.choice(padres)\n",
    "        combinar3 = random.choice(padres)\n",
    "\n",
    "        # Separar funciones de operaciones para cada función que se combina con la seleccionada\n",
    "        funciones_combinar1 = []\n",
    "        for j in range(len(combinar1)):\n",
    "            if callable(combinar1[j]):  # Verificar si es una función\n",
    "                funciones_combinar1.append(combinar1[j])\n",
    "        combinar_con1 = random.choice(funciones_combinar1) #Elegir una función de las disponibles\n",
    "\n",
    "        funciones_combinar2 = []\n",
    "        for j in range(len(combinar2)):\n",
    "            if callable(combinar2[j]):  # Verificar si es una función\n",
    "                funciones_combinar2.append(combinar2[j])\n",
    "        combinar_con2 = random.choice(funciones_combinar2) #Elegir una función de las disponibles\n",
    "\n",
    "        funciones_combinar3 = []\n",
    "        for j in range(len(combinar3)):\n",
    "            if callable(combinar3[j]):  # Verificar si es una función\n",
    "                funciones_combinar3.append(combinar3[j])\n",
    "        combinar_con3 = random.choice(funciones_combinar3) #Elegir una función de las disponibles\n",
    "\n",
    "        # Crear copias de los padres para modificar\n",
    "        hijos1 = copy.deepcopy(padres[i])\n",
    "        hijos2 = copy.deepcopy(padres[i])\n",
    "        hijos3 = copy.deepcopy(padres[i])\n",
    "\n",
    "        # Agregar operador y función combinada a cada hijo\n",
    "        numero_random1 = random.randint(0,1)\n",
    "        if numero_random1 == 0:\n",
    "            random_operador1 = random.choice(operaciones)\n",
    "            hijos1.append(random_operador1)\n",
    "            hijos1.append(combinar_con1)\n",
    "        else:\n",
    "            hijos1.append(combinar_con1)\n",
    "\n",
    "        numero_random2 = random.randint(0,1)\n",
    "        if numero_random2 == 0:\n",
    "            random_operador2 = random.choice(operaciones)\n",
    "            hijos2.append(random_operador2)\n",
    "            hijos2.append(combinar_con2)\n",
    "        else:\n",
    "            hijos2.append(combinar_con2)\n",
    "\n",
    "        numero_random3 = random.randint(0,1)\n",
    "        if numero_random3 == 0:\n",
    "            random_operador3 = random.choice(operaciones)\n",
    "            hijos3.append(random_operador3)\n",
    "            hijos3.append(combinar_con3)\n",
    "        else:\n",
    "            hijos3.append(combinar_con3)\n",
    "\n",
    "        # Agregar los hijos a la lista final\n",
    "        hijos.extend([hijos1, hijos2, hijos3])\n",
    "    #print(hijos)\n",
    "    return hijos\n",
    "    \n",
    "#crossover(mejores(resultado_final_inicial))\n",
    "#len(crossover(mejores(resultado_final_inicial)))"
   ]
  },
  {
   "cell_type": "markdown",
   "metadata": {},
   "source": [
    "### Mutación\n",
    "tasa de mutación: 5, 10 % \n",
    "cambiar una parte random de las funciones"
   ]
  },
  {
   "cell_type": "code",
   "execution_count": 2436,
   "metadata": {},
   "outputs": [],
   "source": [
    "def mutar(padres, tasa_mutacion= 0.05):\n",
    "    hijos = copy.deepcopy(padres)\n",
    "    for lista in hijos:\n",
    "        #Se deja constante 1 elemento\n",
    "        for i in range(1, len(lista)):\n",
    "            # Genera un número aleatorio entre 0 y 1\n",
    "            probabilidad = random.random()\n",
    "\n",
    "            # Verifica si el número aleatorio es menor que la probabilidad deseada\n",
    "            if probabilidad < tasa_mutacion:\n",
    "                if callable(lista[i]):\n",
    "                    lista[i] = random.choice(grammar)\n",
    "                else:\n",
    "                    lista[i] = random.choice(operaciones)\n",
    "    return hijos"
   ]
  },
  {
   "cell_type": "markdown",
   "metadata": {},
   "source": [
    "### Recurrencia"
   ]
  },
  {
   "cell_type": "code",
   "execution_count": 2437,
   "metadata": {},
   "outputs": [
    {
     "name": "stdout",
     "output_type": "stream",
     "text": [
      "Valores de chi de los elementos más pequeños: (array([3374.6766209415773], dtype=object), array([3374.6766209415773], dtype=object), array([3374.6766209415773], dtype=object), array([3374.6766209415773], dtype=object), array([3374.6766209415773], dtype=object), array([3374.6766209415773], dtype=object), array([3374.6766209415773], dtype=object), array([3374.6766209415773], dtype=object), array([3374.6766209415773], dtype=object), array([3374.6766209415773], dtype=object), array([3387.2810867675166], dtype=object), array([3387.2810867675166], dtype=object), array([3387.2810867675166], dtype=object), array([3387.2810867675166], dtype=object), array([3387.2810867675166], dtype=object), array([3387.2810867675166], dtype=object), array([3387.2810867675166], dtype=object), array([3387.2810867675166], dtype=object), array([3387.2810867675166], dtype=object), array([3387.2810867675166], dtype=object), array([3387.2810867675166], dtype=object), array([3449.937770291242], dtype=object), array([3449.937770291242], dtype=object), array([3449.937770291242], dtype=object), array([3449.937770291242], dtype=object), array([3449.937770291242], dtype=object), array([3449.937770291242], dtype=object), array([3449.937770291242], dtype=object), array([3449.937770291242], dtype=object), array([3449.937770291242], dtype=object), array([3449.937770291242], dtype=object), array([3449.937770291242], dtype=object), array([3603.4253563062653], dtype=object), array([3603.4253563062653], dtype=object), array([3603.4253563062653], dtype=object), array([3603.4253563062653], dtype=object), array([3603.4253563062653], dtype=object), array([3603.4253563062653], dtype=object), array([3603.4253563062653], dtype=object), array([3603.4253563062653], dtype=object), array([3603.4253563062653], dtype=object), array([3603.4253563062653], dtype=object), array([3603.4253563062653], dtype=object), array([3603.4253563062653], dtype=object), array([3779.2451731723413], dtype=object), array([3779.2451731723413], dtype=object), array([3779.2451731723413], dtype=object), array([3779.2451731723413], dtype=object), array([3779.2451731723413], dtype=object), array([3779.2451731723413], dtype=object), array([3779.2451731723413], dtype=object), array([3779.2451731723413], dtype=object), array([3779.2451731723413], dtype=object), array([3779.2451731723413], dtype=object), array([3779.2451731723413], dtype=object), array([3804.5241428424843], dtype=object), array([3804.5241428424843], dtype=object), array([3804.5241428424843], dtype=object), array([3804.5241428424843], dtype=object), array([3804.5241428424843], dtype=object), array([3804.5241428424843], dtype=object), array([3804.5241428424843], dtype=object), array([3804.5241428424843], dtype=object), array([3804.5241428424843], dtype=object), array([3804.5241428424843], dtype=object), array([3804.5241428424843], dtype=object), array([3804.5241428424843], dtype=object), array([3804.5241428424843], dtype=object), array([3804.5241428424843], dtype=object), array([3804.5241428424843], dtype=object), array([3804.5241428424843], dtype=object), array([3804.5241428424843], dtype=object), array([3804.5241428424843], dtype=object), array([3804.5241428424843], dtype=object), array([3804.5241428424843], dtype=object), array([3804.5241428424843], dtype=object), array([3804.5241428424843], dtype=object), array([3853.669920642149], dtype=object), array([3853.669920642149], dtype=object), array([3853.669920642149], dtype=object), array([3853.669920642149], dtype=object), array([3853.669920642149], dtype=object), array([3853.669920642149], dtype=object), array([3853.669920642149], dtype=object), array([3853.669920642149], dtype=object), array([3853.669920642149], dtype=object), array([3853.669920642149], dtype=object), array([3853.669920642149], dtype=object), array([3853.669920642149], dtype=object), array([3853.669920642149], dtype=object), array([3853.669920642149], dtype=object), array([3853.669920642149], dtype=object), array([3853.669920642149], dtype=object), array([3853.669920642149], dtype=object), array([3853.669920642149], dtype=object), array([3853.669920642149], dtype=object), array([3853.669920642149], dtype=object), array([3944.41685134633], dtype=object), array([3944.41685134633], dtype=object), array([3944.41685134633], dtype=object), array([3944.41685134633], dtype=object), array([3944.41685134633], dtype=object), array([3944.41685134633], dtype=object), array([4025.5976466157053], dtype=object), array([4025.5976466157053], dtype=object), array([4025.5976466157053], dtype=object), array([4025.5976466157053], dtype=object), array([4025.5976466157053], dtype=object), array([4025.5976466157053], dtype=object), array([4025.5976466157053], dtype=object), array([4025.5976466157053], dtype=object), array([4025.5976466157053], dtype=object), array([4025.5976466157053], dtype=object), array([4025.5976466157053], dtype=object), array([4025.5976466157053], dtype=object), array([4025.5976466157053], dtype=object), array([4025.5976466157053], dtype=object), array([4025.5976466157053], dtype=object), array([4025.5976466157053], dtype=object), array([4025.5976466157053], dtype=object), array([4025.5976466157053], dtype=object), array([4025.5976466157053], dtype=object), array([4025.5976466157053], dtype=object), array([4025.5976466157053], dtype=object), array([4025.5976466157053], dtype=object), array([4025.5976466157053], dtype=object), array([4025.5976466157053], dtype=object), array([4039.855300791584], dtype=object), array([4039.855300791584], dtype=object), array([4039.855300791584], dtype=object), array([4039.855300791584], dtype=object), array([4039.855300791584], dtype=object), array([4039.855300791584], dtype=object), array([4039.855300791584], dtype=object), array([4039.855300791584], dtype=object), array([4039.855300791584], dtype=object), array([4039.855300791584], dtype=object), array([4084.2922037576623], dtype=object), array([4084.2922037576623], dtype=object), array([4084.2922037576623], dtype=object), array([4084.2922037576623], dtype=object), array([4084.2922037576623], dtype=object), array([4084.2922037576623], dtype=object), array([4084.2922037576623], dtype=object), array([4084.2922037576623], dtype=object), array([4084.2922037576623], dtype=object), array([4084.2922037576623], dtype=object), array([4084.2922037576623], dtype=object), array([4084.2922037576623], dtype=object), array([4084.2922037576623], dtype=object), array([4084.2922037576623], dtype=object), array([4084.2922037576623], dtype=object), array([4084.2922037576623], dtype=object), array([4084.2922037576623], dtype=object), array([4084.2922037576623], dtype=object), array([4085.8760471993296], dtype=object), array([4085.8760471993296], dtype=object), array([4085.8760471993296], dtype=object), array([4085.8760471993296], dtype=object), array([4085.8760471993296], dtype=object), array([4085.8760471993296], dtype=object), array([4085.8760471993296], dtype=object), array([4085.8760471993296], dtype=object), array([4085.8760471993296], dtype=object), array([4085.8760471993296], dtype=object), array([4085.8760471993296], dtype=object), array([4085.8760471993296], dtype=object), array([4085.8760471993296], dtype=object), array([4085.8760471993296], dtype=object), array([4085.8760471993296], dtype=object), array([4085.8760471993296], dtype=object), array([4085.8760471993296], dtype=object), array([4095.0905486220486], dtype=object), array([4095.0905486220486], dtype=object), array([4095.0905486220486], dtype=object), array([4095.0905486220486], dtype=object), array([4095.0905486220486], dtype=object), array([4095.0905486220486], dtype=object), array([4095.0905486220486], dtype=object), array([4095.0905486220486], dtype=object), array([4095.0905486220486], dtype=object), array([4095.0905486220486], dtype=object), array([4095.0905486220486], dtype=object), array([4095.0905486220486], dtype=object), array([4095.0905486220486], dtype=object), array([4095.0905486220486], dtype=object), array([4095.0905486220486], dtype=object), array([4095.0905486220486], dtype=object), array([4095.0905486220486], dtype=object), array([4095.0905486220486], dtype=object), array([4095.0905486220486], dtype=object), array([4095.0905486220486], dtype=object), array([4095.0905486220486], dtype=object), array([4095.0905486220486], dtype=object), array([4095.0905486220486], dtype=object), array([4095.0905486220486], dtype=object), array([4095.0905486220486], dtype=object), array([4095.0905486220486], dtype=object), array([4095.0905486220486], dtype=object), array([4095.0905486220486], dtype=object))\n",
      "Valores de chi de los elementos más pequeños: (array([3130.236388900095], dtype=object), array([3130.236388900095], dtype=object), array([3130.236388900095], dtype=object), array([3174.0169691536435], dtype=object), array([3195.247632165325], dtype=object), array([3195.247632165325], dtype=object), array([3206.7046237846303], dtype=object), array([3206.7046237846303], dtype=object), array([3206.7046237846303], dtype=object), array([3224.318496863321], dtype=object), array([3224.318496863321], dtype=object), array([3224.318496863321], dtype=object), array([3224.318496863321], dtype=object), array([3234.318858623722], dtype=object), array([3234.318858623722], dtype=object), array([3238.8919355887033], dtype=object), array([3238.8919355887033], dtype=object), array([3238.8919355887033], dtype=object), array([3238.8919355887033], dtype=object), array([3238.8919355887033], dtype=object), array([3289.0639793813966], dtype=object), array([3289.0639793813966], dtype=object), array([3295.896884897362], dtype=object), array([3324.9801903966754], dtype=object), array([3324.9801903966754], dtype=object), array([3324.9801903966754], dtype=object), array([3324.9801903966754], dtype=object), array([3328.4195402073196], dtype=object), array([3336.960147546238], dtype=object), array([3336.960147546238], dtype=object), array([3345.0725323791253], dtype=object), array([3349.1297210876755], dtype=object), array([3374.6766209415773], dtype=object), array([3374.6766209415773], dtype=object), array([3374.6766209415773], dtype=object), array([3374.6766209415773], dtype=object), array([3374.6766209415773], dtype=object), array([3374.6766209415773], dtype=object), array([3374.6766209415773], dtype=object), array([3374.6766209415773], dtype=object), array([3374.6766209415773], dtype=object), array([3374.6766209415773], dtype=object), array([3374.6766209415773], dtype=object), array([3374.6766209415773], dtype=object), array([3383.6426739780604], dtype=object), array([3383.6426739780604], dtype=object), array([3387.2810867675166], dtype=object), array([3387.2810867675166], dtype=object), array([3387.2810867675166], dtype=object), array([3387.2810867675166], dtype=object), array([3387.2810867675166], dtype=object), array([3387.2810867675166], dtype=object), array([3387.2810867675166], dtype=object), array([3387.2810867675166], dtype=object), array([3387.2810867675166], dtype=object), array([3387.2810867675166], dtype=object), array([3387.2810867675166], dtype=object), array([3404.28167881211], dtype=object), array([3404.28167881211], dtype=object), array([3404.28167881211], dtype=object), array([3404.99699315166], dtype=object), array([3404.99699315166], dtype=object), array([3405.086273048323], dtype=object), array([3405.086273048323], dtype=object), array([3405.086273048323], dtype=object), array([3405.086273048323], dtype=object), array([3428.789453055442], dtype=object), array([3428.789453055442], dtype=object), array([3428.789453055442], dtype=object), array([3428.789453055442], dtype=object), array([3428.789453055442], dtype=object), array([3428.789453055442], dtype=object), array([3428.789453055442], dtype=object), array([3428.789453055442], dtype=object), array([3429.9518606722577], dtype=object), array([3449.937770291242], dtype=object), array([3449.937770291242], dtype=object), array([3449.937770291242], dtype=object), array([3449.937770291242], dtype=object), array([3449.937770291242], dtype=object), array([3449.937770291242], dtype=object), array([3449.937770291242], dtype=object), array([3449.937770291242], dtype=object), array([3449.937770291242], dtype=object), array([3449.937770291242], dtype=object), array([3449.937770291242], dtype=object), array([3449.937770291242], dtype=object), array([3449.937770291242], dtype=object), array([3449.937770291242], dtype=object), array([3449.937770291242], dtype=object), array([3449.937770291242], dtype=object), array([3449.937770291242], dtype=object), array([3449.937770291242], dtype=object), array([3449.937770291242], dtype=object), array([3449.937770291242], dtype=object), array([3467.719888275782], dtype=object), array([3495.3407669471726], dtype=object), array([3527.8962271298315], dtype=object), array([3527.8962271298315], dtype=object), array([3527.8962271298315], dtype=object), array([3529.557244688312], dtype=object), array([3529.557244688312], dtype=object), array([3529.557244688312], dtype=object), array([3542.6233175417724], dtype=object), array([3542.6233175417724], dtype=object), array([3549.6016976939636], dtype=object), array([3549.6016976939636], dtype=object), array([3574.9270928835613], dtype=object), array([3574.9270928835613], dtype=object), array([3603.4253563062653], dtype=object), array([3603.4253563062653], dtype=object), array([3603.4253563062653], dtype=object), array([3603.4253563062653], dtype=object), array([3615.761778224716], dtype=object), array([3642.259119415883], dtype=object), array([3642.259119415883], dtype=object), array([3660.0626227223984], dtype=object), array([3660.0626227223984], dtype=object), array([3660.0626227223984], dtype=object))\n",
      "Mejores funciones en esta iteración: ['exp(x)+exp((x)**2)', 'exp(x)+exp((x)**2)', 'exp(x)+exp((x)**2)', 'exp(x)*exp(x)*(x)', 'exp(x)/(x)**2*exp(x)', 'exp(x)/(x)**2*exp(x)', 'exp(x)*exp(x)+exp(x)', 'exp(x)+(exp(x))**2', 'exp(x)+(exp(x))**2', '(x)**2+exp((x)**2)', '(x)**2+exp((x)**2)', '(x)**2+exp((x)**2)', '(x)**2+exp((x)**2)', '(x)**3+exp((x)**2)', '(x)**3+exp((x)**2)', 'exp(x)+((x)**2)**3', 'exp(x)+(x)**3*(x)**3', 'exp(x)+((x)**2)**3', 'exp(x)+((x)**2)**3', 'exp(x)+((x)**2)**3', 'exp(x)+exp(x)*(x)**3', 'exp(x)+(x)**3*exp(x)', '(x)**3+exp(x)*exp(x)', 'exp(x)*exp(x)+(x)**2', 'exp(x)*exp(x)+(x)**2', 'exp(x)*exp(x)+(x)**2', '(x)**2+exp(x)*exp(x)', 'exp(x)*exp(x)+(x)', '(x)**3*(x)**3+(x)**3', '(x)**3+((x)**3)**2', '(x)**3*(x)**3+(x)', '(x)**3*(x)**3+(x)**2', 'exp(x)*exp(x)', 'exp(x)*exp((x))', 'exp(x)*exp((x))', 'exp(x)*exp((x))', 'exp(x)*(exp(x))', 'exp(x)*(exp(x))', 'exp(x)*(exp(x))', 'exp(x)*(exp(x))', 'exp(x)*(exp(x))', 'exp(x)*(exp(x))', 'exp(x)*(exp(x))', 'exp(x)*(exp(x))', '(x)**3+exp(x)*(x)**3', '(x)**3*exp(x)+(x)**3', '(x)**3*((x))**3', '(x)**3*((x))**3', '(x)**3*((x))**3', '(x)**3*((x))**3', '(x)**2*((x)**2)**2', '(x)**3*((x)**3)', '(x)**2*((x)**2)**2', '(x)**2*((x)**2)**2', '(x)**2*((x)**2)**2', '(x)**2*(x)**2*(x)**2', '(x)*(x)**3*(x)**2', 'exp(x)/(x)**2+exp(x)', 'exp(x)/(x)**2+exp(x)', 'exp(x)+exp(x)/(x)**2', '(x)**3*exp(x)+(x)', 'exp(x)*(x)**3+(x)', '(x)**3*exp(x)+(x)**2', '(x)**2+exp(x)*(x)**3', '(x)**2+exp(x)*(x)**3', '(x)**2+exp(x)*(x)**3', 'exp(x)*((x)**2)**2', 'exp(x)*((x)**2)**2', 'exp(x)*((x)**2)**2', 'exp(x)*((x)**2)**2', '(x)**2*exp(x)*(x)**2', 'exp(x)*(x)**2*(x)**2', '(x)*(x)**3*exp(x)', '(x)**3*(x)*exp(x)', '(x)**3*(x)**3-(x)', 'exp(x)*((x))**3', 'exp(x)*((x))**3', '(x)**3*exp((x))', '(x)**3*exp((x))', '(x)**3*exp((x))', 'exp(x)*((x))**3', '(x)**2*exp(x)*(x)', 'exp(x)*((x)**3)', '(x)*exp(x)*(x)**2', '(x)**3*(exp(x))', '(x)**3*(exp(x))', '(x)**3*(exp(x))', '(x)**3*(exp(x))', '(x)**3*(exp(x))', '(x)**3*(exp(x))', '(x)**3*(exp(x))', '(x)**3*(exp(x))', '(x)**3*(exp(x))', '(x)**3*(exp(x))', '(x)**3*(exp(x))', 'exp(x)/(x)**2+(x)**3', '(x)**3*exp(x)-(x)', 'exp(x)*exp(x)/(x)', 'exp(x)/(x)*exp(x)', 'exp(x)/(x)*exp(x)', 'exp(x)/(x)**2+(x)**2', 'exp(x)/(x)**2+(x)**2', '(x)**2+exp(x)/(x)**2', '(x)**3*(x)**3-exp(x)', '(x)**3*(x)**3-exp(x)', 'exp(x)*exp(x)-exp(x)', 'exp(x)*exp(x)-exp(x)', '(x)/(x)**3+exp(x)', '(x)/(x)**3+exp(x)', '(x)/(x)**3*exp(x)', 'exp(x)/((x)**2)', '(x)*exp(x)/(x)**3', '(x)*exp(x)/(x)**3', 'exp(x)+(x)**3*(x)**2', '(x)/(x)**3+(x)**3', '(x)/(x)**3+(x)**3', 'exp(x)*(x)**2+exp(x)', '(x)**2*exp(x)+exp(x)', 'exp(x)*(x)**2+exp(x)']\n",
      "Len mejores funciones en esta iteración: 119\n"
     ]
    },
    {
     "name": "stderr",
     "output_type": "stream",
     "text": [
      "<lambdifygenerated-788697>:2: RuntimeWarning: overflow encountered in exp\n",
      "  return (x**3*exp(exp(x**3)))\n"
     ]
    },
    {
     "name": "stdout",
     "output_type": "stream",
     "text": [
      "Valores de chi de los elementos más pequeños: (array([2663.2159968011797], dtype=object), array([2864.7062590747114], dtype=object), array([3043.396556666684], dtype=object), array([3045.6857062231265], dtype=object), array([3069.9349063223963], dtype=object), array([3087.4802940219643], dtype=object), array([3115.547125277514], dtype=object), array([3130.236388900095], dtype=object), array([3135.1432680669923], dtype=object), array([3162.2001655397607], dtype=object), array([3174.0169691536435], dtype=object), array([3194.6108163666095], dtype=object), array([3195.247632165325], dtype=object), array([3195.247632165325], dtype=object), array([3201.04052740801], dtype=object), array([3206.7046237846303], dtype=object), array([3228.3715543479602], dtype=object), array([3228.3715543479602], dtype=object), array([3228.3715543479602], dtype=object), array([3238.8919355887033], dtype=object), array([3240.6695257656834], dtype=object), array([3240.6695257656834], dtype=object), array([3247.1300467704027], dtype=object), array([3262.8813105864883], dtype=object), array([3265.3617445644236], dtype=object), array([3274.6160307808123], dtype=object), array([3279.4420672999067], dtype=object), array([3289.0639793813966], dtype=object), array([3289.0639793813966], dtype=object), array([3295.896884897362], dtype=object), array([3300.5794742866874], dtype=object), array([3308.81040246028], dtype=object), array([3308.81040246028], dtype=object), array([3327.606651345567], dtype=object), array([3328.4195402073196], dtype=object), array([3328.4195402073196], dtype=object), array([3333.3311318260817], dtype=object), array([3336.960147546238], dtype=object), array([3336.960147546238], dtype=object), array([3336.960147546238], dtype=object), array([3345.0725323791253], dtype=object), array([3360.8644535462286], dtype=object), array([3361.273113014894], dtype=object), array([3374.6766209415773], dtype=object), array([3374.6766209415773], dtype=object), array([3374.6766209415773], dtype=object), array([3374.6766209415773], dtype=object), array([3377.5620921902246], dtype=object), array([3383.6426739780604], dtype=object), array([3387.2810867675166], dtype=object), array([3387.2810867675166], dtype=object), array([3387.2810867675166], dtype=object), array([3396.964590966859], dtype=object), array([3404.28167881211], dtype=object), array([3404.99699315166], dtype=object), array([3404.99699315166], dtype=object), array([3404.99699315166], dtype=object), array([3404.99699315166], dtype=object), array([3405.086273048323], dtype=object), array([3405.086273048323], dtype=object), array([3405.086273048323], dtype=object), array([3421.3959211921815], dtype=object), array([3421.3959211921815], dtype=object), array([3428.789453055442], dtype=object), array([3428.789453055442], dtype=object), array([3428.789453055442], dtype=object), array([3428.789453055442], dtype=object), array([3428.789453055442], dtype=object), array([3429.9518606722577], dtype=object), array([3443.980859126289], dtype=object), array([3443.980859126289], dtype=object))\n",
      "Mejores funciones en esta iteración: ['(x)/(x)**3+exp((x)**2)', 'exp(x)*exp(x)+(exp(x))**2', '(x)**3*exp(x)+(exp(x))**2', 'exp(x)+exp(x)+(exp(x))**2', 'exp(x)*exp(x)/(x)**2+(x)**3', 'exp(x)/(x)**2+exp(x)*(x)**2', '(x)**3*(x)**3+(exp(x))**2', 'exp(x)+exp((x)**2)', 'exp(x)+exp(x)*(x)**3+exp(x)', 'exp(x)+(exp((x)))**2+(x)', 'exp(x)*exp(x)*((x))', 'exp(x)+(x)**3*(x)**3+(x)**3', 'exp(x)*exp(x)/((x)**2)', '(x)*exp(x)/(x)**3*exp(x)', '(x)**3+exp(((x))**2)+(x)', 'exp(x)+(exp((x)))**2', 'exp(x)*exp(x)+((x)**2)**2', 'exp(x)*exp(x)+((x)**2)**2', 'exp(x)*exp(x)+((x)**2)**2', '(x)**3*(x)**3+(exp(x))', '(x)**3*exp(x)+(x)**2*exp(x)', 'exp(x)*(x)**2+exp(x)*(x)**3', 'exp(x)+(x)**3*exp(x)+(x)**2', '(x)**3*exp(x)+(x)**2*(x)**3', 'exp(x)/(x)**2*exp(x)-(x)**2', 'exp(x)/(x)**2+(x)**3+exp(x)', 'exp(x)*exp(x)+(x)+(x)**2', '(x)**3*exp(x)+(exp(x))', 'exp(x)*(x)**3+(exp(x))', 'exp(x)*exp(x)+(x)**2*(x)', 'exp(x)*exp(x)+(x)**2/(x)**2', '(x)**3*(x)**3+(x)**3*(x)', '(x)**3*(x)**3+((x)**2)**2', 'exp(x)/(x)**2*exp(x)-(x)**3', 'exp(x)*exp(x)+((x))', 'exp(x)*exp(x)+((x))', 'exp(x)/(x)**2+(x)**2+exp(x)', '(x)**3+(((x))**3)**2', '(x)**3*(x)**3+(x)*(x)**2', '(x)**3*(x)**3+((x)**3)', '(x)**3*(((x)))**3+(x)', '(x)**2+exp(x)*(x)**3+(x)', 'exp(x)*exp(x)+(x)**2/exp(x)', 'exp(x)*exp((x))', 'exp(x)*exp(((x)))', 'exp(x)*(exp((x)))', 'exp(x)*(exp((x)))', '(x)/(x)**3+exp(x)+exp(x)', '(x)**3+exp(x)*((x))**3', '(x)**3*(((x)))**3', '(x)**3*(((x)))**3', '(x)**2*(((x))**2)**2', 'exp(x)/(x)**2+(x)**2+(x)**3', '(x)/(x)**3*exp(x)+exp(x)', '(x)**3*exp(x)+(x)**3/(x)**2', 'exp(x)*(x)**3+((x))', '(x)**3*exp(((x)))+(x)', '(x)**2*exp(x)*(x)+(x)', '(x)**3*exp(x)+((x)**2)', 'exp(x)*(x)**3+(x)*(x)', '(x)**2+exp(x)*((x))**3', 'exp(x)*(exp((x)))-(x)', 'exp(x)*(exp((x)))-(x)', 'exp(x)*(((x))**2)**2', 'exp(x)*(((x))**2)**2', 'exp(x)*(((x))**2)**2', '(x)*(x)**3*exp((x))', '(x)*(x)**3*exp((x))', '(x)**3*(((x)))**3-(x)', '(x)/(x)**3+(x)**3+exp(x)', '(x)/(x)**3+(x)**3+exp(x)']\n",
      "Len mejores funciones en esta iteración: 71\n"
     ]
    },
    {
     "name": "stderr",
     "output_type": "stream",
     "text": [
      "<lambdifygenerated-788871>:2: RuntimeWarning: overflow encountered in exp\n",
      "  return (x**6 + exp(exp(exp(x))))\n",
      "<lambdifygenerated-788983>:2: RuntimeWarning: overflow encountered in exp\n",
      "  return (x**3*exp(exp(x**3)) + x**3 + x)\n",
      "<lambdifygenerated-789096>:2: RuntimeWarning: overflow encountered in exp\n",
      "  return (2*exp(x) + exp(2*exp(3*x)))\n",
      "<ipython-input-2431-2cd2a96c727e>:17: RuntimeWarning: overflow encountered in square\n",
      "  return np.square((H - f(z))/desv)\n"
     ]
    },
    {
     "name": "stdout",
     "output_type": "stream",
     "text": [
      "Valores de chi de los elementos más pequeños: (array([2381.1902239994442], dtype=object), array([2488.4870174818257], dtype=object), array([2498.466835338914], dtype=object), array([2645.8620979023367], dtype=object), array([2663.2159968011797], dtype=object), array([2688.9404287525563], dtype=object), array([2891.534584025182], dtype=object), array([2934.1029139853936], dtype=object), array([2934.1029139853936], dtype=object), array([3027.073850675626], dtype=object), array([3040.7308572037796], dtype=object), array([3043.396556666684], dtype=object), array([3043.396556666684], dtype=object), array([3068.7433026809877], dtype=object), array([3105.7405823215886], dtype=object), array([3108.9605634160603], dtype=object), array([3116.2625986163525], dtype=object), array([3116.2625986163525], dtype=object), array([3135.1432680669923], dtype=object), array([3144.203779723962], dtype=object), array([3157.3759904818294], dtype=object), array([3157.3759904818294], dtype=object), array([3159.643278943415], dtype=object), array([3173.882919553082], dtype=object), array([3177.505471516933], dtype=object), array([3182.788963207042], dtype=object), array([3185.2272879227344], dtype=object), array([3185.2272879227344], dtype=object), array([3185.2272879227344], dtype=object), array([3186.3445279482717], dtype=object), array([3206.936786615439], dtype=object), array([3212.091080913398], dtype=object), array([3213.4646337799763], dtype=object), array([3213.5989344855725], dtype=object), array([3216.0896636780553], dtype=object), array([3228.3715543479602], dtype=object), array([3228.3715543479602], dtype=object), array([3234.223704366375], dtype=object), array([3246.753704123037], dtype=object), array([3265.3617445644236], dtype=object), array([3273.4852687208736], dtype=object), array([3288.8787147065664], dtype=object))\n",
      "Mejores funciones en esta iteración: ['exp(x)*exp(x)/(x)**2+(x)**3*exp(x)', 'exp(x)/(x)**2+(x)**2+exp((x)**2)', 'exp(x)/(x)**2+(x)**3+exp((x)**2)', 'exp(x)/(x)**2+(x)**2+(x)**3*exp(x)', '(x)/(x)**3+exp((x)**2)', 'exp(x)/(x)**2+exp(x)*(x)**2*(x)', 'exp(x)*exp(x)/(x)**2+(x)**3+exp(x)', 'exp(x)+(x)**3*exp(x)+(exp(x))**2', 'exp(x)+(x)**3*exp(x)+(exp(x))**2', 'exp(x)/(x)**2+exp(x)*(x)**2+(x)**2', 'exp(x)+exp(x)*(x)+exp(x)*exp(x)', '(x)**3*exp(x)+(exp((x)))**2', '(x)**3*exp(x)+((exp(x))**2)', 'exp(x)*exp(x)+(x)+(x)**2*exp(x)', '(x)**3*exp(x)+(x)**2*exp(x)+exp(x)', 'exp(x)*exp(x)+(x)**2*(exp(x))', 'exp(x)*exp(x)+(x)**2*((x)**3)', 'exp(x)*exp(x)+(x)**2*((x)**3)', 'exp(x)+exp(x)*(x)**3+exp((x))', '(x)*exp(x)/(x)**3*exp(x)+(x)', 'exp(x)+(x)**3*(x)**3+(x)**3+(x)**3', 'exp(x)+(x)**3*(x)**3+(x)**3+(x)**3', '(x)**3*exp(x)+((exp(x))**2)-exp(x)', '(x)**3*(x)**3+(x)**3*(x)+exp(x)', 'exp(x)+(x)**3+(exp((x)))**2-(x)', '(x)**3*(x)**3+(x)**3/((x)**2)**2', 'exp(x)*exp(x)+(((x))**2)**2+(x)', 'exp(x)*exp(x)+(((x))**2)**2+(x)', 'exp(x)*exp(x)+(x)+((x)**2)**2', 'exp(x)+(x)**3*exp(x)+((x)**2)**2', 'exp(x)*exp(x)*(((x)))-(x)', '(x)/(x)**3*exp(x)+exp(x)+exp(x)', 'exp(x)/(x)**2*exp(x)-(x)**3/exp(x)', 'exp(x)/(x)**2*exp(x)-(x)**2+(x)', '(x)**3+exp((((x)))**2)+(x)*(x)', 'exp(x)*exp(x)+(((x))**2)**2', 'exp(x)*exp(x)+(((x))**2)**2', '(x)**3*exp(x)+(x)**2*(x)**3+(x)**2', 'exp(x)*exp(x)/(((x))**2)-(x)', 'exp(x)/(x)**2*exp(x)-((x))**2', 'exp(x)*(x)**2+exp(x)*(x)**3-(x)**2', '(x)**3*(x)**3+(x)**3*((x)**2)']\n",
      "Len mejores funciones en esta iteración: 42\n",
      "Valores de chi de los elementos más pequeños: (array([2381.1902239994442], dtype=object), array([2496.6424465138584], dtype=object), array([2498.466835338914], dtype=object), array([2528.410727472083], dtype=object), array([2584.432438387572], dtype=object), array([2647.796310211865], dtype=object), array([2681.591594305568], dtype=object), array([2730.5467668095953], dtype=object), array([2880.083338960733], dtype=object), array([2880.083338960733], dtype=object), array([3010.807489868925], dtype=object), array([3026.9982638777137], dtype=object), array([3028.305533846089], dtype=object), array([3069.9349063223963], dtype=object), array([3076.2345389462384], dtype=object), array([3077.05181121941], dtype=object), array([3108.9605634160603], dtype=object), array([3110.2943417659712], dtype=object), array([3115.547125277514], dtype=object), array([3126.5594337501143], dtype=object), array([3144.0580985592946], dtype=object), array([3145.689776042005], dtype=object), array([3164.647319738356], dtype=object), array([3166.5737285463524], dtype=object))\n",
      "Mejores funciones en esta iteración: ['exp(x)*exp(x)/(x)**2+(x)**3*exp(x)', 'exp(x)/(x)**2+exp(x)*(x)**2+((x)**3)**2', 'exp(x)/(x)**2+(x)**3+exp(((x))**2)', 'exp(x)/(x)**2+(x)**3+exp(((x))**2)-(x)', 'exp(x)/(x)**2+(x)**2+(x)**3*exp(x)+(x)**3', 'exp(x)/(x)**2+exp(x)*(x)**2*(x)+(x)', 'exp(x)/(x)**2+exp(x)*(x)**2*((x)**2)', 'exp(x)/(x)**2+exp(x)*(x)**2*(x)-(x)', 'exp(x)/(x)**2+exp(x)*(x)**2+((x)**2)**2', 'exp(x)/(x)**2+exp(x)*(x)**2+((x)**2)**2', '(x)*exp(x)/(x)**3*exp(x)+(exp(x))', 'exp(x)+(x)**3*(x)**3+(x)**3/(x)**3+exp(x)', 'exp(x)/(x)**2*exp(x)-(x)**3/exp(x)+exp(x)', 'exp(x)*exp(x)/(x)**2+(x)**3+exp(x)-exp(x)', '(x)*exp(x)/(x)**3*exp(x)+(x)+(x)**2', 'exp(x)*exp(x)+(x)**2*(((x))**3)+(x)', 'exp(x)*exp(x)+(x)+(x)**2*exp(x)-(x)', 'exp(x)+exp(x)*(x)+exp(x)*exp(x)/(x)', 'exp(x)*exp(x)+((((x)))**2)**3+(x)-(x)', '(x)*exp(x)/(x)**3*exp(x)+((x)**2)', '(x)/(x)**3*exp(x)+exp(x)+exp(x)+(x)**2', 'exp(x)+exp(x)*(x)**3+exp(((x)))*(x)', 'exp(x)*exp(x)/(x)**2+(x)**3/exp(x)/(x)**3', '(x)**3*exp(x)+(x)**2*exp(x)+exp(x)*(x)**2']\n",
      "Len mejores funciones en esta iteración: 24\n",
      "Valores de chi de los elementos más pequeños: (array([2280.492040918934], dtype=object), array([2280.492040918934], dtype=object), array([2281.530100231793], dtype=object), array([2320.4285879962144], dtype=object), array([2381.1902239994442], dtype=object), array([2464.270370723543], dtype=object), array([2540.7794537060595], dtype=object), array([2540.7794537060595], dtype=object), array([2575.676873679742], dtype=object), array([2605.6273503091384], dtype=object), array([2605.6273503091384], dtype=object), array([2611.215768828548], dtype=object), array([2636.645917815051], dtype=object), array([2664.578379001913], dtype=object))\n",
      "Mejores funciones en esta iteración: ['(x)*exp(x)/(x)**3*exp(x)+(exp((x)**2))', '(x)*exp(x)/(x)**3*exp(x)+(exp((x)**2))', '(x)*exp(x)/(x)**3*exp(x)+(x)+(exp(x))**2', '(x)*exp(x)/(x)**3*exp(x)+((exp(x))**2)', 'exp(x)*exp(x)/(x)**2+(x)**3*exp(x)', 'exp(x)/(x)**2+exp(x)*(x)**2+(((x))**3)**2+(x)', 'exp(x)/(x)**2+exp(x)*(x)**2*(x)+(x)*exp(x)', 'exp(x)/(x)**2+exp(x)*(x)**2*(x)+(x)*exp(x)', 'exp(x)/(x)**2+exp(x)*(x)**3+(((x))**2)**2', 'exp(x)/(x)**2+(x)**2+(x)**3*exp(x)+(x)**3*(x)**3', 'exp(x)/(x)**2+(x)**2+(x)**3*exp(x)+((x)**2)**3', 'exp(x)/(x)**2+exp(x)*(x)**3+(((x))**3)**2', '(x)/(x)**3*exp(x)+exp(x)-exp(x)+(exp(x))**2', 'exp(x)/(x)**2+exp(x)*(x)**2*(x)-(x)+(x)**3']\n",
      "Len mejores funciones en esta iteración: 14\n",
      "Valores de chi de los elementos más pequeños: (array([2280.492040918934], dtype=object), array([2492.901336565609], dtype=object), array([2504.6511070531037], dtype=object), array([2504.9822788220013], dtype=object), array([2540.7794537060595], dtype=object), array([2541.9134400167377], dtype=object), array([2664.578379001913], dtype=object), array([2724.3057104973277], dtype=object))\n",
      "Mejores funciones en esta iteración: ['(x)*exp(x)/(x)**3*exp(x)+(exp((x)**2))', '(x)*exp(x)/(x)**3-exp(x)+(x)+(exp((x)))**2*(x)', 'exp(x)*exp(x)/(x)**2+(x)**3*exp(x)*(x)', '(x)*exp(x)/(x)**3*exp(x)+(x)+(exp((x)))**2/(x)', 'exp(x)/(x)**2+exp(x)*(x)**2*(x)+(x)*(exp(x))', 'exp(x)/(x)**2+exp(x)+(x)**3*exp(x)+(x)**3*((x))**3', 'exp(x)/(x)**2+exp(x)*(x)**2*(x)-(x)+((x))**3', 'exp(x)/(x)**2+exp(x)*(x)**2*(x)-exp(x)+(x)**3+(x)']\n",
      "Len mejores funciones en esta iteración: 8\n",
      "Valores de chi de los elementos más pequeños: (array([2255.4284361787004], dtype=object), array([2280.492040918934], dtype=object), array([2440.2472567343666], dtype=object), array([2461.3537254924286], dtype=object))\n",
      "Mejores funciones en esta iteración: ['exp(x)*exp(x)/(x)**2+(x)**3*exp(x)+(exp(x))', '(x)*exp(x)/(x)**3*exp(x)+(exp((x)**2))', 'exp(x)/(x)**2+exp(x)+(x)**3*exp(x)+(x)**3/(((x)**2))**3*(x)**2', '(x)*exp(x)/(x)**3*exp(x)+(x)+(exp(((x))))**2/(x)+(x)']\n",
      "Len mejores funciones en esta iteración: 4\n",
      "El tiempo de ejecución fue: 4.534217357635498 segundos\n"
     ]
    }
   ],
   "source": [
    "poblacion_inicial = resultado_final_inicial\n",
    "\n",
    "# Medir el tiempo de ejecución de la función\n",
    "inicio_tiempo = time.time()  # Obtiene el tiempo actual\n",
    "\n",
    "# Mejores funciones de la población inicial\n",
    "mejores_inicial = mejores(poblacion_inicial)\n",
    "while len(mejores_inicial) >= 5:\n",
    "    # Aplicar crossover y mutación a la población actual\n",
    "    mutar(crossover(mejores_inicial))\n",
    "    \n",
    "    # Obtener las mejores funciones de la población mejorada\n",
    "    mejores_actual = mejores(mutar(crossover(mejores_inicial)))\n",
    "    mejores_inicial = mejores_actual\n",
    "    \n",
    "    mejores_str = []\n",
    "    for i in range(len(mejores_actual)):\n",
    "        mejores_str.append(convertir_lista_a_str(mejores_actual[i]))\n",
    "\n",
    "    print(f\"Mejores funciones en esta iteración: {mejores_str}\")\n",
    "    #print(f\"Chi^2: {chis}\")\n",
    "    print(f\"Len mejores funciones en esta iteración: {len(mejores_str)}\")\n",
    "\n",
    "fin_tiempo = time.time()  # Obtiene el tiempo después de la ejecución\n",
    "\n",
    "tiempo_total = fin_tiempo - inicio_tiempo\n",
    "print(f\"El tiempo de ejecución fue: {tiempo_total} segundos\")"
   ]
  },
  {
   "cell_type": "code",
   "execution_count": 2438,
   "metadata": {},
   "outputs": [
    {
     "data": {
      "image/png": "[encoded data removed]",
      "text/plain": [
       "<Figure size 432x288 with 1 Axes>"
      ]
     },
     "metadata": {
      "needs_background": "light"
     },
     "output_type": "display_data"
    }
   ],
   "source": [
    "def prueba1(x):\n",
    "    return x**3 + expo(x) * x**3 + x**2 + x**3 - ln(x)\n",
    "\n",
    "def prueba2(x):\n",
    "    return (x)**3*(x)**3+expo(x)/expo(x)+expo(x)-ln(x)+ln(x)*ln(x)+ln(x)\n",
    " \n",
    "def prueba3(x):\n",
    "    return expo(x)*expo(x)+expo(x)/(x)**2+(((((x)))**2)**3)-(x)*(x)\n",
    "\n",
    "yerr = desv\n",
    "plt.xlabel('$ z $')\n",
    "plt.ylabel('$ H(z) $')\n",
    "plt.title('Parámetro de Hubble')\n",
    "\n",
    "plt.plot(z, prueba1(z), label= 'best_fit prueba 1')\n",
    "plt.plot(z, prueba2(z), label= 'best_fit prueba 2')\n",
    "plt.plot(z, prueba3(z), label= 'best_fit prueba 3')\n",
    "\n",
    "plt.errorbar(z, H, yerr=yerr, fmt='.', color = 'orange', label = 'Incertidumbre asociada')\n",
    "plt.legend()\n",
    "plt.grid(True)\n",
    "plt.show()"
   ]
  }
 ],
 "metadata": {
  "kernelspec": {
   "display_name": "base",
   "language": "python",
   "name": "python3"
  },
  "language_info": {
   "codemirror_mode": {
    "name": "ipython",
    "version": 3
   },
   "file_extension": ".py",
   "mimetype": "text/x-python",
   "name": "python",
   "nbconvert_exporter": "python",
   "pygments_lexer": "ipython3",
   "version": "3.8.8"
  }
 },
 "nbformat": 4,
 "nbformat_minor": 2
}
