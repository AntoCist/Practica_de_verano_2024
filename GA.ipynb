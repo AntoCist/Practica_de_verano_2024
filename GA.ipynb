{
 "cells": [
  {
   "cell_type": "markdown",
   "metadata": {},
   "source": [
    "## Genetic Algorithm\n"
   ]
  },
  {
   "cell_type": "code",
   "execution_count": 290,
   "metadata": {},
   "outputs": [],
   "source": [
    "import numpy as np\n",
    "from scipy.integrate import solve_ivp\n",
    "import matplotlib.pyplot as plt\n",
    "import random\n",
    "from sympy import symbols, sympify, lambdify, simplify\n",
    "import time\n",
    "import copy\n"
   ]
  },
  {
   "cell_type": "markdown",
   "metadata": {},
   "source": [
    "### Obtaining the data"
   ]
  },
  {
   "cell_type": "code",
   "execution_count": 291,
   "metadata": {},
   "outputs": [],
   "source": [
    "doc2 = open(\"C:/Users/antoc/Downloads/PortableGit/practica2024/hub_data.txt\")\n",
    "lineas2 = doc2.readlines()\n",
    "\n",
    "# Dividing each line into different columns using a space for separation.\n",
    "datos_separados2 = [linea.strip().split(' ') for linea in lineas2]\n",
    "\n",
    "datos= []\n",
    "for fila in datos_separados2:\n",
    "    datos.append(fila)\n",
    "\n",
    "z = []\n",
    "for i in range(len(datos)):\n",
    "      a = float(datos[i][0])\n",
    "      z.append(a)\n",
    "z =np.array(z)\n",
    "\n",
    "H = []\n",
    "for i in range(len(datos)):\n",
    "   if datos[i][1] == '':\n",
    "      a = float(datos[i][2])\n",
    "      H.append(a)\n",
    "   else:\n",
    "      a = float(datos[i][1])\n",
    "      H.append(a)\n",
    "H = np.array(H)\n",
    "\n",
    "desv = []\n",
    "for i in range(len(datos)):\n",
    "    a = float(datos[i][2])\n",
    "    desv.append(a)\n"
   ]
  },
  {
   "cell_type": "markdown",
   "metadata": {},
   "source": [
    "### Objective"
   ]
  },
  {
   "cell_type": "markdown",
   "metadata": {},
   "source": [
    "The algorithm minimizes the $\\chi^2 = \\sum_{i=1}^{N} (\\dfrac{y_i - f(x_i)}{\\sigma_{i}})^2$ with the objective of obtaining the function $f(x)$ that best fit the data. "
   ]
  },
  {
   "cell_type": "code",
   "execution_count": 292,
   "metadata": {},
   "outputs": [],
   "source": [
    "def polix(x):\n",
    "    return x**x\n",
    "def poli1(x):\n",
    "    return (x+1) \n",
    "def poli2(x):\n",
    "    return x**2\n",
    "def poli3(x):\n",
    "    return x**3\n",
    "\n",
    "# Create list with coefficients\n",
    "coeficientes = [random.random() for i in range(5)]\n",
    "# Create list with constant functions. Those are values between 0 and 1.\n",
    "funciones_c = [lambda x, i=i: coeficientes[i] for i in range(5)]\n",
    "\n",
    "# Initial grammar containing a list of initial functions.\n",
    "grammar = [polix, poli1, poli2, poli3] + funciones_c\n",
    "operaciones = ['+', '-', '*', '/']\n"
   ]
  },
  {
   "cell_type": "code",
   "execution_count": 293,
   "metadata": {},
   "outputs": [],
   "source": [
    "# Calculate the $\\chi^2$ from the initially entered functions.\n",
    "'''\n",
    "def chi_2_f(f):\n",
    "    chi_2 = 0\n",
    "    j = 0\n",
    "    while j+1 <= len(H):\n",
    "        chi_2 += np.sum(np.square((H[j] - f(z[j]))/desv[j]))\n",
    "        j += 1\n",
    "    return chi_2\n",
    "'''\n",
    "def chi_2_f(f):\n",
    "    # Calcular las diferencias y cuadrados de las diferencias\n",
    "    diff = (H - f(z)) / desv\n",
    "    squared_diff = np.square(diff)\n",
    "\n",
    "    # Sumar los cuadrados de las diferencias\n",
    "    chi_2 = np.sum(squared_diff)\n",
    "\n",
    "    return chi_2\n"
   ]
  },
  {
   "cell_type": "markdown",
   "metadata": {},
   "source": [
    "### Combine initial functions."
   ]
  },
  {
   "cell_type": "markdown",
   "metadata": {},
   "source": [
    "The initial functions are combined with operations between them until a defined number of initial functions is reached. A number of initial functions were chosen because it will increase the number of individuals as crossover and mutation are applied to the initial functions ('longitud final')."
   ]
  },
  {
   "cell_type": "code",
   "execution_count": 294,
   "metadata": {},
   "outputs": [],
   "source": [
    "def juntar_elementos_inicial(funciones, operaciones, longitud_final=50):\n",
    "    final = []\n",
    "    while len(final) < longitud_final * 3:\n",
    "        random_funcion1 = random.choice(funciones)\n",
    "        random_funcion2 = random.choice(funciones)\n",
    "        random_operador = random.choice(operaciones)\n",
    "\n",
    "        final.append(random_funcion1)\n",
    "        final.append(random_operador)\n",
    "        final.append(random_funcion2)\n",
    "\n",
    "    #Create a list of sublists to represent the rows\n",
    "    resultado_final_inicial = [final[i:i+3] for i in range(0, len(final), 3)]\n",
    "\n",
    "    return resultado_final_inicial\n",
    "\n",
    "# In order to print the initial functions, you can utilize:\n",
    "#for fila in resultado_final_inicial:\n",
    "#    print(fila)\n"
   ]
  },
  {
   "cell_type": "markdown",
   "metadata": {},
   "source": [
    "### Transform the list into a function"
   ]
  },
  {
   "cell_type": "markdown",
   "metadata": {},
   "source": [
    "In order to obtain the $\\chi^2$, convertir_lista_a_str is defined to convert a list of functions (grammar) and strings (operations) into a function. If one function is next to another in the list of functions and operators, it means that the operation between them is composition of functions."
   ]
  },
  {
   "cell_type": "code",
   "execution_count": 295,
   "metadata": {},
   "outputs": [],
   "source": [
    "\n",
    "#The term \"x\" should be enclosed in parentheses to avoid confusion with other occurrences of \"x\" in the string.\n",
    "def a_string(funcion):\n",
    "    if funcion == polix:\n",
    "        return '(x)**(x)'\n",
    "    elif funcion == poli1:\n",
    "        return '((x)+1)'\n",
    "    elif funcion == poli2:\n",
    "        return '(x)**2'\n",
    "    elif funcion == poli3:\n",
    "        return '(x)**3'\n",
    "    for i in range(len(funciones_c)):\n",
    "        if funcion == funciones_c[i]:\n",
    "            return str(coeficientes[i])\n",
    "    else:\n",
    "        return str(funcion)\n",
    "\n",
    "# 'pasar_a_funcion' turn a string into a function.\n",
    "x = symbols('x')\n",
    "def pasar_a_funcion(expresion):\n",
    "    a_sympy = sympify(expresion)\n",
    "    a_python = lambdify(x, a_sympy, 'numpy')\n",
    "    return a_python\n",
    "\n",
    "# composicion takes a list of functions as strings and creates the composition of those.\n",
    "def composicion(lista):\n",
    "    modi_int = a_string(lista[-1])\n",
    "    #print(modi_int)\n",
    "    for i in range(2,len(lista)+1):\n",
    "        modi_ext = a_string(lista[-i])\n",
    "        modi_int = modi_ext.replace('(x)', '('+ modi_int +')' )\n",
    "    return modi_int\n",
    "\n",
    "# convertir_lista_a_str takes a list of \n",
    "def convertir_lista_a_str(lista):\n",
    "    string=''\n",
    "    for i in range(len(lista)):\n",
    "        if callable(lista[i]):\n",
    "            if i != 0 and callable(lista[i - 1]):\n",
    "                string = string\n",
    "            elif i < len(lista) - 1 and callable(lista[i + 1]):\n",
    "                compo = []\n",
    "                for j in range(i, len(lista)):\n",
    "                    if callable(lista[j]):\n",
    "                        compo.append(lista[j])\n",
    "\n",
    "                string += composicion(compo)\n",
    "            \n",
    "            else:  \n",
    "                string += a_string(lista[i])\n",
    "        else:\n",
    "            string += lista[i]\n",
    "\n",
    "    return string\n",
    "\n",
    "#lista_prueba = [poli2, '+', poli1,'-',poli1, poli2, funciones_c[0] ,'-', poli1]\n",
    "#funcion_prueba= convertir_lista_a_str(lista_prueba)\n",
    "#print(funcion_prueba)\n",
    "\n",
    "def convertir_lista_a_funcion(lista):\n",
    "    string = convertir_lista_a_str(lista)\n",
    "    func= pasar_a_funcion(string)\n",
    "    return func\n"
   ]
  },
  {
   "cell_type": "markdown",
   "metadata": {},
   "source": [
    "### Calculate the $\\chi^2$ for the initial population and select the best functions."
   ]
  },
  {
   "cell_type": "markdown",
   "metadata": {},
   "source": [
    "- 'tasa_seleccion' defines the number of best functions that are going to survive.\n",
    "- 'tasa_cruce' defines the number of functions that are going to survive even if they are not the best-fitting ones."
   ]
  },
  {
   "cell_type": "code",
   "execution_count": 296,
   "metadata": {},
   "outputs": [],
   "source": [
    "def mejores(resultado_final, tasa_seleccion = 0.2, tasa_cruce =0.3):\n",
    "    chis =[]\n",
    "    for fila in resultado_final:\n",
    "        a = convertir_lista_a_funcion(fila)\n",
    "        chi_combinaciones = chi_2_f(a)\n",
    "        chis.append(chi_combinaciones)\n",
    "    \n",
    "\n",
    "    # It select the elements to combine\n",
    "    cant_sobrevivientes = tasa_seleccion*len(chis)\n",
    "    cant_sobreviv = int(cant_sobrevivientes)\n",
    "    #print('Cantidad de sobrevientes:' , cant_sobreviv)\n",
    "\n",
    "    # Number of the best elements(functions with the lower $\\chi^2$).\n",
    "    num_elementos = cant_sobreviv\n",
    "    # Obtain the indices and values of the smallest elements in order.\n",
    "    indices_valores_menores = sorted(enumerate(chis), key=lambda x: x[1])[:num_elementos]\n",
    "    # Separate the indices and values into different lists.\n",
    "    indices_menores, valores_menores = zip(*indices_valores_menores)\n",
    "\n",
    "    f_mejores= []\n",
    "    for numero in indices_menores:\n",
    "        f_mejores.append(resultado_final[numero])\n",
    "\n",
    "\n",
    "    ''' \n",
    "    Allowing some offspring, even if less favorable, to survive. \n",
    "    This is because one mutation i may be bad, but the i+1 mutation could be better.\n",
    "    '''\n",
    "\n",
    "    # Get the indices and values of the not-so-small elements in order.    \n",
    "    indices_valores_mayores = sorted(enumerate(chis), key=lambda x: x[1])[num_elementos:]\n",
    "    # Separate the indices and values into different lists.\n",
    "    indices_mayores, valores_mayores = zip(*indices_valores_mayores)\n",
    "    for numero in indices_mayores:\n",
    "        probabilidad = random.random()\n",
    "        if probabilidad < tasa_cruce:\n",
    "            f_mejores.append(resultado_final[numero])\n",
    "\n",
    "    return f_mejores, valores_menores\n"
   ]
  },
  {
   "cell_type": "markdown",
   "metadata": {},
   "source": [
    "### Crossover"
   ]
  },
  {
   "cell_type": "markdown",
   "metadata": {},
   "source": [
    "Combine random parts of the solutions from the parents (composition of functions and addition, multiplication, etc., with each other). \n",
    "\n",
    "The selection is used to let through a certain percentage, which will have to mate and mutate. That is, the number decreases with the selection but increases with the crossover and mutation. For each crossover element, a number offspring are produced as a result of combinations with other parents ('hijos_por_padre').\n",
    "\n",
    "The best element remains constant."
   ]
  },
  {
   "cell_type": "code",
   "execution_count": 297,
   "metadata": {},
   "outputs": [],
   "source": [
    "def a_combinar(padres, hijos_por_padre = 4):\n",
    "    # Create a list with 6 random equations of the best functions to combine.\n",
    "    combinar = [random.choice(padres) for i in range(hijos_por_padre)]\n",
    "\n",
    "    # Separate functions and operations for each function to be combined with the selected one.\n",
    "    combinar_con = []\n",
    "    for k in range(len(combinar)):\n",
    "        # 'funciones_combinar' is a list wih the functions to combine.\n",
    "        funciones_combinar = []\n",
    "        for j in range(len(combinar[k])):\n",
    "            if callable(combinar[k][j]):  # Check if it is a function.\n",
    "                funciones_combinar.append(combinar[k][j])\n",
    "\n",
    "\n",
    "        # For each equation, choose a function from the list of functions for that equation\n",
    "        combinar_con.append(random.choice(funciones_combinar)) # Choose a function from the available ones\n",
    "\n",
    "    return combinar_con\n",
    "\n",
    "\n",
    "\n",
    "def crossover(padres, hijos_por_padre = 4):\n",
    "    hijos = []\n",
    "    hijos.append(padres[0])\n",
    "    for i in range(1, len(padres)):\n",
    "\n",
    "        # If the length of the parents is less than a limit (15), add elements; if it is greater, change elements.\n",
    "        if len(padres[i]) <= 15:\n",
    "            # Add a combined operator and function, a combined function, or replace it with that of another parent for each offspring.\n",
    "            numero_random = [random.randint(0,1) for i in range(hijos_por_padre)]\n",
    "            for k in range(hijos_por_padre):\n",
    "                hijos_ = copy.deepcopy(padres[i])\n",
    "                if numero_random[k] == 0:\n",
    "                    random_operador = random.choice(operaciones)\n",
    "                    hijos_.append(random_operador)\n",
    "                    hijos_.append(a_combinar(padres, hijos_por_padre)[k])\n",
    "                else:\n",
    "                    hijos_.append(a_combinar(padres, hijos_por_padre)[k])\n",
    "            \n",
    "                # Add the offspring to the final list.\n",
    "                hijos.append(hijos_)\n",
    "\n",
    "\n",
    "        else:\n",
    "            for k in range(hijos_por_padre):\n",
    "                hijos_ = copy.deepcopy(padres[i])\n",
    "                random_operador = random.choice(operaciones) \n",
    "                #j is the index of an element in 'hijos_'.\n",
    "                j = random.randint(0, len(hijos_)-1)\n",
    "                if callable(hijos_[j]):\n",
    "                    hijos_[j] = a_combinar(padres, hijos_por_padre)[k]\n",
    "                else:\n",
    "                    hijos_[j] = random_operador\n",
    "                    hijos_[j+1] = a_combinar(padres, hijos_por_padre)[k]\n",
    "                \n",
    "                # Add the offspring to the final list.\n",
    "                hijos.append(hijos_)\n",
    "\n",
    "    return hijos"
   ]
  },
  {
   "cell_type": "markdown",
   "metadata": {},
   "source": [
    "### Mutation"
   ]
  },
  {
   "cell_type": "markdown",
   "metadata": {},
   "source": [
    "- 'tasa_mutación' defines the probability of mutation.\n",
    "\n",
    "This mutates one operation for another and one function for another. The best elements remains constant."
   ]
  },
  {
   "cell_type": "code",
   "execution_count": 298,
   "metadata": {},
   "outputs": [],
   "source": [
    "def mutar(padres, tasa_mutacion= 0.05):\n",
    "    hijos = copy.deepcopy(padres)\n",
    "    for lista in hijos:\n",
    "        for i in range(1, len(lista)):\n",
    "            # Generates a number between 0 y 1\n",
    "            probabilidad = random.random()\n",
    "\n",
    "            # Verifying if the random number is lower than the desired probability\n",
    "            if probabilidad < tasa_mutacion:\n",
    "                if callable(lista[i]):\n",
    "                    lista[i] = random.choice(grammar)\n",
    "                else:\n",
    "                    lista[i] = random.choice(operaciones)\n",
    "    return hijos\n",
    "\n"
   ]
  },
  {
   "cell_type": "markdown",
   "metadata": {},
   "source": [
    "### Recurrence"
   ]
  },
  {
   "cell_type": "code",
   "execution_count": 299,
   "metadata": {},
   "outputs": [
    {
     "name": "stdout",
     "output_type": "stream",
     "text": [
      "generación: 1\n"
     ]
    },
    {
     "name": "stderr",
     "output_type": "stream",
     "text": [
      "<lambdifygenerated-334753>:2: RuntimeWarning: overflow encountered in power\n",
      "  return (x**3*x**(-x)*(x**(3*x))**(x**(3*x)))\n"
     ]
    },
    {
     "name": "stdout",
     "output_type": "stream",
     "text": [
      "generación: 2\n",
      "generación: 3\n",
      "generación: 4\n",
      "generación: 5\n",
      "generación: 6\n",
      "generación: 7\n",
      "generación: 8\n",
      "generación: 9\n",
      "generación: 10\n",
      "generación: 11\n",
      "generación: 12\n",
      "generación: 13\n",
      "generación: 14\n"
     ]
    },
    {
     "name": "stderr",
     "output_type": "stream",
     "text": [
      "<lambdifygenerated-336483>:2: RuntimeWarning: overflow encountered in power\n",
      "  return (x**3*(x**9)**(x**9) + 45.335483822602234*x + 45.335483822602234)\n"
     ]
    },
    {
     "name": "stdout",
     "output_type": "stream",
     "text": [
      "generación: 15\n",
      "generación: 16\n",
      "generación: 17\n",
      "generación: 18\n",
      "generación: 19\n",
      "generación: 20\n",
      "generación: 21\n",
      "El tiempo de ejecución fue: 10.021820545196533 segundos\n"
     ]
    }
   ],
   "source": [
    "chi_por_generaciones = []\n",
    "def recurrencia(gener):\n",
    "    poblacion_inicial = juntar_elementos_inicial(grammar, operaciones, longitud_final= 50)\n",
    "\n",
    "    # Measure the execution time of the function.\n",
    "    inicio_tiempo = time.time() \n",
    "\n",
    "    # Best functions from the initial population.\n",
    "    mejores_inicial = mejores(poblacion_inicial, tasa_seleccion = 0.2, tasa_cruce =0.3)[0]\n",
    "\n",
    "    generaciones =0\n",
    "    while generaciones <= gener:\n",
    "        generaciones +=1\n",
    "                \n",
    "        # Obtain the best functions from the enhanced population.\n",
    "        mejor_func_chi= mejores(mutar(crossover(mejores_inicial, hijos_por_padre= 4),  tasa_mutacion= 0.05), tasa_seleccion = 0.2, tasa_cruce =0.3)\n",
    "\n",
    "        mejores_actual = mejor_func_chi[0]\n",
    "        chi_mejores = mejor_func_chi[1]\n",
    "        mejores_inicial = mejores_actual\n",
    "        \n",
    "        mejores_str = []\n",
    "        for i in range(len(mejores_actual)):\n",
    "            mejores_str.append(convertir_lista_a_str(mejores_actual[i]))\n",
    "\n",
    "        if len(mejores_str)>= 50:\n",
    "            mejores_actual = mejores_actual[:30]\n",
    "            mejores_inicial = mejores_actual\n",
    "\n",
    "\n",
    "        #print(f\"Mejores funciones en esta iteración: {mejores_str}\")\n",
    "        #print(f\"Largo mejores funciones en esta iteración: {len(mejores_str)}\")\n",
    "        #print(f\"Chi^2: {chi_mejores}\")\n",
    "        print(f\"generación: {generaciones}\")\n",
    "        \n",
    "        # The best chi value for each generation is added to a list.\n",
    "        chi_por_generaciones.append(chi_mejores[0])\n",
    "        #print(f\"Chi^2 por generación: {chi_por_generaciones}\")\n",
    "\n",
    "    fin_tiempo = time.time()\n",
    "\n",
    "    tiempo_total = fin_tiempo - inicio_tiempo\n",
    "    print(f\"El tiempo de ejecución fue: {tiempo_total} segundos\")\n",
    "\n",
    "    return mejores_str, chi_por_generaciones\n",
    "\n",
    "# 'generaciones_evaluar' are the number of generations for the algorithm.\n",
    "generaciones_evaluar = 20\n",
    "recu = recurrencia(generaciones_evaluar)\n"
   ]
  },
  {
   "cell_type": "code",
   "execution_count": 300,
   "metadata": {},
   "outputs": [
    {
     "name": "stdout",
     "output_type": "stream",
     "text": [
      "['((x)+1)*((x)+1)/0.1501842098271845+((0.022967513114192983)+1)+((x)+1)/0.022967513114192983', '((x)+1)*((x)+1)/0.1501842098271845-0.1501842098271845+((x)+1)/(0.1501842098271845)**2', '((x)+1)*((x)+1)/0.1501842098271845-0.1501842098271845+((x)+1)/(0.1501842098271845)**2', '((x)+1)*((x)+1)/0.1501842098271845+0.1501842098271845+((x)+1)/0.022967513114192983', '((x)+1)*((x)+1)/0.1501842098271845-(0.1501842098271845)**2+((x)+1)/0.022967513114192983', '((x)+1)*((x)+1)/0.1501842098271845-0.022967513114192983+((x)+1)/0.022967513114192983', '((x)+1)*((x)+1)/0.1501842098271845-0.022967513114192983+((x)+1)/0.022967513114192983', '((x)+1)*((x)+1)/0.1501842098271845-0.022967513114192983+((x)+1)/0.022967513114192983', '((x)+1)*((x)+1)/0.1501842098271845-0.022967513114192983+((x)+1)/0.022967513114192983', '((x)+1)*((x)+1)/0.1501842098271845-0.022967513114192983+((x)+1)/0.022967513114192983', '((x)+1)*((x)+1)/0.1501842098271845-0.1501842098271845+((x)+1)/0.022967513114192983', '((x)+1)*((x)+1)/0.1501842098271845-0.1501842098271845+((x)+1)/0.022967513114192983', '((x)+1)*((x)+1)/0.1501842098271845-0.1501842098271845+((x)+1)/0.022967513114192983', '((x)+1)*((x)+1)/0.1501842098271845-0.1501842098271845+((x)+1)/0.022967513114192983', '((x)+1)*((x)+1)/0.1501842098271845-0.1501842098271845+((x)+1)/0.022967513114192983', '((x)+1)*((x)+1)/0.1501842098271845-0.1501842098271845+((x)+1)/0.022967513114192983', '((x)+1)*((x)+1)/0.1501842098271845-0.1501842098271845+((x)+1)/0.022967513114192983', '((x)+1)*((x)+1)/0.1501842098271845-0.1501842098271845+((x)+1)/0.022967513114192983', '((x)+1)*((x)+1)/0.1501842098271845-0.1501842098271845+((x)+1)/0.022967513114192983', '((x)+1)*((x)+1)/0.1501842098271845-0.1501842098271845+((x)+1)/0.022967513114192983', '((x)+1)*((x)+1)/0.1501842098271845-0.1501842098271845+((x)+1)/0.022967513114192983', '((x)+1)*((x)+1)/0.1501842098271845-0.1501842098271845+((x)+1)/0.022967513114192983', '((x)+1)*((x)+1)/0.1501842098271845-0.1501842098271845+((x)+1)/0.022967513114192983', '((x)+1)*((x)+1)/0.1501842098271845-0.1501842098271845+((x)+1)/0.022967513114192983', '((x)+1)*((x)+1)/0.1501842098271845-0.1501842098271845+((x)+1)/0.022967513114192983', '((x)+1)*((x)+1)/0.1501842098271845-0.1501842098271845+((x)+1)/0.022967513114192983', '((x)+1)*((x)+1)/0.1501842098271845-0.1501842098271845+((x)+1)/0.022967513114192983', '((x)+1)*((x)+1)/0.1501842098271845-0.1501842098271845+((x)+1)/0.022967513114192983', '((x)+1)*((x)+1)/0.1501842098271845-0.23447810931007473+((x)+1)/0.022967513114192983', '((x)+1)*((x)+1)/0.1501842098271845-0.23447810931007473+((x)+1)/0.022967513114192983', '((x)+1)*((x)+1)/0.1501842098271845-0.2507454665563802+((x)+1)/0.022967513114192983', '((x)+1)*((x)+1)/0.1501842098271845-(0.2507454665563802)**(0.2507454665563802)+((x)+1)/0.022967513114192983', '((x)+1)*((x)+1)/0.1501842098271845-((0.1501842098271845)+1)+((x)+1)/0.022967513114192983', '((x)+1)*((x)+1)/0.1501842098271845-((0.23447810931007473)+1)+((x)+1)/0.022967513114192983', '(x)**2*((x)+1)/0.1501842098271845-0.1501842098271845+((x)+1)/0.022967513114192983', '((x)+1)*((x)+1)+((x)+1)-0.1501842098271845+((x)+1)/0.022967513114192983', '((x)+1)*((x)+1)+((x)+1)-0.1501842098271845+((x)+1)/0.022967513114192983', '((x)+1)*((x)+1)+0.022967513114192983+0.1501842098271845+((x)+1)/0.022967513114192983', '((x)+1)*((x)+1)/0.1501842098271845*0.1501842098271845+((x)+1)/0.022967513114192983', '((x)+1)+0.1501842098271845/0.1501842098271845-0.23447810931007473+((x)+1)/0.022967513114192983', '((x)+1)+0.022967513114192983/0.1501842098271845-0.1501842098271845+((x)+1)/0.022967513114192983', '((x)+1)*((x)+1)-((x)+1)-0.1501842098271845+((x)+1)/0.022967513114192983', '((x)+1)*0.1501842098271845/0.1501842098271845-0.23447810931007473+((x)+1)/0.022967513114192983', '0.1501842098271845*((x)+1)/0.1501842098271845-0.23447810931007473+((x)+1)/0.022967513114192983', '((x)+1)*((x)+1)*0.022967513114192983+0.1501842098271845+((x)+1)/0.022967513114192983', '((x)+1)-((x)+1)/0.1501842098271845-0.1501842098271845+((x)+1)/0.022967513114192983', '((x)+1)/0.1501842098271845/0.1501842098271845+((((((((0.022967513114192983)+1))+1))+1))+1)+((x)+1)/0.022967513114192983', '((x)+1)*((x)+1)*0.1501842098271845+0.1501842098271845/0.1501842098271845/0.022967513114192983', '((x)+1)*((x)+1)/0.1501842098271845-0.022967513114192983+0.23447810931007473/0.022967513114192983', '((x)+1)*((x)+1)/0.1501842098271845-0.1501842098271845+0.1501842098271845/0.022967513114192983', '((x)+1)*((x)+1)/0.1501842098271845+((0.022967513114192983)+1)+((x)+1)*(((((0.1501842098271845)+1))**2)+1)', '((x)+1)*((x)+1)/0.1501842098271845+((0.022967513114192983)+1)+((x)+1)/0.5837019120518755', '((x)+1)*((x)+1)/0.1501842098271845-0.23447810931007473+((x)+1)/0.5837019120518755', '((x)+1)*((x)+1)/0.1501842098271845+0.1501842098271845+((x)+1)*((0.1501842098271845)+1)', '((x)+1)*((x)+1)/0.1501842098271845+0.1501842098271845+((x)+1)+0.022967513114192983', '((x)+1)*((x)+1)/0.1501842098271845-0.022967513114192983+((x)+1)-0.022967513114192983', '((x)+1)*((x)+1)/0.1501842098271845+((0.022967513114192983)+1)+0.1501842098271845/((((0.1501842098271845)+1))**2)**3', '((x)+1)*((x)+1)/0.1501842098271845-0.022967513114192983+0.022967513114192983/0.022967513114192983', '((x)+1)*((x)+1)/0.1501842098271845-0.1501842098271845+0.022967513114192983/0.022967513114192983', '((x)+1)*((x)+1)/0.022967513114192983-0.23447810931007473+((x)+1)/0.022967513114192983']\n",
      "Menor chi^2: 60.23885794053919\n"
     ]
    },
    {
     "data": {
      "image/png": "[encoded data removed]",
      "text/plain": [
       "<Figure size 432x288 with 1 Axes>"
      ]
     },
     "metadata": {
      "needs_background": "light"
     },
     "output_type": "display_data"
    }
   ],
   "source": [
    "# 'funciones_finales' is a list with all the functions that best fit the data as a strings.\n",
    "funciones_finales = recu[0]\n",
    "# 'chis_finales' is a list with the minimum values of $\\chi^2$.\n",
    "chis_finales = recu[1]\n",
    "print(funciones_finales)\n",
    "print(f\"Menor chi^2: {recu[1][-1]}\")\n",
    "\n",
    "z_chis= np.linspace(0, generaciones_evaluar, generaciones_evaluar + 1)\n",
    "plt.xlabel('$ generations $')\n",
    "plt.ylabel('$ \\chi^2 $')\n",
    "plt.title('Minimum $\\chi^2$ for each generation')\n",
    "plt.plot(z_chis,chis_finales, color = 'blue')\n",
    "plt.grid(True)\n",
    "plt.show()"
   ]
  },
  {
   "cell_type": "code",
   "execution_count": 301,
   "metadata": {},
   "outputs": [],
   "source": [
    "'''\n",
    "In order to graph the theoretical function, H(z) is defined.\n",
    "'''\n",
    "\n",
    "#Parameters\n",
    "omega_r = 8.4e-5\n",
    "omega_l = 0.7 - omega_r\n",
    "omega_0 = 1\n",
    "omega_m = 0.3\n",
    "omega_k = 1 - omega_m - omega_r - omega_l\n",
    "\n",
    "H_0= 70\n",
    "\n",
    "\n",
    "#Creating the theoretical function\n",
    "array_z = np.array(z)\n",
    "\n",
    "def H_t(z):\n",
    "    return H_0* ((omega_r * (1+z)**4) + omega_m * (1+z)**3 + omega_l + omega_k* (1+z)**2)**(1/2)"
   ]
  },
  {
   "cell_type": "code",
   "execution_count": 302,
   "metadata": {},
   "outputs": [
    {
     "data": {
      "image/png": "[encoded data removed]",
      "text/plain": [
       "<Figure size 432x288 with 1 Axes>"
      ]
     },
     "metadata": {
      "needs_background": "light"
     },
     "output_type": "display_data"
    }
   ],
   "source": [
    "# Obtaining the best fit functions.\n",
    "best_fit = []\n",
    "for string in funciones_finales:\n",
    "    a= pasar_a_funcion(string)\n",
    "    best_fit.append(a)\n",
    "\n",
    "yerr = desv\n",
    "plt.xlabel('$ z $')\n",
    "plt.ylabel('$ H(z)$ $[km/s/Mpc] $')\n",
    "plt.title('Hubble parameter')\n",
    "\n",
    "omega_0 = 1\n",
    "omega_k = 1 - omega_0\n",
    "plt.plot(array_z, H_t(array_z), color = 'purple', label='Theoretical function for a flat universe')\n",
    "plt.plot(z, best_fit[0](z), label= 'Best fit function')\n",
    "#plt.plot(z, best_fit[1](z), label= 'Best fit function 2')\n",
    "#plt.plot(z, best_fit[2](z), label= 'Best fit function 3')\n",
    "#plt.plot(z, best_fit[3](z), label= 'Best fit function 4')\n",
    "\n",
    "plt.errorbar(z, H, yerr=yerr, fmt='.', color = 'orange', label = 'Data')\n",
    "plt.legend()\n",
    "plt.grid(True)\n",
    "plt.show()\n"
   ]
  },
  {
   "cell_type": "code",
   "execution_count": 303,
   "metadata": {},
   "outputs": [
    {
     "name": "stdout",
     "output_type": "stream",
     "text": [
      "Ecuación final obtenida: ((x)+1)*((x)+1)/0.1501842098271845+((0.022967513114192983)+1)+((x)+1)/0.022967513114192983\n",
      "Ecuación final simplificada: 6.6584896052034379*x**2 + 56.85673882774398*x + 51.221216735654735\n"
     ]
    }
   ],
   "source": [
    "# Deriving the best-fit function as a string.\n",
    "ec_final = funciones_finales[0]\n",
    "x = symbols('x')\n",
    "a_sympy = sympify(ec_final)\n",
    "# Simplifying the ecuation\n",
    "a_simpli = simplify(a_sympy)\n",
    "a_python = lambdify(x, a_simpli, 'numpy')\n",
    "\n",
    "print(\"Ecuación final obtenida:\", ec_final)\n",
    "print(\"Ecuación final simplificada:\",a_simpli)"
   ]
  }
 ],
 "metadata": {
  "kernelspec": {
   "display_name": "base",
   "language": "python",
   "name": "python3"
  },
  "language_info": {
   "codemirror_mode": {
    "name": "ipython",
    "version": 3
   },
   "file_extension": ".py",
   "mimetype": "text/x-python",
   "name": "python",
   "nbconvert_exporter": "python",
   "pygments_lexer": "ipython3",
   "version": "3.8.8"
  }
 },
 "nbformat": 4,
 "nbformat_minor": 2
}
